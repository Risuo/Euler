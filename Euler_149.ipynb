{
  "nbformat": 4,
  "nbformat_minor": 0,
  "metadata": {
    "colab": {
      "name": "Euler 149",
      "version": "0.3.2",
      "provenance": [],
      "collapsed_sections": [],
      "include_colab_link": true
    },
    "kernelspec": {
      "name": "python3",
      "display_name": "Python 3"
    }
  },
  "cells": [
    {
      "cell_type": "markdown",
      "metadata": {
        "id": "view-in-github",
        "colab_type": "text"
      },
      "source": [
        "<a href=\"https://colab.research.google.com/github/Risuo/Euler/blob/master/Euler_149.ipynb\" target=\"_parent\"><img src=\"https://colab.research.google.com/assets/colab-badge.svg\" alt=\"Open In Colab\"/></a>"
      ]
    },
    {
      "metadata": {
        "id": "6wfZH8cjj2g_",
        "colab_type": "code",
        "colab": {}
      },
      "cell_type": "code",
      "source": [
        "import numpy as np\n",
        "import pandas as pd"
      ],
      "execution_count": 0,
      "outputs": []
    },
    {
      "metadata": {
        "id": "Hx7NylCZmGz4",
        "colab_type": "code",
        "outputId": "ba6c98bb-a574-48ff-a82a-448bd1a66cd8",
        "colab": {
          "base_uri": "https://localhost:8080/",
          "height": 51
        }
      },
      "cell_type": "code",
      "source": [
        "t = {}\n",
        "\n",
        "for k in range(1,56):\n",
        "  a = ((100003 - 200003*k + 300007*k**3)%1000000)-500000\n",
        "  t[k] = a\n",
        "\n",
        "for k in range(56,4000001):\n",
        "  t1 = k-24\n",
        "  t2 = k-55\n",
        "  a = ((t[t1] + t[t2] + 1000000)%1000000)-500000\n",
        "  t[k] = a\n",
        "\n",
        "print(t[10], t[100])\n",
        "print(max(t))\n",
        "\n"
      ],
      "execution_count": 0,
      "outputs": [
        {
          "output_type": "stream",
          "text": [
            "-393027 86613\n",
            "4000000\n"
          ],
          "name": "stdout"
        }
      ]
    },
    {
      "metadata": {
        "id": "kDlDFSTelxGI",
        "colab_type": "code",
        "colab": {}
      },
      "cell_type": "code",
      "source": [
        "arr = []\n",
        "for a in range(1,4000001):\n",
        "  arr.append(t[a])"
      ],
      "execution_count": 0,
      "outputs": []
    },
    {
      "metadata": {
        "id": "buC4tkmItP0f",
        "colab_type": "code",
        "outputId": "3cae5d09-e6ed-4d0d-f6a7-829457cdf852",
        "colab": {
          "base_uri": "https://localhost:8080/",
          "height": 68
        }
      },
      "cell_type": "code",
      "source": [
        "print(arr[0],arr[9],arr[99])\n",
        "print(len(arr))\n",
        "print(arr[3999999])"
      ],
      "execution_count": 0,
      "outputs": [
        {
          "output_type": "stream",
          "text": [
            "-299993 -393027 86613\n",
            "4000000\n",
            "442141\n"
          ],
          "name": "stdout"
        }
      ]
    },
    {
      "metadata": {
        "id": "C_acpyFDnzdV",
        "colab_type": "code",
        "outputId": "425ddb9d-f805-4000-b761-719a0f973a36",
        "colab": {
          "base_uri": "https://localhost:8080/",
          "height": 85
        }
      },
      "cell_type": "code",
      "source": [
        "arr2 = []\n",
        "st = []\n",
        "\n",
        "count = 0\n",
        "\n",
        "\n",
        "for cell in arr:\n",
        "  #if cell == 0:\n",
        "  #  print('got a zero')\n",
        "  st.append(cell)\n",
        "  count += 1\n",
        "  if count == 2000:\n",
        "    arr2.append(st)\n",
        "    st = []\n",
        "    count = 0\n"
      ],
      "execution_count": 0,
      "outputs": [
        {
          "output_type": "stream",
          "text": [
            "got a zero\n",
            "got a zero\n",
            "got a zero\n",
            "got a zero\n"
          ],
          "name": "stdout"
        }
      ]
    },
    {
      "metadata": {
        "id": "VfCkTCaBs8qm",
        "colab_type": "code",
        "outputId": "84df67bd-7887-4010-e7e2-f37280fb623a",
        "colab": {
          "base_uri": "https://localhost:8080/",
          "height": 102
        }
      },
      "cell_type": "code",
      "source": [
        "print(arr2[0][9],\": 10th cell\") # 10th cell\n",
        "print(arr2[0][99],\": 100th cell\")# 100th cell\n",
        "print(\"The below 4 are the 4 corners of the table:\")\n",
        "print(arr2[0][0],arr2[0][1999]) # first cell (top left) and 2000th cell (top right)\n",
        "print(arr2[1999][0],arr2[1999][1999])# 3998001th cell (bottom left) and 4000000th cell (bottom right)\n",
        "\n"
      ],
      "execution_count": 0,
      "outputs": [
        {
          "output_type": "stream",
          "text": [
            "-393027 : 10th cell\n",
            "86613 : 100th cell\n",
            "The below 4 are the 4 corners of the table:\n",
            "-299993 33039\n",
            "319933 442141\n"
          ],
          "name": "stdout"
        }
      ]
    },
    {
      "metadata": {
        "id": "Vcm7WS_muRq8",
        "colab_type": "code",
        "colab": {}
      },
      "cell_type": "code",
      "source": [
        "def rowMax(table):\n",
        "  cSumMax = 0\n",
        "  for a in table:\n",
        "    if sum(a) >= cSumMax:\n",
        "      cSumMax = sum(a)\n",
        "      print(cSumMax,a)\n",
        "  return cSumMax\n",
        "\n",
        "print(rowMax(arr2))\n"
      ],
      "execution_count": 0,
      "outputs": []
    },
    {
      "metadata": {
        "id": "FfL62EzasOmY",
        "colab_type": "code",
        "colab": {}
      },
      "cell_type": "code",
      "source": [
        "test = [[-2,5,3,2],\n",
        "        [9,-6,5,1],\n",
        "        [3,2,7,3],\n",
        "        [-1,8,-4,8]]\n",
        "\n",
        "def sumColumns(table):\n",
        "  column = -1\n",
        "  length = len(table[0])\n",
        "  rSumMax = 0\n",
        "  currentCol = []\n",
        "  for a in range(length): #first row\n",
        "    rSum = 0\n",
        "    tempCol = []\n",
        "    for b in table:\n",
        "      rSum += b[a]\n",
        "      tempCol.append(b[a])\n",
        "    if rSum >= rSumMax:\n",
        "      rSumMax = rSum\n",
        "      currentCol = tempCol\n",
        "      #print(rSumMax,a,tempCol)\n",
        "  return rSumMax,currentCol"
      ],
      "execution_count": 0,
      "outputs": []
    },
    {
      "metadata": {
        "id": "U9T2FniiOg1W",
        "colab_type": "code",
        "colab": {}
      },
      "cell_type": "code",
      "source": [
        "def sumPos(row):\n",
        "  tot = 0\n",
        "  count = 0\n",
        "  for a in row:\n",
        "    if a > 0:\n",
        "      tot += a\n",
        "      count += 1\n",
        "  return tot\n",
        "\n",
        "def sumNeg(row):\n",
        "  tot = 0\n",
        "  count = 0\n",
        "  for a in row:\n",
        "    if a < 0:\n",
        "      tot -= a\n",
        "      count += 1\n",
        "  return -tot\n",
        "\n"
      ],
      "execution_count": 0,
      "outputs": []
    },
    {
      "metadata": {
        "id": "kkqonefYOg_P",
        "colab_type": "code",
        "colab": {}
      },
      "cell_type": "code",
      "source": [
        "#CELL = [][#]   ROW = [#][]\n",
        "#CELL = [][#]   ROW = [#][]\n",
        "#CELL = [][#]   ROW = [#][]\n",
        "\n",
        "#     0    1    2    3    4\n",
        "# 0 [0,0][0,1][0,2][0,3][0,4]\n",
        "# 1 [1,0][1,1][1,2][1,3][1,4]\n",
        "# 2 [2,0][2,1][2,2][2,3][2,4]\n",
        "# 3 [3,0][3,1][3,2][3,3][3,4]\n",
        "\n",
        "test = [[-2, 5, 3, 2, 9,-6, 5, 1],\n",
        "        [ 9,-6, 5, 1, 3, 2, 7, 3],\n",
        "        [ 3, 2, 7, 3,-1, 8,-4, 8],\n",
        "        [-1, 8,-4, 8,-2, 5, 3, 2],\n",
        "        [-1, 8,-4, 8,-2, 5, 3, 2],\n",
        "        [ 3, 2, 7, 3,-1, 8,-4, 8],\n",
        "        [-2, 5, 3, 2, 9,-6, 5, 1],\n",
        "        [ 3, 2, 7, 3,-1, 8,-4, 8],]\n",
        "\n",
        "# The max is the diagonal 8+7+1, the cells: [3][1], [2][2], [1][3]\n"
      ],
      "execution_count": 0,
      "outputs": []
    },
    {
      "metadata": {
        "id": "K73HTOd7gFes",
        "colab_type": "code",
        "colab": {}
      },
      "cell_type": "code",
      "source": [
        "def colCreate(table): #This creates a table of all the columns reset as rows\n",
        "  length = len(table[0])\n",
        "  colTable = []\n",
        "  for a in range(length): #first row\n",
        "    tempCol = []\n",
        "    for b in table:\n",
        "      #if b[a] != 0:\n",
        "      tempCol.append(b[a])\n",
        "    colTable.append(tempCol)\n",
        "  return colTable"
      ],
      "execution_count": 0,
      "outputs": []
    },
    {
      "metadata": {
        "id": "GG107z2IgFsj",
        "colab_type": "code",
        "colab": {}
      },
      "cell_type": "code",
      "source": [
        "def obliqueACreate(table): #This creates a table of all the / rows\n",
        "    # rowVar will cycle downwards by 1, the colVar will cycle upwards by 1 (oblique in the North-Easterly line, / ) example: [3,1], [2,2], [1,3] = 8, 7, 1\n",
        "  length = len(table[0])\n",
        "  obATable = []\n",
        "  for a in range(length): # this selects the row, and by extension, the start of our oblique line\n",
        "    tempArr = []\n",
        "    rowVar = a\n",
        "    colVar = 0\n",
        "    for b in range(rowVar+1):\n",
        "      while rowVar >= 0:\n",
        "        tempArr.append(table[rowVar][colVar])\n",
        "        rowVar -= 1\n",
        "        colVar += 1\n",
        "    obATable.append(tempArr) # the above produces the first half of the /, starting at each cell within the first column\n",
        "  for a in range(1,length):  # the below produces the second half of the /, starting at the second cell within the last row\n",
        "    rowVar = length-1\n",
        "    colVar = a\n",
        "    tempArr = []\n",
        "    while colVar < length:\n",
        "      tempArr.append(table[rowVar][colVar])\n",
        "      rowVar -= 1\n",
        "      colVar += 1\n",
        "    obATable.append(tempArr)\n",
        "  return obATable"
      ],
      "execution_count": 0,
      "outputs": []
    },
    {
      "metadata": {
        "id": "aebBJ02Dj_lG",
        "colab_type": "code",
        "colab": {}
      },
      "cell_type": "code",
      "source": [
        "def obliqueBCreate(table):\n",
        "  length = len(table[0])\n",
        "  obBTable = []\n",
        "  for a in range(length-1,-1,-1):\n",
        "    #print(a)\n",
        "    #print(table[0][a]) This correctly runs from the last entry within row 0, through to the first entry, i.e., [0][length-1], [0][length-2], ... [0][0]\n",
        "    tempArr = []\n",
        "    rowVar = 0\n",
        "    colVar = a\n",
        "    var = length-colVar\n",
        "    for b in range(var):\n",
        "      tempArr.append(table[rowVar][colVar])\n",
        "      rowVar += 1\n",
        "      colVar += 1\n",
        "    obBTable.append(tempArr)\n",
        "  for a in range(1,length):\n",
        "    tempArr = []\n",
        "    rowVar = a\n",
        "    colVar = 0\n",
        "    var = length-rowVar\n",
        "    for b in range(var):\n",
        "      tempArr.append(table[rowVar][colVar])\n",
        "      rowVar += 1\n",
        "      colVar += 1\n",
        "    obBTable.append(tempArr)\n",
        "  return obBTable\n"
      ],
      "execution_count": 0,
      "outputs": []
    },
    {
      "metadata": {
        "id": "ePDUgi_OgQO4",
        "colab_type": "code",
        "outputId": "e5b23b92-32e9-4605-fc64-118c98e920c8",
        "colab": {
          "base_uri": "https://localhost:8080/",
          "height": 102
        }
      },
      "cell_type": "code",
      "source": [
        "test2 = [[-2, 5, 3, 2],\n",
        "         [ 9,0, 5, 1],\n",
        "         [ 3, 2, 7, 3],\n",
        "         [-1, 8,-4, 8]]\n",
        "\n",
        "\n",
        "base = test2\n",
        "print(base)\n",
        "a = colCreate(test2)\n",
        "print(a)\n",
        "b = obliqueACreate(test2)\n",
        "print(b)\n",
        "c = obliqueBCreate(test2)\n",
        "print(c)\n",
        "print(test2)\n"
      ],
      "execution_count": 0,
      "outputs": [
        {
          "output_type": "stream",
          "text": [
            "[[-2, 5, 3, 2], [9, 0, 5, 1], [3, 2, 7, 3], [-1, 8, -4, 8]]\n",
            "[[-2, 9, 3, -1], [5, 0, 2, 8], [3, 5, 7, -4], [2, 1, 3, 8]]\n",
            "[[-2], [9, 5], [3, 0, 3], [-1, 2, 5, 2], [8, 7, 1], [-4, 3], [8]]\n",
            "[[2], [3, 1], [5, 5, 3], [-2, 0, 7, 8], [9, 2, -4], [3, 8], [-1]]\n",
            "[[-2, 5, 3, 2], [9, 0, 5, 1], [3, 2, 7, 3], [-1, 8, -4, 8]]\n"
          ],
          "name": "stdout"
        }
      ]
    },
    {
      "metadata": {
        "id": "BV6hnWLPDSfz",
        "colab_type": "code",
        "colab": {}
      },
      "cell_type": "code",
      "source": [
        "def combine(table):\n",
        "  rows = table\n",
        "  #print(table,\"1\")\n",
        "  cols = colCreate(table)\n",
        "  #print(table,\"2\")\n",
        "  obA  = obliqueACreate(table)\n",
        "  #print(table,\"3\")\n",
        "  obB  = obliqueBCreate(table)\n",
        "  #print(table,\"4\")\n",
        "  \n",
        "  #print(len(rows),len(cols),len(obA),len(obB))\n",
        "  \n",
        "  totalA = []\n",
        "  for d in rows:\n",
        "    totalA.append(d)\n",
        "  for a in rows:\n",
        "    b = a[::-1]\n",
        "    totalA.append(b)\n",
        "  \n",
        "  for a in cols:\n",
        "    totalA.append(a)\n",
        "  for b in cols:\n",
        "    c = b[::-1]\n",
        "    totalA.append(c)\n",
        "\n",
        "  for b in obA:\n",
        "    totalA.append(b)\n",
        "  for c in obA:\n",
        "    d = c[::-1]\n",
        "    totalA.append(d)\n",
        "  \n",
        "  for c in obB:\n",
        "    totalA.append(c)\n",
        "  for d in obB:\n",
        "    e = d[::-1]\n",
        "    totalA.append(e)\n",
        "\n",
        "  totalB = []\n",
        "  \n",
        "  for row in totalA:\n",
        "    rowB = []\n",
        "    for cell in row:\n",
        "      if cell != 0:\n",
        "        rowB.append(cell)\n",
        "      else:\n",
        "        continue\n",
        "    totalB.append(rowB)\n",
        "\n",
        "  return totalB\n"
      ],
      "execution_count": 0,
      "outputs": []
    },
    {
      "metadata": {
        "id": "PnGZmHVag6M2",
        "colab_type": "code",
        "colab": {}
      },
      "cell_type": "code",
      "source": [
        "test2 = [[-2, 5, 3, 2],\n",
        "         [ 9,0, 5, 1],\n",
        "         [ 3, 2, 7, 3],\n",
        "         [-1, 8,-4, 8]]\n",
        "\n",
        "aCount = -1\n",
        "base = test2\n",
        "for row in base:\n",
        "  aCount += 1\n",
        "  print(row,aCount)\n",
        "a = colCreate(test2)\n",
        "for row in a:\n",
        "  aCount += 1\n",
        "  print(row,aCount)\n",
        "b = obliqueACreate(test2)\n",
        "for row in b:\n",
        "  aCount += 1\n",
        "  print(row,aCount)\n",
        "c = obliqueBCreate(test2)\n",
        "for row in c:\n",
        "  aCount += 1\n",
        "  print(row,aCount)\n",
        "print(\"And now the combine/reverse test\")\n",
        "d = combine(test2)\n",
        "count = -1\n",
        "for row in d:\n",
        "  count += 1\n",
        "  print(row,count)\n"
      ],
      "execution_count": 0,
      "outputs": []
    },
    {
      "metadata": {
        "id": "2U5vHrrKkA5J",
        "colab_type": "code",
        "colab": {}
      },
      "cell_type": "code",
      "source": [
        "def combineLikeTerms(table):\n",
        "  # 0 = negative\n",
        "  # 1 = positive\n",
        "  #print(\"Expanded Table:\",table)\n",
        "  reducedTable = []\n",
        "  for row in table:\n",
        "    reducedRow = []\n",
        "    length = len(row)\n",
        "    if row[0] < 0:\n",
        "      signA = -1\n",
        "    else:\n",
        "      signA = 1\n",
        "    currentSum = 0\n",
        "    for cell in range(length):\n",
        "      #print(\"current cell:\",row[cell],\"currentSign:\",signA,\"currentSum:\",currentSum)\n",
        "      if row[cell] <= 0:\n",
        "        signB = -1\n",
        "      else:\n",
        "        signB = 1\n",
        "      #print(\"sign of current cell:\",signB)\n",
        "      #print(\"signA:\",signA,\"signB:\",signB,\"row[cell]\",row[cell])\n",
        "      if signA == signB:\n",
        "        #print(\"signA == signB\")\n",
        "        #print(\"currentSum:\",currentSum,\"is to be added to row[cell]\",row[cell])\n",
        "        currentSum += row[cell]\n",
        "        signA = signB\n",
        "        #print(\"currentSum is now:\",currentSum)\n",
        "        if cell == length-1:\n",
        "          reducedRow.append(currentSum)\n",
        "      else:\n",
        "        reducedRow.append(currentSum)\n",
        "        currentSum = row[cell]\n",
        "        if cell == length-1:\n",
        "          reducedRow.append(currentSum)\n",
        "        #print(\"signA:\",signA,\"signB:\",signB,\"This is within the else loop\")\n",
        "        signA = signB\n",
        "    reducedTable.append(reducedRow)\n",
        "  return reducedTable\n",
        "        \n",
        "      \n",
        "      \n",
        "      "
      ],
      "execution_count": 0,
      "outputs": []
    },
    {
      "metadata": {
        "id": "2_cGxI0Zl7-a",
        "colab_type": "code",
        "colab": {}
      },
      "cell_type": "code",
      "source": [
        "test2 = [[-2, 5, 3, 2],\n",
        "         [ 9,-6, 5, 1],\n",
        "         [ 3, 2, 7, 3],\n",
        "         [1, -8,4, -8]]\n",
        "# There needs to be a primary sum (first collection), and a secondary sum (second collection) and when the secondary sum is > the primary sum, the secondary sum becomes the primary sum, and repeat.\n",
        "# The break point is , in the example below, [0][3], which is > the primary sum (first collection, [0][0]:[0][2]) and needs to establish a new start to the primary sum, namely [0][3]\n",
        "test3 = [[ 27,-29,-3,80],\n",
        "         [ 9,-6, 5, 1],\n",
        "         [ 3, 2, 7, 3],\n",
        "         [-1, 8,-4, 8]]\n",
        "\n",
        "def rowMax(row):\n",
        "  pass\n",
        "\n",
        "A = (combineLikeTerms(test2))\n",
        "B = (combineLikeTerms(test3))\n",
        "\n",
        "\n"
      ],
      "execution_count": 0,
      "outputs": []
    },
    {
      "metadata": {
        "id": "Dtcq-Wa8Et7a",
        "colab_type": "code",
        "outputId": "e0957ba4-9582-4407-f600-034a6168f32d",
        "colab": {
          "base_uri": "https://localhost:8080/",
          "height": 85
        }
      },
      "cell_type": "code",
      "source": [
        "arr2 = []\n",
        "st = []\n",
        "\n",
        "count = 0\n",
        "\n",
        "\n",
        "for cell in arr:\n",
        "  if cell == 0:\n",
        "    print('got a zero')\n",
        "  st.append(cell)\n",
        "  count += 1\n",
        "  if count == 2000:\n",
        "    arr2.append(st)\n",
        "    st = []\n",
        "    count = 0"
      ],
      "execution_count": 0,
      "outputs": [
        {
          "output_type": "stream",
          "text": [
            "got a zero\n",
            "got a zero\n",
            "got a zero\n",
            "got a zero\n"
          ],
          "name": "stdout"
        }
      ]
    },
    {
      "metadata": {
        "id": "u65r-2Ku89Na",
        "colab_type": "code",
        "outputId": "13e7ab45-74b0-40d3-c2b8-a335f1724028",
        "colab": {
          "base_uri": "https://localhost:8080/",
          "height": 51
        }
      },
      "cell_type": "code",
      "source": [
        "arr3 = combine(arr2)\n",
        "print(len(arr3))\n",
        "arrSim1 = combineLikeTerms(arr3)\n",
        "print(len(arrSim1))\n"
      ],
      "execution_count": 0,
      "outputs": [
        {
          "output_type": "stream",
          "text": [
            "23996\n",
            "23996\n"
          ],
          "name": "stdout"
        }
      ]
    },
    {
      "metadata": {
        "id": "VCsJRTYGyN5L",
        "colab_type": "code",
        "colab": {}
      },
      "cell_type": "code",
      "source": [
        "print(len(arr2[0]))\n",
        "print(len(arrSim1[0]))\n",
        "print(arr2[4])\n",
        "print(arrSim1[4])"
      ],
      "execution_count": 0,
      "outputs": []
    },
    {
      "metadata": {
        "id": "qPUreKxc9r8z",
        "colab_type": "code",
        "outputId": "f204bd1d-4833-48a4-9c7d-adf3b14e7a65",
        "colab": {
          "base_uri": "https://localhost:8080/",
          "height": 34
        }
      },
      "cell_type": "code",
      "source": [
        "def rowMax(table):\n",
        "  fullMax = 0\n",
        "  #table = combineLikeTerms(table)\n",
        "  #print(table)\n",
        "  count = -1\n",
        "  for row in table:\n",
        "    count += 1\n",
        "    #print(row)\n",
        "    length = len(row)\n",
        "    if row[0] < 0:\n",
        "      indexA1 = 1\n",
        "      current = 2\n",
        "    else:\n",
        "      indexA1 = 0\n",
        "      current = 1\n",
        "    tempSum = sum(row[indexA1:indexA1+current])\n",
        "    #print(tempSum)\n",
        "    for cell in range(length-1):\n",
        "      if tempSum >= 0:\n",
        "        tempSum = sum(row[indexA1:indexA1+current])\n",
        "        current += 1\n",
        "        #if indexA1 + current < length:\n",
        "          #print(tempSum, \"indexA1:\",row[indexA1],\"current:\",row[indexA1+current])\n",
        "        if tempSum > fullMax:\n",
        "          fullMax = tempSum\n",
        "          #print(fullMax,count)\n",
        "      else:\n",
        "        indexA1 = current-1\n",
        "        tempSum = row[indexA1]\n",
        "        #print('tempSumhere:',tempSum)\n",
        "        \n",
        "  return fullMax\n",
        "      \n",
        "test2 = [[-2, 5, 3, 2],\n",
        "         [ 9,-6, 5, 1],\n",
        "         [ 3, 2, 7, 3],\n",
        "         [1, 8,4, -8]]\n",
        "\n",
        "test1 = [[7048, -5950, 464704, -21400525, 737675, -121145, 329092, -309554, 76518, -430526, 10000000000],[87666, -578075, 192148, -151673, 789222, -309792, 1511155588888, -325755, 457048, -678180, 616888]]\n",
        "rowMax(test1)"
      ],
      "execution_count": 0,
      "outputs": [
        {
          "output_type": "execute_result",
          "data": {
            "text/plain": [
              "1511156240086"
            ]
          },
          "metadata": {
            "tags": []
          },
          "execution_count": 43
        }
      ]
    },
    {
      "metadata": {
        "id": "-tzyS--YK1YJ",
        "colab_type": "code",
        "outputId": "c012c2f0-3b2d-4bca-bda3-38632189bba0",
        "colab": {
          "base_uri": "https://localhost:8080/",
          "height": 34
        }
      },
      "cell_type": "code",
      "source": [
        "rowMax(arrSim1)"
      ],
      "execution_count": 0,
      "outputs": [
        {
          "output_type": "execute_result",
          "data": {
            "text/plain": [
              "52852124"
            ]
          },
          "metadata": {
            "tags": []
          },
          "execution_count": 44
        }
      ]
    }
  ]
}