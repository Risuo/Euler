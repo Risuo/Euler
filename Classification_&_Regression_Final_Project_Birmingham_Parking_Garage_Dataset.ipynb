{
  "nbformat": 4,
  "nbformat_minor": 0,
  "metadata": {
    "colab": {
      "name": "Classification & Regression Final Project - Birmingham Parking Garage Dataset.ipynb",
      "version": "0.3.2",
      "provenance": [],
      "collapsed_sections": [],
      "include_colab_link": true
    },
    "kernelspec": {
      "name": "python3",
      "display_name": "Python 3"
    }
  },
  "cells": [
    {
      "cell_type": "markdown",
      "metadata": {
        "id": "view-in-github",
        "colab_type": "text"
      },
      "source": [
        "<a href=\"https://colab.research.google.com/github/Risuo/Euler/blob/master/Classification_%26_Regression_Final_Project_Birmingham_Parking_Garage_Dataset.ipynb\" target=\"_parent\"><img src=\"https://colab.research.google.com/assets/colab-badge.svg\" alt=\"Open In Colab\"/></a>"
      ]
    },
    {
      "cell_type": "markdown",
      "metadata": {
        "id": "LBtQ-gJN1vGc",
        "colab_type": "text"
      },
      "source": [
        "# Apologies for the length of this project! The first part is processing on the dataset (a collection of by-garage occupancy data collected over a number of months in Birmingham, at non-uniform frequency and timing). \n",
        "\n",
        "# The second part is a quick visual representation of by-hour average occupancy rates broken down by garage. \n",
        "\n",
        "# The third part begins the cleaning of the dataset to be able to be run through our regression & classification analysis. \n",
        "\n",
        "### Dataset can be found here: http://archive.ics.uci.edu/ml/datasets/Parking+Birmingham\n",
        "\n",
        "###"
      ]
    },
    {
      "cell_type": "code",
      "metadata": {
        "id": "NbuPvLHUiB0J",
        "colab_type": "code",
        "colab": {}
      },
      "source": [
        "from collections import defaultdict\n",
        "import time\n",
        "import matplotlib\n",
        "import matplotlib.pyplot as plt\n",
        "import matplotlib.gridspec as gridspec"
      ],
      "execution_count": 0,
      "outputs": []
    },
    {
      "cell_type": "code",
      "metadata": {
        "id": "Bj2xxhQqd9Jm",
        "colab_type": "code",
        "colab": {}
      },
      "source": [
        "matplotlib.style.use('ggplot')"
      ],
      "execution_count": 0,
      "outputs": []
    },
    {
      "cell_type": "code",
      "metadata": {
        "id": "I2cN5GzCiPKw",
        "colab_type": "code",
        "colab": {}
      },
      "source": [
        "def create_full():\n",
        "  dataset = []\n",
        "  f = open(\"/gdrive/My Drive/Birmingham Parking Data/dataset.csv\")\n",
        "  header = f.readline().strip().split(',')\n",
        "  for line in f:\n",
        "    line = line.strip('\\n').split(',')\n",
        "    line[1] = int(line[1])\n",
        "    line[2] = int(line[2])\n",
        "    line[3] = time.strptime(line[3], '%Y-%m-%d %H:%M:%S')\n",
        "    line.append(line[2]/line[1])\n",
        "    dataset.append(line)\n",
        "  header.append('Occupancy%')\n",
        "  return dataset, header"
      ],
      "execution_count": 0,
      "outputs": []
    },
    {
      "cell_type": "markdown",
      "metadata": {
        "id": "dpCj2RPklEFp",
        "colab_type": "text"
      },
      "source": [
        "First bit of cleaning needing to be done was to remove a newline (\\n) text content from the fourth entry of every line. \n",
        "\n",
        "We're also formatting the capacity & occupancy entries as integers, and modifying the time entry into a timeStructure so we can manipulate it later. "
      ]
    },
    {
      "cell_type": "code",
      "metadata": {
        "id": "jKSP-bn4isat",
        "colab_type": "code",
        "colab": {}
      },
      "source": [
        "dataset, header = create_full()"
      ],
      "execution_count": 0,
      "outputs": []
    },
    {
      "cell_type": "markdown",
      "metadata": {
        "id": "vStEKxgUm4xD",
        "colab_type": "text"
      },
      "source": [
        "We're going to be performing regression and classification analysis on this dataset.  \n",
        "\n",
        "The regression analysis will attempt to predict whether or not the parking garage is filling up or emptying out at a given time (or perhaps at 50% or greater occupancy, not sure which I'd prefer at this point).\n",
        "\n",
        "The classification analysis will attempt to predict how many available spots there are at a given time. "
      ]
    },
    {
      "cell_type": "code",
      "metadata": {
        "id": "oBjdE13viunz",
        "colab_type": "code",
        "outputId": "e2de01a8-3a49-4d4d-8859-350e2cada2bc",
        "colab": {
          "base_uri": "https://localhost:8080/",
          "height": 289
        }
      },
      "source": [
        " header, dataset[0], dataset[1], dataset[2]"
      ],
      "execution_count": 229,
      "outputs": [
        {
          "output_type": "execute_result",
          "data": {
            "text/plain": [
              "(['SystemCodeNumber', 'Capacity', 'Occupancy', 'LastUpdated', 'Occupancy%'],\n",
              " ['BHMBCCMKT01',\n",
              "  577,\n",
              "  61,\n",
              "  time.struct_time(tm_year=2016, tm_mon=10, tm_mday=4, tm_hour=7, tm_min=59, tm_sec=42, tm_wday=1, tm_yday=278, tm_isdst=-1),\n",
              "  0.10571923743500866],\n",
              " ['BHMBCCMKT01',\n",
              "  577,\n",
              "  64,\n",
              "  time.struct_time(tm_year=2016, tm_mon=10, tm_mday=4, tm_hour=8, tm_min=25, tm_sec=42, tm_wday=1, tm_yday=278, tm_isdst=-1),\n",
              "  0.11091854419410745],\n",
              " ['BHMBCCMKT01',\n",
              "  577,\n",
              "  80,\n",
              "  time.struct_time(tm_year=2016, tm_mon=10, tm_mday=4, tm_hour=8, tm_min=59, tm_sec=42, tm_wday=1, tm_yday=278, tm_isdst=-1),\n",
              "  0.1386481802426343])"
            ]
          },
          "metadata": {
            "tags": []
          },
          "execution_count": 229
        }
      ]
    },
    {
      "cell_type": "markdown",
      "metadata": {
        "id": "NA5Z9mpEQjzZ",
        "colab_type": "text"
      },
      "source": [
        "We're going to do a little visual representation of the dataset here. We'll be showing the occupancy rates of the various parking garages over a span of time. There are 30 different parking garages in the dataset, and while we'll be eliminating the by-garage difference on the data we work with for the regression/classification, at this point separating them into 30 different buckets will allow us to visualize how their occupancy goes. "
      ]
    },
    {
      "cell_type": "code",
      "metadata": {
        "id": "eQzH1fyhQ5Ck",
        "colab_type": "code",
        "outputId": "ca7cf82e-8bbb-4206-872c-415fea929734",
        "colab": {
          "base_uri": "https://localhost:8080/",
          "height": 527
        }
      },
      "source": [
        "garageList = ['BHMBCCMKT01','BHMBCCPST01','BHMBCCSNH01','BHMBCCTHL01','BHMBRCBRG01','BHMBRCBRG02','BHMBRCBRG03',\n",
        "           'BHMBRTARC01','BHMEURBRD01','BHMEURBRD02','BHMMBMMBX01','BHMNCPHST01','BHMNCPLDH01','BHMNCPNHS01',\n",
        "           'BHMNCPNST01','BHMNCPPLS01','BHMNCPRAN01','Broad Street','Bull Ring','NIA Car Parks','NIA North',\n",
        "           'NIA South','Others-CCCPS105a','Others-CCCPS119a','Others-CCCPS133','Others-CCCPS135a','Others-CCCPS202',\n",
        "           'Others-CCCPS8','Others-CCCPS98','Shopping']\n",
        "\n",
        "garage_dict = defaultdict(list)\n",
        "\n",
        "for g in garageList:\n",
        "  for d in dataset:\n",
        "    if d[0] == g:\n",
        "      times = [d[3].tm_wday, d[3].tm_hour, d[3].tm_min] #extracting the week-day, hour, and minute info\n",
        "      times.append(d[4]) # extracting the occupancy % field\n",
        "      garage_dict[g].append(times) # appending to the by-garage dictionary entry\n",
        "      \n",
        "for a in garage_dict:\n",
        "  print(a, len(garage_dict[a]))\n",
        "  \n"
      ],
      "execution_count": 230,
      "outputs": [
        {
          "output_type": "stream",
          "text": [
            "BHMBCCMKT01 1312\n",
            "BHMBCCPST01 1276\n",
            "BHMBCCSNH01 1294\n",
            "BHMBCCTHL01 1312\n",
            "BHMBRCBRG01 1186\n",
            "BHMBRCBRG02 1186\n",
            "BHMBRCBRG03 1186\n",
            "BHMBRTARC01 88\n",
            "BHMEURBRD01 1312\n",
            "BHMEURBRD02 1276\n",
            "BHMMBMMBX01 1312\n",
            "BHMNCPHST01 1312\n",
            "BHMNCPLDH01 1292\n",
            "BHMNCPNHS01 1038\n",
            "BHMNCPNST01 1312\n",
            "BHMNCPPLS01 1291\n",
            "BHMNCPRAN01 1186\n",
            "Broad Street 1312\n",
            "Bull Ring 1186\n",
            "NIA Car Parks 1204\n",
            "NIA North 162\n",
            "NIA South 1204\n",
            "Others-CCCPS105a 1312\n",
            "Others-CCCPS119a 1312\n",
            "Others-CCCPS133 1294\n",
            "Others-CCCPS135a 1312\n",
            "Others-CCCPS202 1312\n",
            "Others-CCCPS8 1312\n",
            "Others-CCCPS98 1312\n",
            "Shopping 1312\n"
          ],
          "name": "stdout"
        }
      ]
    },
    {
      "cell_type": "code",
      "metadata": {
        "id": "X8u3-J6UV9E1",
        "colab_type": "code",
        "outputId": "3036342b-adbc-4281-bba1-821bfd626508",
        "colab": {
          "base_uri": "https://localhost:8080/",
          "height": 51
        }
      },
      "source": [
        "print(garage_dict['BHMMBMMBX01'][:5])\n",
        "print(garage_dict['BHMNCPPLS01'][:5])"
      ],
      "execution_count": 231,
      "outputs": [
        {
          "output_type": "stream",
          "text": [
            "[[1, 7, 59, 0.38427947598253276], [1, 8, 25, 0.4395924308588064], [1, 8, 59, 0.5036390101892285], [1, 9, 32, 0.6026200873362445], [1, 9, 59, 0.7059679767103348]]\n",
            "[[1, 7, 46, 0.1688888888888889], [1, 7, 46, 0.1688888888888889], [1, 8, 25, 0.18222222222222223], [1, 8, 59, 0.18888888888888888], [1, 9, 25, 0.18666666666666668]]\n"
          ],
          "name": "stdout"
        }
      ]
    },
    {
      "cell_type": "markdown",
      "metadata": {
        "id": "g4pis5iR4K-v",
        "colab_type": "text"
      },
      "source": [
        "## We'll be creating a new entry to allow us to visualize the average occupancy of each garage by hour below. "
      ]
    },
    {
      "cell_type": "code",
      "metadata": {
        "id": "kg0lTBVxkkR8",
        "colab_type": "code",
        "colab": {}
      },
      "source": [
        "def create_hour_averages(garageList, garage_dict):\n",
        "  garageDictOut = defaultdict(list)\n",
        "  for garage in garageList:\n",
        "    hourAverages = {}\n",
        "    garage_hour_averages = defaultdict(list)\n",
        "    for a in garage_dict[garage]:\n",
        "      garage_hour_averages[a[1]].append(a[3])\n",
        "    for b in garage_hour_averages:\n",
        "      hourAverages[b] = (sum(garage_hour_averages[b]) / len(garage_hour_averages[b]))*100\n",
        "    garageDictOut[garage].append(hourAverages) \n",
        "  return garageDictOut\n",
        "\n"
      ],
      "execution_count": 0,
      "outputs": []
    },
    {
      "cell_type": "code",
      "metadata": {
        "id": "_4C4Dq0sr7Jz",
        "colab_type": "code",
        "outputId": "328ac18f-7bb0-48f4-a40d-587d2b5e3078",
        "colab": {
          "base_uri": "https://localhost:8080/",
          "height": 187
        }
      },
      "source": [
        "hourlyAvgAllGarages = create_hour_averages(garageList, garage_dict)\n",
        "\n",
        "hourlyAvgAllGarages['BHMMBMMBX01']"
      ],
      "execution_count": 233,
      "outputs": [
        {
          "output_type": "execute_result",
          "data": {
            "text/plain": [
              "[{7: 44.22956955708047,\n",
              "  8: 46.14461623195246,\n",
              "  9: 56.70994402274262,\n",
              "  10: 66.36109304510308,\n",
              "  11: 73.10821319614762,\n",
              "  12: 78.13826188572483,\n",
              "  13: 81.01681605761127,\n",
              "  14: 82.34904381870201,\n",
              "  15: 76.96832806304272,\n",
              "  16: 69.76986397630874}]"
            ]
          },
          "metadata": {
            "tags": []
          },
          "execution_count": 233
        }
      ]
    },
    {
      "cell_type": "code",
      "metadata": {
        "id": "WivXwhNhvs9t",
        "colab_type": "code",
        "colab": {}
      },
      "source": [
        "def build_barGraphs(dataset, n_graphs):\n",
        "  dataset = dataset\n",
        "  n_graphs = n_graphs\n",
        "  \n",
        "  fig = plt.figure(figsize=(4*(n_graphs),4*(n_graphs)))\n",
        "  gs = gridspec.GridSpec(nrows=n_graphs, ncols=n_graphs)\n",
        "  \n",
        "  xCoord = 0\n",
        "  yCoord = 0\n",
        "  \n",
        "  for entry in hourlyAvgAllGarages:\n",
        "    for garage in hourlyAvgAllGarages[entry]:\n",
        "      xAxis = []\n",
        "      yAxis = []\n",
        "      for k,v in garage.items():\n",
        "        xAxis.append(k)\n",
        "        yAxis.append(v)\n",
        "      b = fig.add_subplot(gs[xCoord,yCoord])\n",
        "      b.bar(xAxis, yAxis)\n",
        "      b.set_ylim([0,100])\n",
        "      b.set_title(str(entry))\n",
        "      \n",
        "      if xCoord < n_graphs**.5-1:\n",
        "        xCoord += 1\n",
        "      else:\n",
        "        xCoord = 0\n",
        "        yCoord += 1\n",
        "        \n",
        "  plt.tight_layout()\n",
        "  plt.show()\n",
        "      \n",
        "  "
      ],
      "execution_count": 0,
      "outputs": []
    },
    {
      "cell_type": "code",
      "metadata": {
        "id": "MhFGGeMyZC-h",
        "colab_type": "code",
        "outputId": "67ee030f-c4ce-48a4-9553-d0a1080febd8",
        "colab": {
          "base_uri": "https://localhost:8080/",
          "height": 1000
        }
      },
      "source": [
        "build_barGraphs(hourlyAvgAllGarages, len(hourlyAvgAllGarages))"
      ],
      "execution_count": 235,
      "outputs": [
        {
          "output_type": "display_data",
          "data": {
            "image/png": "[encoded data removed]",
            "text/plain": [
              "<Figure size 8640x8640 with 30 Axes>"
            ]
          },
          "metadata": {
            "tags": []
          }
        }
      ]
    },
    {
      "cell_type": "markdown",
      "metadata": {
        "id": "dpNs4RyMYnkg",
        "colab_type": "text"
      },
      "source": [
        "As might have been expected, with a few exceptions, the garages tend to start emptier, and fill up through the day, with a peak around Noon or shortly thereafter. \n",
        "\n",
        "With that taken care of, let's turn to the task at hand. Regression and classification. \n",
        "\n",
        "As a reminder, our classification analysis will attempt to predict whether or not there are more or less than 50% of all parking spots remaining available. \n",
        "\n",
        "The regression analysis will attempt to predict how many available spots there are (as a percentage of all spots) at a given time."
      ]
    },
    {
      "cell_type": "markdown",
      "metadata": {
        "id": "0s6wHUcck0Bj",
        "colab_type": "text"
      },
      "source": [
        "Our first step will be to normalize the data from each of the multiple garages, to create a total number of spots available/taken among ALL garages, at the measured point in time.\n",
        "\n",
        "The first obstacle will be the inconsistencies present in various effectively 'simultaneous' time measurements (variations within the seconds or few minutes timing measurement between garages). The following code blocks deals with that problem."
      ]
    },
    {
      "cell_type": "code",
      "metadata": {
        "id": "ekK3XGm4Z8iK",
        "colab_type": "code",
        "colab": {}
      },
      "source": [
        "def create_full_two():\n",
        "  dataset = []\n",
        "  f = open(\"/gdrive/My Drive/Birmingham Parking Data/dataset.csv\")\n",
        "  header = f.readline().strip().split(',')\n",
        "  hour_entered = False\n",
        "  for line in f:\n",
        "    line = line.strip('\\n').split(',')\n",
        "    line[1] = int(line[1])\n",
        "    line[2] = int(line[2])\n",
        "    line[3] = time.strptime(line[3], '%Y-%m-%d %H:%M:%S')\n",
        "    line.append(line[2]/line[1]) #Occupancy%\n",
        "    line.append([line[3].tm_yday, line[3].tm_wday, line[3].tm_hour, line[3].tm_min]) #Weekday & Hour (24H format)\n",
        "        \n",
        "    try: #This is a look-back method that identifies the previous hour entry, compares it with the current hour entry, and if the same, adds an index, which will \n",
        "         #be utilized in the find_total_occupancy method so as to separate out the hour counts by multiple readings/hour, where applicable.\n",
        "         #This is required, rather than just splitting by some set number of minutes, because the intervals between measurements are unfixed, and therefore\n",
        "         #has entries with unpredictable frequency (multiple readings within the same span of a few minutes).\n",
        "      prev_hour_entered = dataset[-1][4][:3] #Identifies the most recently entered entry's yDay, wDay, & hour data \n",
        "      if prev_hour_entered == line[5][:3]:   #Determines if the yDay, wDay & hour are the same, and if so  \n",
        "        line.append(dataset[-1][5] +1)       #Appends the index value to the time entry data\n",
        "      else:\n",
        "        line.append(1)\n",
        "    except:\n",
        "      line.append(1)\n",
        "      \n",
        "      \n",
        "    line.pop(3) #Removes the full strptime formatted data\n",
        "    line.append((line[1]-line[2])) #Remaining Spots\n",
        "    #line.pop(0) #Removes the per-garage labelling\n",
        "    \n",
        "    \n",
        "    dataset.append(line)\n",
        "  \n",
        "\n",
        "  \n",
        "  header.append('Occupancy%')\n",
        "  header.pop(3)\n",
        "  header.append('Weekday,Hour')\n",
        "  header.append('Remaining')\n",
        "  \n",
        "  \n",
        "  \n",
        "  \n",
        "  return dataset, header"
      ],
      "execution_count": 0,
      "outputs": []
    },
    {
      "cell_type": "code",
      "metadata": {
        "id": "CzXFRN-XU6jD",
        "colab_type": "code",
        "colab": {}
      },
      "source": [
        "dataset2, header2 = create_full_two()"
      ],
      "execution_count": 0,
      "outputs": []
    },
    {
      "cell_type": "code",
      "metadata": {
        "id": "YlzguYmdpvQg",
        "colab_type": "code",
        "outputId": "c4876adb-d426-4301-f923-e37ab984cf07",
        "colab": {
          "base_uri": "https://localhost:8080/",
          "height": 459
        }
      },
      "source": [
        "header2,dataset2[:10],dataset2[-10:]"
      ],
      "execution_count": 238,
      "outputs": [
        {
          "output_type": "execute_result",
          "data": {
            "text/plain": [
              "(['SystemCodeNumber',\n",
              "  'Capacity',\n",
              "  'Occupancy',\n",
              "  'Occupancy%',\n",
              "  'Weekday,Hour',\n",
              "  'Remaining'],\n",
              " [['BHMBCCMKT01', 577, 61, 0.10571923743500866, [278, 1, 7, 59], 1, 516],\n",
              "  ['BHMBCCMKT01', 577, 64, 0.11091854419410745, [278, 1, 8, 25], 1, 513],\n",
              "  ['BHMBCCMKT01', 577, 80, 0.1386481802426343, [278, 1, 8, 59], 2, 497],\n",
              "  ['BHMBCCMKT01', 577, 107, 0.1854419410745234, [278, 1, 9, 32], 1, 470],\n",
              "  ['BHMBCCMKT01', 577, 150, 0.25996533795493937, [278, 1, 9, 59], 2, 427],\n",
              "  ['BHMBCCMKT01', 577, 177, 0.30675909878682844, [278, 1, 10, 26], 1, 400],\n",
              "  ['BHMBCCMKT01', 577, 219, 0.37954939341421146, [278, 1, 10, 59], 2, 358],\n",
              "  ['BHMBCCMKT01', 577, 247, 0.42807625649913345, [278, 1, 11, 25], 1, 330],\n",
              "  ['BHMBCCMKT01', 577, 259, 0.4488734835355286, [278, 1, 11, 59], 2, 318],\n",
              "  ['BHMBCCMKT01', 577, 266, 0.4610051993067591, [278, 1, 12, 29], 1, 311]],\n",
              " [['Shopping', 1920, 1424, 0.7416666666666667, [354, 0, 12, 3], 1, 496],\n",
              "  ['Shopping', 1920, 1475, 0.7682291666666666, [354, 0, 12, 30], 2, 445],\n",
              "  ['Shopping', 1920, 1510, 0.7864583333333334, [354, 0, 13, 3], 1, 410],\n",
              "  ['Shopping', 1920, 1510, 0.7864583333333334, [354, 0, 13, 30], 2, 410],\n",
              "  ['Shopping', 1920, 1521, 0.7921875, [354, 0, 14, 3], 1, 399],\n",
              "  ['Shopping', 1920, 1517, 0.7901041666666667, [354, 0, 14, 30], 2, 403],\n",
              "  ['Shopping', 1920, 1487, 0.7744791666666667, [354, 0, 15, 3], 1, 433],\n",
              "  ['Shopping', 1920, 1432, 0.7458333333333333, [354, 0, 15, 29], 2, 488],\n",
              "  ['Shopping', 1920, 1321, 0.6880208333333333, [354, 0, 16, 3], 1, 599],\n",
              "  ['Shopping', 1920, 1180, 0.6145833333333334, [354, 0, 16, 30], 2, 740]])"
            ]
          },
          "metadata": {
            "tags": []
          },
          "execution_count": 238
        }
      ]
    },
    {
      "cell_type": "code",
      "metadata": {
        "id": "DdYveBQLLMu5",
        "colab_type": "code",
        "colab": {}
      },
      "source": [
        "# Here we're going to write a method to find the total occupancy per yDay data within the dataset\n",
        "\n",
        "def find_total_occupancy(dataset2):\n",
        "  \n",
        "  yData = defaultdict(list)\n",
        "  \n",
        "  for line in dataset2:\n",
        "    if line[4][-1] <= 20:\n",
        "      yData[line[4][0],line[4][2],line[5],20].append((line[2],line[1]))\n",
        "    elif 20 < line[4][-1] <= 40:\n",
        "      yData[line[4][0],line[4][2],line[5],40].append((line[2],line[1]))\n",
        "    else:\n",
        "      yData[line[4][0],line[4][2],line[5],60].append((line[2],line[1]))\n",
        "  for minute_Split in yData:\n",
        "    occSum = 0\n",
        "    availSum = 0\n",
        "    for item in yData[minute_Split]:\n",
        "      occSum += item[0]\n",
        "      availSum += item[1]\n",
        "    yData[minute_Split] = (occSum, availSum, len(yData[minute_Split]))\n",
        "\n",
        "  return yData\n",
        "  "
      ],
      "execution_count": 0,
      "outputs": []
    },
    {
      "cell_type": "code",
      "metadata": {
        "id": "ta4-q5kCLPAx",
        "colab_type": "code",
        "colab": {}
      },
      "source": [
        "# Here we're going to extract the total number of available parking spots\n",
        "def find_total_spots(dataset2,garageList):\n",
        "  \n",
        "  table = defaultdict(list)\n",
        "  totalSpots = 0\n",
        "\n",
        "  for line in dataset2:\n",
        "    for garage in garageList:\n",
        "      if line[0] == garage:\n",
        "        table[garage] = line[1]\n",
        "    \n",
        "  for a in table:\n",
        "    totalSpots += table[a]\n",
        "\n",
        "  return totalSpots"
      ],
      "execution_count": 0,
      "outputs": []
    },
    {
      "cell_type": "code",
      "metadata": {
        "id": "Vadulh57VlNY",
        "colab_type": "code",
        "colab": {}
      },
      "source": [
        "def create_table(dataset2, garageList):\n",
        "  \n",
        "  totalSpots = find_total_spots(dataset2,garageList)\n",
        "  \n",
        "  occupancyData = find_total_occupancy(dataset2)\n",
        "\n",
        "  #print(dataset3)\n",
        "  \n",
        "  table = []\n",
        "\n",
        "  for a in occupancyData:\n",
        "    table.append([a,occupancyData[a]])\n",
        "\n",
        "  print(\"(tm_yday, tm_wday, time-reading-index/hr, 0-20/21-40/41-60)\", \"(Total occupied spots\", \"garage instances with entry)\")\n",
        "\n",
        "\n",
        "  return table\n",
        "\n"
      ],
      "execution_count": 0,
      "outputs": []
    },
    {
      "cell_type": "code",
      "metadata": {
        "id": "Gl84MUOXL0LT",
        "colab_type": "code",
        "colab": {}
      },
      "source": [
        "def find_Limits(dataset):\n",
        "  maxOccupied = 0\n",
        "  maxGarageInstance = 0\n",
        "  maxTimeIndex = 0\n",
        "\n",
        "  minOccupied = 10000\n",
        "  minGarageInstance = 100\n",
        "  minTimeIndex = 100\n",
        "\n",
        "\n",
        "  for c in table:\n",
        "    if c[1][0] > maxOccupied:\n",
        "      maxOccupied = c[1][0]\n",
        "    if c[1][0] < minOccupied:\n",
        "      minOccupied = c[1][0]\n",
        "    if c[1][2] > maxGarageInstance:\n",
        "      maxGarageInstance = c[1][1]\n",
        "    if c[1][2] < minGarageInstance:\n",
        "      minGarageInstance = c[1][1]\n",
        "    if c[0][2] > maxTimeIndex:\n",
        "      maxTimeIndex = c[0][2]\n",
        "    if c[0][2] < minTimeIndex:\n",
        "      minTimeIndex = c[0][2]\n",
        "\n",
        "\n",
        "\n",
        "  print('\\nMaximum Occupied State of all Garages within a 20 minute spread of any hour:', maxOccupied, \n",
        "        '\\nMaximum number of Spots included in the count:', maxGarageInstance, \n",
        "        '\\nMaximum number of discrete readings/hour in any garage:', maxTimeIndex, '\\n',\n",
        "        '\\nMinimum Occupied State of all Garages within a 20 minute spread of any hour:', minOccupied,\n",
        "        '\\nMinimum number of Spots included in the count:', minGarageInstance,\n",
        "        '\\nMinimum number of discrete readings/hour in any garage:', minTimeIndex, '\\n')"
      ],
      "execution_count": 0,
      "outputs": []
    },
    {
      "cell_type": "code",
      "metadata": {
        "id": "4KD2Ayyx_lbj",
        "colab_type": "code",
        "colab": {}
      },
      "source": [
        "def head_Foot(table, n):\n",
        "  print('\\nFirst and Last', n, 'readings\\n')\n",
        "\n",
        "  for a in table[:n]:\n",
        "    print(a)\n",
        "  for b in table[-n:]:\n",
        "    print(b)"
      ],
      "execution_count": 0,
      "outputs": []
    },
    {
      "cell_type": "code",
      "metadata": {
        "id": "8Hl0uhB495DO",
        "colab_type": "code",
        "outputId": "fcbb97a2-c42b-42fc-f443-a53e9e210a98",
        "colab": {
          "base_uri": "https://localhost:8080/",
          "height": 884
        }
      },
      "source": [
        "table = create_table(dataset2, garageList)\n",
        "\n",
        "print('\\nPre-cleaning full table max/mins:')\n",
        "head_Foot(table, 5)\n",
        "find_Limits(table)\n",
        "print(\"Total number of time readings:\",len(table))\n",
        "\n",
        "table = [a for a in table if a[1][2] > 20]\n",
        "\n",
        "print('\\nPost-cleaning full table max/mins:')\n",
        "head_Foot(table, 5)\n",
        "find_Limits(table)\n",
        "print(\"Total number of time readings:\",len(table))"
      ],
      "execution_count": 244,
      "outputs": [
        {
          "output_type": "stream",
          "text": [
            "(tm_yday, tm_wday, time-reading-index/hr, 0-20/21-40/41-60) (Total occupied spots garage instances with entry)\n",
            "\n",
            "Pre-cleaning full table max/mins:\n",
            "\n",
            "First and Last 5 readings\n",
            "\n",
            "[(278, 7, 1, 60), (7852, 38980, 28)]\n",
            "[(278, 8, 1, 40), (9648, 38980, 28)]\n",
            "[(278, 8, 2, 60), (12296, 38980, 28)]\n",
            "[(278, 9, 1, 40), (14905, 38980, 28)]\n",
            "[(278, 9, 2, 60), (17109, 38980, 28)]\n",
            "[(353, 13, 2, 60), (80, 600, 1)]\n",
            "[(353, 15, 2, 60), (64, 600, 1)]\n",
            "[(353, 16, 1, 40), (61, 600, 1)]\n",
            "[(313, 13, 3, 60), (677, 690, 1)]\n",
            "[(313, 14, 1, 40), (647, 690, 1)]\n",
            "\n",
            "Maximum Occupied State of all Garages within a 20 minute spread of any hour: 28183 \n",
            "Maximum number of Spots included in the count: 38980 \n",
            "Maximum number of discrete readings/hour in any garage: 6 \n",
            " \n",
            "Minimum Occupied State of all Garages within a 20 minute spread of any hour: 4 \n",
            "Minimum number of Spots included in the count: 690 \n",
            "Minimum number of discrete readings/hour in any garage: 1 \n",
            "\n",
            "Total number of time readings: 1782\n",
            "\n",
            "Post-cleaning full table max/mins:\n",
            "\n",
            "First and Last 5 readings\n",
            "\n",
            "[(278, 7, 1, 60), (7852, 38980, 28)]\n",
            "[(278, 8, 1, 40), (9648, 38980, 28)]\n",
            "[(278, 8, 2, 60), (12296, 38980, 28)]\n",
            "[(278, 9, 1, 40), (14905, 38980, 28)]\n",
            "[(278, 9, 2, 60), (17109, 38980, 28)]\n",
            "[(354, 14, 2, 40), (28183, 36924, 26)]\n",
            "[(354, 15, 1, 20), (27583, 36924, 26)]\n",
            "[(354, 15, 2, 40), (26560, 36924, 26)]\n",
            "[(354, 16, 1, 20), (24667, 36924, 26)]\n",
            "[(354, 16, 2, 40), (22879, 36924, 26)]\n",
            "\n",
            "Maximum Occupied State of all Garages within a 20 minute spread of any hour: 28183 \n",
            "Maximum number of Spots included in the count: 38980 \n",
            "Maximum number of discrete readings/hour in any garage: 3 \n",
            " \n",
            "Minimum Occupied State of all Garages within a 20 minute spread of any hour: 4214 \n",
            "Minimum number of Spots included in the count: 36924 \n",
            "Minimum number of discrete readings/hour in any garage: 1 \n",
            "\n",
            "Total number of time readings: 1305\n"
          ],
          "name": "stdout"
        }
      ]
    },
    {
      "cell_type": "code",
      "metadata": {
        "id": "jfx9f6GKECGe",
        "colab_type": "code",
        "colab": {}
      },
      "source": [
        "for a in table:\n",
        "  a.append(a[1][0]/a[1][1] > .5)"
      ],
      "execution_count": 0,
      "outputs": []
    },
    {
      "cell_type": "markdown",
      "metadata": {
        "id": "cY2-OCgk6Xnq",
        "colab_type": "text"
      },
      "source": [
        "# Quick Catchup:\n",
        "\n",
        "## At this point we've successfully curated our dataset to have the following qualities: a) every entry represents a unique collection of garage-occupancy readings associated by: Day of the year, Hour of the day, Reading of the day (1st, 2nd, 3rd) and whether it is in the first, second or third portion of the hour (0-20 minutes, 21-40 minutes, 41-60 minutes).\n",
        "\n",
        "## We have also shown that the number of garages and maximum occupancy never passes over the known maximum number of spots or garages included in the dataset. \n",
        "\n",
        "## We have also eliminated out any time-instance data where the number of garages showing an entry for that particular 20 minute spread was fewer than 26 garages (outliers)\n",
        "\n",
        "## We are now ready to perform some regression and classification analysis!\n",
        "\n",
        "### We will be largely reusing the code from the lectures when it comes to the regression & classification analysis itself. With minor tweaks here and there, but the implementation is generally speaking the same, and as noted in the description of the project \"The goal is to understand how to transform data to be suitable for data-driven predictive tasks (I.e., feature extraction) rather than to learn the machine learning concepts per se.\"  All the same we do improve upon the first attempts below by implementing one-hot notation of our time data (parameters) to obtain fairly significant improvements in the accuracy of both the regression and classification algorithms.  "
      ]
    },
    {
      "cell_type": "code",
      "metadata": {
        "id": "2uq-1rWgdI7a",
        "colab_type": "code",
        "outputId": "c4c0545b-00f8-4797-be89-0f5278e54bb9",
        "colab": {
          "base_uri": "https://localhost:8080/",
          "height": 238
        }
      },
      "source": [
        "head_Foot(table, 5)"
      ],
      "execution_count": 246,
      "outputs": [
        {
          "output_type": "stream",
          "text": [
            "\n",
            "First and Last 5 readings\n",
            "\n",
            "[(278, 7, 1, 60), (7852, 38980, 28), False]\n",
            "[(278, 8, 1, 40), (9648, 38980, 28), False]\n",
            "[(278, 8, 2, 60), (12296, 38980, 28), False]\n",
            "[(278, 9, 1, 40), (14905, 38980, 28), False]\n",
            "[(278, 9, 2, 60), (17109, 38980, 28), False]\n",
            "[(354, 14, 2, 40), (28183, 36924, 26), True]\n",
            "[(354, 15, 1, 20), (27583, 36924, 26), True]\n",
            "[(354, 15, 2, 40), (26560, 36924, 26), True]\n",
            "[(354, 16, 1, 20), (24667, 36924, 26), True]\n",
            "[(354, 16, 2, 40), (22879, 36924, 26), True]\n"
          ],
          "name": "stdout"
        }
      ]
    },
    {
      "cell_type": "code",
      "metadata": {
        "id": "S6hKu5YDqCU3",
        "colab_type": "code",
        "colab": {}
      },
      "source": [
        "import tensorflow as tf\n",
        "import random"
      ],
      "execution_count": 0,
      "outputs": []
    },
    {
      "cell_type": "code",
      "metadata": {
        "id": "m8qAYcRzezTS",
        "colab_type": "code",
        "colab": {}
      },
      "source": [
        "tableRandom = table\n",
        "random.shuffle(tableRandom)"
      ],
      "execution_count": 0,
      "outputs": []
    },
    {
      "cell_type": "code",
      "metadata": {
        "id": "CUYPAz8kgE9H",
        "colab_type": "code",
        "outputId": "6325abae-84b5-4f54-fa07-7f20becc0701",
        "colab": {
          "base_uri": "https://localhost:8080/",
          "height": 238
        }
      },
      "source": [
        "head_Foot(tableRandom, 5)"
      ],
      "execution_count": 249,
      "outputs": [
        {
          "output_type": "stream",
          "text": [
            "\n",
            "First and Last 5 readings\n",
            "\n",
            "[(327, 12, 1, 20), (21965, 38480, 27), True]\n",
            "[(334, 9, 1, 20), (12658, 38530, 27), False]\n",
            "[(349, 15, 2, 60), (21661, 39476, 29), True]\n",
            "[(285, 11, 1, 40), (17814, 32874, 24), True]\n",
            "[(288, 8, 1, 20), (8379, 38980, 28), False]\n",
            "[(315, 13, 2, 40), (22917, 39010, 28), True]\n",
            "[(325, 8, 2, 40), (4433, 35031, 23), False]\n",
            "[(354, 15, 1, 20), (27583, 36924, 26), True]\n",
            "[(346, 10, 2, 60), (13137, 36424, 25), False]\n",
            "[(284, 8, 1, 20), (6505, 32424, 23), False]\n"
          ],
          "name": "stdout"
        }
      ]
    },
    {
      "cell_type": "markdown",
      "metadata": {
        "id": "Oz8b5qiHd1Xd",
        "colab_type": "text"
      },
      "source": [
        "# First Up: Regression analysis to predict occupancy (as a percentage of total spots)!"
      ]
    },
    {
      "cell_type": "code",
      "metadata": {
        "id": "kfe0mjW4nv7j",
        "colab_type": "code",
        "colab": {}
      },
      "source": [
        "def feature(datum):\n",
        "  f = datum[0] # saves me some typing\n",
        "  feat = [1, float(f[0]), float(f[1]), float(f[3])] # day of the year, hour of the day, and minute-bracket\n",
        "  return feat"
      ],
      "execution_count": 0,
      "outputs": []
    },
    {
      "cell_type": "code",
      "metadata": {
        "id": "ZTuXRhQSdmKW",
        "colab_type": "code",
        "colab": {}
      },
      "source": [
        "X = [feature(d) for d in tableRandom] # gives us a feature table \n",
        "y = [float(d[1][0]/d[1][1]*1000) for d in tableRandom] # gives us the value we want to predict"
      ],
      "execution_count": 0,
      "outputs": []
    },
    {
      "cell_type": "code",
      "metadata": {
        "id": "2v-9jJdXefuH",
        "colab_type": "code",
        "outputId": "cd3fff90-8e21-41d8-976c-453b9ff4427b",
        "colab": {
          "base_uri": "https://localhost:8080/",
          "height": 102
        }
      },
      "source": [
        "tableRandom[0],X[0],y[0],len(X),len(y) # showing us where we're at with respect to formatting/selecting/etc"
      ],
      "execution_count": 308,
      "outputs": [
        {
          "output_type": "execute_result",
          "data": {
            "text/plain": [
              "([(327, 12, 1, 20), (21965, 38480, 27), True],\n",
              " [1, 327.0, 12.0, 20.0],\n",
              " 570.8160083160083,\n",
              " 1305,\n",
              " 1305)"
            ]
          },
          "metadata": {
            "tags": []
          },
          "execution_count": 308
        }
      ]
    },
    {
      "cell_type": "code",
      "metadata": {
        "id": "dSm2hboZefeX",
        "colab_type": "code",
        "outputId": "7df9b9ef-da4c-4646-ffde-c5ccf42fab90",
        "colab": {
          "base_uri": "https://localhost:8080/",
          "height": 34
        }
      },
      "source": [
        "N = len(X) #saves space below\n",
        "\n",
        "X_test = X[:N//2]   #as per the lecture, we've created a randomly shuffled collection of feature & values\n",
        "X_train = X[N//2:]\n",
        "\n",
        "y_test = y[:N//2]   #and this is what we'll test the model on to see how accurately it does. \n",
        "y_train = y[N//2:]\n",
        "\n",
        "len(X_test), len(X_train)\n"
      ],
      "execution_count": 309,
      "outputs": [
        {
          "output_type": "execute_result",
          "data": {
            "text/plain": [
              "(652, 653)"
            ]
          },
          "metadata": {
            "tags": []
          },
          "execution_count": 309
        }
      ]
    },
    {
      "cell_type": "code",
      "metadata": {
        "id": "esZPgpdkdp9p",
        "colab_type": "code",
        "colab": {}
      },
      "source": [
        "y_train = tf.constant(y_train, shape=[len(y_train),1])"
      ],
      "execution_count": 0,
      "outputs": []
    },
    {
      "cell_type": "code",
      "metadata": {
        "id": "ReR0rn6-iDCr",
        "colab_type": "code",
        "colab": {}
      },
      "source": [
        "K = len(X_train[0]) # saving space below, when working with our thetas, if we modify the number of parameters above, this will automatically update the tensorflow vector shape"
      ],
      "execution_count": 0,
      "outputs": []
    },
    {
      "cell_type": "code",
      "metadata": {
        "id": "IwYdsqbfiQoO",
        "colab_type": "code",
        "colab": {}
      },
      "source": [
        "def MSE(X, y, theta):\n",
        "  return tf.reduce_mean((tf.matmul(X,theta) - y)**2) #perform dot-product multiplication of X and theta, then subtract from that y (the error) then square it, then reduce to the mean to return\n",
        "                                                     #the mean-squared-error, or MSE"
      ],
      "execution_count": 0,
      "outputs": []
    },
    {
      "cell_type": "code",
      "metadata": {
        "id": "WWlUBSjBiadA",
        "colab_type": "code",
        "colab": {}
      },
      "source": [
        "theta = tf.Variable(tf.constant([0.0]*K, shape=[K,1])) #initialize the theta values as VARIABLES, whose initial value is 0.0, and do so for all K (the number of parameters) and then \n",
        "                                                       #define the tensorflow shape as being that of a K length column of width 1"
      ],
      "execution_count": 0,
      "outputs": []
    },
    {
      "cell_type": "code",
      "metadata": {
        "id": "ONl6A5Z8isFG",
        "colab_type": "code",
        "colab": {}
      },
      "source": [
        "optimizer = tf.train.AdamOptimizer(0.05) # initializing the optimizer, Stochastic gradient descent, learning rate set to be .05"
      ],
      "execution_count": 0,
      "outputs": []
    },
    {
      "cell_type": "code",
      "metadata": {
        "id": "6d0mSLzei0bD",
        "colab_type": "code",
        "colab": {}
      },
      "source": [
        "objective = MSE(X_train, y_train, theta) #define the objective, what we want to optimize, as that of the MSE result when performed on our training sets of X, Y, and theta\n",
        "                                         #we are mostly defining theta as the variable (see above) that can be modified in order to affect the MSE value"
      ],
      "execution_count": 0,
      "outputs": []
    },
    {
      "cell_type": "code",
      "metadata": {
        "id": "o_9slBk5jMwU",
        "colab_type": "code",
        "colab": {}
      },
      "source": [
        "train = optimizer.minimize(objective)"
      ],
      "execution_count": 0,
      "outputs": []
    },
    {
      "cell_type": "code",
      "metadata": {
        "id": "eqhaQJ6xjRcq",
        "colab_type": "code",
        "colab": {}
      },
      "source": [
        "init = tf.global_variables_initializer()"
      ],
      "execution_count": 0,
      "outputs": []
    },
    {
      "cell_type": "code",
      "metadata": {
        "id": "TXOINMZSjVeR",
        "colab_type": "code",
        "colab": {}
      },
      "source": [
        "sess = tf.Session()\n",
        "sess.run(init)"
      ],
      "execution_count": 0,
      "outputs": []
    },
    {
      "cell_type": "code",
      "metadata": {
        "id": "g9HwW799jXfS",
        "colab_type": "code",
        "outputId": "8f3b077c-6eca-4f9c-b0f1-bcd7bd4fc4ed",
        "colab": {
          "base_uri": "https://localhost:8080/",
          "height": 187
        }
      },
      "source": [
        "for iteration in range(50000):\n",
        "  cvalues = sess.run([train, objective])\n",
        "  if iteration%5000 == 0:\n",
        "    print('objective = ' + str(cvalues[1]))  # this is processing the gradient descent of MSE 5000 times, and prints out the MSE each time"
      ],
      "execution_count": 319,
      "outputs": [
        {
          "output_type": "stream",
          "text": [
            "objective = 233608.38\n",
            "objective = 11406.552\n",
            "objective = 10908.16\n",
            "objective = 10684.353\n",
            "objective = 10659.96\n",
            "objective = 10659.422\n",
            "objective = 10659.414\n",
            "objective = 10659.413\n",
            "objective = 10659.415\n",
            "objective = 10659.414\n"
          ],
          "name": "stdout"
        }
      ]
    },
    {
      "cell_type": "code",
      "metadata": {
        "id": "3xM9jkRZlnj2",
        "colab_type": "code",
        "colab": {}
      },
      "source": [
        "def testThetas(thetasEval, testValues):\n",
        "  thetasEval = [float(a) for a in thetasEval]\n",
        "  #print(thetasEval, 'thetasEval')\n",
        "  #print(testValues, 'testValues')\n",
        "  outTable = []\n",
        "  for q in testValues:\n",
        "    test = [a*b for a,b in zip(thetasEval,q)]\n",
        "    outTable.append(sum(test))\n",
        "  return outTable\n"
      ],
      "execution_count": 0,
      "outputs": []
    },
    {
      "cell_type": "code",
      "metadata": {
        "id": "DLY1WUpUj61O",
        "colab_type": "code",
        "outputId": "0e657895-010f-464f-f03a-0165db58e640",
        "colab": {
          "base_uri": "https://localhost:8080/",
          "height": 204
        }
      },
      "source": [
        "with sess.as_default():\n",
        "  print('MSE is =', MSE(X_train,y_train,theta).eval())\n",
        "  print('thetas are:\\n', theta.eval())\n",
        "  print('The thetas, which are multiplied by 1, day of the year, hour of the day, and minute-bracket, respectively')\n",
        "  \n",
        "  thetasEval = theta.eval()\n",
        "  testValues = X_test\n",
        "  \n",
        "  testResults = testThetas(thetasEval,testValues)\n",
        "  \n",
        "  print(testResults[:5])\n",
        "  print(y_test[:5])\n",
        "  \n",
        "  accuracy = zip(testResults,y_test)\n",
        "  \n",
        "  error = [((((a-b)**2)**.5)/b)*100 for a,b in accuracy]\n",
        "  \n",
        "  print(error[:5])\n",
        "  \n",
        "  avg_Error = sum(error)/len(error)\n",
        "  \n",
        "  print(avg_Error, 'as a % of the y_test value')"
      ],
      "execution_count": 321,
      "outputs": [
        {
          "output_type": "stream",
          "text": [
            "MSE is = 10667.427\n",
            "thetas are:\n",
            " [[-456.65088  ]\n",
            " [   1.4939015]\n",
            " [  35.030247 ]\n",
            " [   0.8204493]]\n",
            "The thetas, which are multiplied by 1, day of the year, hour of the day, and minute-bracket, respectively\n",
            "[468.62685537338257, 373.9934256076813, 639.4014000892639, 387.26173186302185, 270.2437102794647]\n",
            "[570.8160083160083, 328.52322865299766, 548.7131421623264, 541.8872056944698, 214.95638789122626]\n",
            "[17.902292762268324, 13.840785974592826, 16.527444115801597, 28.534623480043898, 25.720250945143043]\n",
            "25.374496338920334 as a % of the y_test value\n"
          ],
          "name": "stdout"
        }
      ]
    },
    {
      "cell_type": "markdown",
      "metadata": {
        "id": "cpnR83NJnkFi",
        "colab_type": "text"
      },
      "source": [
        "## And here we have our first set of results. We've treated (naively) the time-value parameters as numerical, rather than categorical, values. We will fix this down below. "
      ]
    },
    {
      "cell_type": "markdown",
      "metadata": {
        "id": "oV_TvHedp-6U",
        "colab_type": "text"
      },
      "source": [
        "## Time to perform our classification analysis, i.e., are the parking garages more than 50% full or not. We'll be using sklearn as per the lectures."
      ]
    },
    {
      "cell_type": "code",
      "metadata": {
        "id": "HNEwAoN2qJ3M",
        "colab_type": "code",
        "colab": {}
      },
      "source": [
        "from sklearn import linear_model\n",
        "import random"
      ],
      "execution_count": 0,
      "outputs": []
    },
    {
      "cell_type": "code",
      "metadata": {
        "id": "P-097FdnqKWM",
        "colab_type": "code",
        "colab": {}
      },
      "source": [
        "X_classification = [feature(d) for d in tableRandom] # we can reuse the naieve feature table from above for the features here again\n",
        "y_classification = [value[-1] for value in tableRandom]"
      ],
      "execution_count": 0,
      "outputs": []
    },
    {
      "cell_type": "code",
      "metadata": {
        "id": "DRbaDxnQqKQg",
        "colab_type": "code",
        "colab": {}
      },
      "source": [
        "N = len(X_classification)\n",
        "\n",
        "X_train_1 = X_classification[:N//2]\n",
        "\n",
        "X_test_1 = X_classification[N//2:]\n",
        "\n",
        "y_train_1 = y_classification[:N//2]\n",
        "\n",
        "y_test_1 = y_classification[N//2:]"
      ],
      "execution_count": 0,
      "outputs": []
    },
    {
      "cell_type": "code",
      "metadata": {
        "id": "TJXaWObAqKJf",
        "colab_type": "code",
        "colab": {
          "base_uri": "https://localhost:8080/",
          "height": 34
        },
        "outputId": "8ae0da84-1f8d-4427-8019-9945d86a1ec4"
      },
      "source": [
        "len(X_classification), len(X_train_1), len(X_test_1)"
      ],
      "execution_count": 325,
      "outputs": [
        {
          "output_type": "execute_result",
          "data": {
            "text/plain": [
              "(1305, 652, 653)"
            ]
          },
          "metadata": {
            "tags": []
          },
          "execution_count": 325
        }
      ]
    },
    {
      "cell_type": "code",
      "metadata": {
        "id": "b3AiopfKqJ-w",
        "colab_type": "code",
        "colab": {
          "base_uri": "https://localhost:8080/",
          "height": 34
        },
        "outputId": "0660edcf-2f97-45cf-a940-feec68825e27"
      },
      "source": [
        "len(y_classification), len(y_train_1), len(y_test_1)"
      ],
      "execution_count": 326,
      "outputs": [
        {
          "output_type": "execute_result",
          "data": {
            "text/plain": [
              "(1305, 652, 653)"
            ]
          },
          "metadata": {
            "tags": []
          },
          "execution_count": 326
        }
      ]
    },
    {
      "cell_type": "code",
      "metadata": {
        "id": "mYm9HvODrIyN",
        "colab_type": "code",
        "colab": {}
      },
      "source": [
        "model = linear_model.LogisticRegression()"
      ],
      "execution_count": 0,
      "outputs": []
    },
    {
      "cell_type": "code",
      "metadata": {
        "id": "o-hsYOENrKc3",
        "colab_type": "code",
        "colab": {
          "base_uri": "https://localhost:8080/",
          "height": 136
        },
        "outputId": "222ba8f7-f1d7-40ca-d685-d7abfc3a3ad3"
      },
      "source": [
        "model.fit(X_train_1, y_train_1)\n"
      ],
      "execution_count": 328,
      "outputs": [
        {
          "output_type": "stream",
          "text": [
            "/usr/local/lib/python3.6/dist-packages/sklearn/linear_model/logistic.py:432: FutureWarning: Default solver will be changed to 'lbfgs' in 0.22. Specify a solver to silence this warning.\n",
            "  FutureWarning)\n"
          ],
          "name": "stderr"
        },
        {
          "output_type": "execute_result",
          "data": {
            "text/plain": [
              "LogisticRegression(C=1.0, class_weight=None, dual=False, fit_intercept=True,\n",
              "                   intercept_scaling=1, l1_ratio=None, max_iter=100,\n",
              "                   multi_class='warn', n_jobs=None, penalty='l2',\n",
              "                   random_state=None, solver='warn', tol=0.0001, verbose=0,\n",
              "                   warm_start=False)"
            ]
          },
          "metadata": {
            "tags": []
          },
          "execution_count": 328
        }
      ]
    },
    {
      "cell_type": "code",
      "metadata": {
        "id": "_rW0sWNXrM02",
        "colab_type": "code",
        "colab": {
          "base_uri": "https://localhost:8080/",
          "height": 51
        },
        "outputId": "a18f8149-81c3-4ad1-accb-96fda5e8719a"
      },
      "source": [
        "predictionsTrain = model.predict(X_train_1)\n",
        "predictionsTest  = model.predict(X_test_1)\n",
        "\n",
        "\n",
        "correctPredictionsTrain = predictionsTrain == y_train_1 # this compares the elements from predictions, an array, against y, our collection of values from which it learned\n",
        "correctPredictionsTest  = predictionsTest  == y_test_1\n",
        "\n",
        "print('This is the accuracy of our model on our training dataset:',sum(correctPredictionsTrain) / len(correctPredictionsTrain)*100, '%')\n",
        "\n",
        "# taking the sum of a boolean array treats all 'True' items as a 1, and 'False' as 0\n",
        "\n",
        "print('This is the accuracy of our model on our testing dataset:',sum(correctPredictionsTest)  / len(correctPredictionsTest)*100, '%')"
      ],
      "execution_count": 329,
      "outputs": [
        {
          "output_type": "stream",
          "text": [
            "This is the accuracy of our model on our training dataset: 73.46625766871165 %\n",
            "This is the accuracy of our model on our testing dataset: 71.97549770290965 %\n"
          ],
          "name": "stdout"
        }
      ]
    },
    {
      "cell_type": "markdown",
      "metadata": {
        "id": "m5y12r-BrQxP",
        "colab_type": "text"
      },
      "source": [
        "## Perhaps unexpectedly, our model is not PARTICULARLY accurate given the fact that it, again, is treating the time-value data as continuous parameters, rather than categorical ones. We will refresh this as well below. "
      ]
    },
    {
      "cell_type": "code",
      "metadata": {
        "id": "RMDWy_r5rOWU",
        "colab_type": "code",
        "colab": {
          "base_uri": "https://localhost:8080/",
          "height": 238
        },
        "outputId": "f08a779f-bca3-4b6b-a8dd-bccb4616f216"
      },
      "source": [
        "head_Foot(tableRandom, 5) #so we don't have to keep scrolling, and as a reminder of the cleaned dataset we're working with"
      ],
      "execution_count": 330,
      "outputs": [
        {
          "output_type": "stream",
          "text": [
            "\n",
            "First and Last 5 readings\n",
            "\n",
            "[(327, 12, 1, 20), (21965, 38480, 27), True]\n",
            "[(334, 9, 1, 20), (12658, 38530, 27), False]\n",
            "[(349, 15, 2, 60), (21661, 39476, 29), True]\n",
            "[(285, 11, 1, 40), (17814, 32874, 24), True]\n",
            "[(288, 8, 1, 20), (8379, 38980, 28), False]\n",
            "[(315, 13, 2, 40), (22917, 39010, 28), True]\n",
            "[(325, 8, 2, 40), (4433, 35031, 23), False]\n",
            "[(354, 15, 1, 20), (27583, 36924, 26), True]\n",
            "[(346, 10, 2, 60), (13137, 36424, 25), False]\n",
            "[(284, 8, 1, 20), (6505, 32424, 23), False]\n"
          ],
          "name": "stdout"
        }
      ]
    },
    {
      "cell_type": "markdown",
      "metadata": {
        "id": "k-q60gt13S6x",
        "colab_type": "text"
      },
      "source": [
        "# We will be converting our time-data into one-hot notation now. \n",
        "\n",
        "\n",
        "### The following code was based off of this blog post on creating one-hot notation : https://jovianlin.io/keras-one-hot-encode-decode-sequence-data/"
      ]
    },
    {
      "cell_type": "code",
      "metadata": {
        "id": "8u6mOGNztUrT",
        "colab_type": "code",
        "colab": {}
      },
      "source": [
        "import numpy as np\n",
        "from keras.utils import to_categorical"
      ],
      "execution_count": 0,
      "outputs": []
    },
    {
      "cell_type": "code",
      "metadata": {
        "id": "o6PUlQy3tVR5",
        "colab_type": "code",
        "colab": {}
      },
      "source": [
        "data = np.array([a[0] for a in tableRandom])"
      ],
      "execution_count": 0,
      "outputs": []
    },
    {
      "cell_type": "code",
      "metadata": {
        "id": "rAyjwi9ItVVO",
        "colab_type": "code",
        "colab": {
          "base_uri": "https://localhost:8080/",
          "height": 136
        },
        "outputId": "28e8d65d-9e5f-40fc-ff04-322d3f21604e"
      },
      "source": [
        "print(data)"
      ],
      "execution_count": 333,
      "outputs": [
        {
          "output_type": "stream",
          "text": [
            "[[327  12   1  20]\n",
            " [334   9   1  20]\n",
            " [349  15   2  60]\n",
            " ...\n",
            " [354  15   1  20]\n",
            " [346  10   2  60]\n",
            " [284   8   1  20]]\n"
          ],
          "name": "stdout"
        }
      ]
    },
    {
      "cell_type": "code",
      "metadata": {
        "id": "HVtm85UotVXN",
        "colab_type": "code",
        "colab": {}
      },
      "source": [
        "def encode(data):\n",
        "  print('Shape of data (BEFORE encode): %s' % str(data.shape))\n",
        "  encoded = to_categorical(data)\n",
        "  print('Shape of data (AFTER encode): %s' %str(encoded.shape))\n",
        "  return encoded"
      ],
      "execution_count": 0,
      "outputs": []
    },
    {
      "cell_type": "code",
      "metadata": {
        "id": "sDUGFtpMuRYB",
        "colab_type": "code",
        "colab": {
          "base_uri": "https://localhost:8080/",
          "height": 68
        },
        "outputId": "5c6c3fa8-aa09-4021-bb94-78799b255c08"
      },
      "source": [
        "encoded_data = encode(data)\n",
        "\n",
        "print(encoded_data[0].shape)"
      ],
      "execution_count": 335,
      "outputs": [
        {
          "output_type": "stream",
          "text": [
            "Shape of data (BEFORE encode): (1305, 4)\n",
            "Shape of data (AFTER encode): (1305, 4, 355)\n",
            "(4, 355)\n"
          ],
          "name": "stdout"
        }
      ]
    },
    {
      "cell_type": "markdown",
      "metadata": {
        "id": "us4S7e3Ju-Fq",
        "colab_type": "text"
      },
      "source": [
        "## What have we done? We have transformed our time-data parameters (Day of the year, Hour of the day, Reading of the hour, Bracket of 1st/2nd/3rd 20 minute split of the hour) into a 4 entry, 355/entry length collection of one-hot notation arrays, each one representing the combination of the four parameters mentioned above. So let's change a few things from the above code and see if we can't get a better prediction. "
      ]
    },
    {
      "cell_type": "code",
      "metadata": {
        "id": "WHPfNp-ouS8w",
        "colab_type": "code",
        "colab": {}
      },
      "source": [
        "def feature(datum):\n",
        "  q = [float(a) for a in datum[0]]\n",
        "  r = [float(a) for a in datum[1]]\n",
        "  s = [float(a) for a in datum[2]]\n",
        "  t = [float(a) for a in datum[3]]\n",
        "  feat = [1]+q+r+s+t\n",
        "  return feat"
      ],
      "execution_count": 0,
      "outputs": []
    },
    {
      "cell_type": "code",
      "metadata": {
        "id": "DmQV1Eztv_9W",
        "colab_type": "code",
        "colab": {}
      },
      "source": [
        "X = [feature(d) for d in encoded_data]"
      ],
      "execution_count": 0,
      "outputs": []
    },
    {
      "cell_type": "code",
      "metadata": {
        "id": "XtLk3pV5wBZ0",
        "colab_type": "code",
        "colab": {
          "base_uri": "https://localhost:8080/",
          "height": 34
        },
        "outputId": "566685e5-28bf-48c8-dbfd-31fdfffd3dd8"
      },
      "source": [
        "len(X[0]) # we now have over 1400 parameters, vs. the 4 we had before, that the program will be tweaking (in reality, most of them are just zeros given the disparity between the number of days and the number of hours\n",
        "           # or even more dramatically, the difference between day and the number of readings/hour)"
      ],
      "execution_count": 338,
      "outputs": [
        {
          "output_type": "execute_result",
          "data": {
            "text/plain": [
              "1421"
            ]
          },
          "metadata": {
            "tags": []
          },
          "execution_count": 338
        }
      ]
    },
    {
      "cell_type": "code",
      "metadata": {
        "id": "kGH-a-OQwMFF",
        "colab_type": "code",
        "colab": {}
      },
      "source": [
        "y = [float(d[1][0]/d[1][1]*1000) for d in tableRandom] # we can keep this the same, since it our target, i.e., what we're attempting to predict."
      ],
      "execution_count": 0,
      "outputs": []
    },
    {
      "cell_type": "code",
      "metadata": {
        "id": "_UIDlTkKy1Fq",
        "colab_type": "code",
        "colab": {
          "base_uri": "https://localhost:8080/",
          "height": 34
        },
        "outputId": "2def2ce3-f581-4a07-cb1b-542fe81d1a5f"
      },
      "source": [
        "N = len(X) #saves space below\n",
        "\n",
        "X_test = X[:N//2]   #as per the lecture, we've created a randomly shuffled collection of feature & values\n",
        "X_train = X[N//2:]\n",
        "\n",
        "y_test = y[:N//2]   #and this is what we'll test the model on to see how accurately it does. \n",
        "y_train = y[N//2:]\n",
        "\n",
        "len(X_test), len(X_train)"
      ],
      "execution_count": 340,
      "outputs": [
        {
          "output_type": "execute_result",
          "data": {
            "text/plain": [
              "(652, 653)"
            ]
          },
          "metadata": {
            "tags": []
          },
          "execution_count": 340
        }
      ]
    },
    {
      "cell_type": "code",
      "metadata": {
        "id": "rkNH5kOPzEtH",
        "colab_type": "code",
        "colab": {}
      },
      "source": [
        "y_train = tf.constant(y_train, shape=[len(y_train),1])"
      ],
      "execution_count": 0,
      "outputs": []
    },
    {
      "cell_type": "code",
      "metadata": {
        "id": "ogLlrxxPzGVn",
        "colab_type": "code",
        "colab": {}
      },
      "source": [
        "K = len(X_train[0])"
      ],
      "execution_count": 0,
      "outputs": []
    },
    {
      "cell_type": "code",
      "metadata": {
        "id": "SdXel06pzHpO",
        "colab_type": "code",
        "colab": {}
      },
      "source": [
        "def MSE(X, y, theta):\n",
        "  return tf.reduce_mean((tf.matmul(X,theta) - y)**2)"
      ],
      "execution_count": 0,
      "outputs": []
    },
    {
      "cell_type": "code",
      "metadata": {
        "id": "r8POnr_CzJHL",
        "colab_type": "code",
        "colab": {}
      },
      "source": [
        "theta = tf.Variable(tf.constant([0.0]*K, shape=[K,1]))"
      ],
      "execution_count": 0,
      "outputs": []
    },
    {
      "cell_type": "code",
      "metadata": {
        "id": "ukxxHv-YzKYO",
        "colab_type": "code",
        "colab": {}
      },
      "source": [
        "optimizer = tf.train.AdamOptimizer(0.05)"
      ],
      "execution_count": 0,
      "outputs": []
    },
    {
      "cell_type": "code",
      "metadata": {
        "id": "fhRPBxGFzOiv",
        "colab_type": "code",
        "colab": {}
      },
      "source": [
        "objective = MSE(X_train, y_train, theta)"
      ],
      "execution_count": 0,
      "outputs": []
    },
    {
      "cell_type": "code",
      "metadata": {
        "id": "YRCPe_E5zPzW",
        "colab_type": "code",
        "colab": {}
      },
      "source": [
        "train = optimizer.minimize(objective)"
      ],
      "execution_count": 0,
      "outputs": []
    },
    {
      "cell_type": "code",
      "metadata": {
        "id": "MQIu4J8wzRAu",
        "colab_type": "code",
        "colab": {}
      },
      "source": [
        "init = tf.global_variables_initializer()"
      ],
      "execution_count": 0,
      "outputs": []
    },
    {
      "cell_type": "code",
      "metadata": {
        "id": "j5CEABZIzSHB",
        "colab_type": "code",
        "colab": {}
      },
      "source": [
        "sess = tf.Session()\n",
        "sess.run(init)"
      ],
      "execution_count": 0,
      "outputs": []
    },
    {
      "cell_type": "code",
      "metadata": {
        "id": "uAHCxlrezTT6",
        "colab_type": "code",
        "colab": {
          "base_uri": "https://localhost:8080/",
          "height": 187
        },
        "outputId": "f1bcd018-86d7-4f9f-b6e1-7a3a0926290d"
      },
      "source": [
        "for iteration in range(20000):\n",
        "  cvalues = sess.run([train, objective])\n",
        "  if iteration%2000 == 0:\n",
        "    print('objective = ' + str(cvalues[1]))"
      ],
      "execution_count": 350,
      "outputs": [
        {
          "output_type": "stream",
          "text": [
            "objective = 233608.38\n",
            "objective = 24588.773\n",
            "objective = 4444.5522\n",
            "objective = 1995.1124\n",
            "objective = 1818.5547\n",
            "objective = 1816.7739\n",
            "objective = 1816.7695\n",
            "objective = 1816.7693\n",
            "objective = 1816.7698\n",
            "objective = 1816.7698\n"
          ],
          "name": "stdout"
        }
      ]
    },
    {
      "cell_type": "code",
      "metadata": {
        "id": "Y2EoLuESzm2n",
        "colab_type": "code",
        "colab": {}
      },
      "source": [
        "def testThetas(thetasEval, testValues):\n",
        "  thetasEval = [float(a) for a in thetasEval]\n",
        "  #print(thetasEval, 'thetasEval')\n",
        "  #print(testValues, 'testValues')\n",
        "  outTable = []\n",
        "  for q in testValues:\n",
        "    test = [a*b for a,b in zip(thetasEval,q)]\n",
        "    outTable.append(sum(test))\n",
        "  return outTable"
      ],
      "execution_count": 0,
      "outputs": []
    },
    {
      "cell_type": "code",
      "metadata": {
        "id": "usC3wSSSznSY",
        "colab_type": "code",
        "colab": {
          "base_uri": "https://localhost:8080/",
          "height": 102
        },
        "outputId": "120d3522-aa00-4fa0-bfad-5eb5d267ce28"
      },
      "source": [
        "with sess.as_default():\n",
        "  print('MSE is =', MSE(X_train,y_train,theta).eval())\n",
        "  \n",
        "  \n",
        "  thetasEval = theta.eval()\n",
        "  testValues = X_test\n",
        "  \n",
        "  testResults = testThetas(thetasEval,testValues)\n",
        "  \n",
        "  print(testResults[:5])\n",
        "  print(y_test[:5])\n",
        "  \n",
        "  accuracy = zip(testResults,y_test)\n",
        "  \n",
        "  error = [((((a-b)**2)**.5)/b)*100 for a,b in accuracy]\n",
        "  \n",
        "  print(error[:5])\n",
        "  \n",
        "  avg_Error = sum(error)/len(error)\n",
        "  \n",
        "  print(avg_Error, 'as a % of the y_test value')"
      ],
      "execution_count": 354,
      "outputs": [
        {
          "output_type": "stream",
          "text": [
            "MSE is = 1816.7698\n",
            "[514.3497543334961, 355.24925994873047, 603.0153656005859, 514.7384796142578, 211.637451171875]\n",
            "[570.8160083160083, 328.52322865299766, 548.7131421623264, 541.8872056944698, 214.95638789122626]\n",
            "[9.892198740027629, 8.135202921666814, 9.896286286176686, 5.010032677449696, 1.5440046941199665]\n",
            "10.988861784531165 as a % of the y_test value\n"
          ],
          "name": "stdout"
        }
      ]
    },
    {
      "cell_type": "markdown",
      "metadata": {
        "id": "BZsoRhmGzy8n",
        "colab_type": "text"
      },
      "source": [
        "# Success! We've dropped our regression analysis accuracy down to only a 10% error, from the 24% error above!"
      ]
    },
    {
      "cell_type": "markdown",
      "metadata": {
        "id": "lTb_ZD0G0uu9",
        "colab_type": "text"
      },
      "source": [
        "# Now we'll try the same thing for our classification analysis (At or below 50% occupancy prediction.)"
      ]
    },
    {
      "cell_type": "code",
      "metadata": {
        "id": "UlGJex9wz6vC",
        "colab_type": "code",
        "colab": {}
      },
      "source": [
        "X_classification = [feature(d) for d in encoded_data] # we can reuse the naieve feature table from above for the features here again\n",
        "y_classification = [value[-1] for value in tableRandom]"
      ],
      "execution_count": 0,
      "outputs": []
    },
    {
      "cell_type": "code",
      "metadata": {
        "id": "XsH1FB-az6mA",
        "colab_type": "code",
        "colab": {}
      },
      "source": [
        "N = len(X_classification)\n",
        "\n",
        "X_train_1 = X_classification[:N//2]\n",
        "\n",
        "X_test_1 = X_classification[N//2:]\n",
        "\n",
        "y_train_1 = y_classification[:N//2]\n",
        "\n",
        "y_test_1 = y_classification[N//2:]"
      ],
      "execution_count": 0,
      "outputs": []
    },
    {
      "cell_type": "code",
      "metadata": {
        "id": "eYvb4EW1z5Wm",
        "colab_type": "code",
        "colab": {
          "base_uri": "https://localhost:8080/",
          "height": 34
        },
        "outputId": "487aea31-d6c2-4c11-d51e-03d60e5e57df"
      },
      "source": [
        "len(X_classification), len(X_train_1), len(X_test_1)"
      ],
      "execution_count": 357,
      "outputs": [
        {
          "output_type": "execute_result",
          "data": {
            "text/plain": [
              "(1305, 652, 653)"
            ]
          },
          "metadata": {
            "tags": []
          },
          "execution_count": 357
        }
      ]
    },
    {
      "cell_type": "code",
      "metadata": {
        "id": "yfmnXaNA09zf",
        "colab_type": "code",
        "colab": {
          "base_uri": "https://localhost:8080/",
          "height": 34
        },
        "outputId": "b20c6330-bf1f-4827-c625-a1c58c24ed72"
      },
      "source": [
        "len(y_classification), len(y_train_1), len(y_test_1)"
      ],
      "execution_count": 358,
      "outputs": [
        {
          "output_type": "execute_result",
          "data": {
            "text/plain": [
              "(1305, 652, 653)"
            ]
          },
          "metadata": {
            "tags": []
          },
          "execution_count": 358
        }
      ]
    },
    {
      "cell_type": "code",
      "metadata": {
        "id": "zDP3LfGO0_CH",
        "colab_type": "code",
        "colab": {}
      },
      "source": [
        "model = linear_model.LogisticRegression()"
      ],
      "execution_count": 0,
      "outputs": []
    },
    {
      "cell_type": "code",
      "metadata": {
        "id": "vtr7CmIv1A4u",
        "colab_type": "code",
        "colab": {
          "base_uri": "https://localhost:8080/",
          "height": 136
        },
        "outputId": "d13a08b0-53f3-4e7c-e16c-1b66014efab4"
      },
      "source": [
        "model.fit(X_train_1, y_train_1)\n"
      ],
      "execution_count": 360,
      "outputs": [
        {
          "output_type": "stream",
          "text": [
            "/usr/local/lib/python3.6/dist-packages/sklearn/linear_model/logistic.py:432: FutureWarning: Default solver will be changed to 'lbfgs' in 0.22. Specify a solver to silence this warning.\n",
            "  FutureWarning)\n"
          ],
          "name": "stderr"
        },
        {
          "output_type": "execute_result",
          "data": {
            "text/plain": [
              "LogisticRegression(C=1.0, class_weight=None, dual=False, fit_intercept=True,\n",
              "                   intercept_scaling=1, l1_ratio=None, max_iter=100,\n",
              "                   multi_class='warn', n_jobs=None, penalty='l2',\n",
              "                   random_state=None, solver='warn', tol=0.0001, verbose=0,\n",
              "                   warm_start=False)"
            ]
          },
          "metadata": {
            "tags": []
          },
          "execution_count": 360
        }
      ]
    },
    {
      "cell_type": "code",
      "metadata": {
        "id": "A1YWlHkh1BRV",
        "colab_type": "code",
        "colab": {
          "base_uri": "https://localhost:8080/",
          "height": 51
        },
        "outputId": "295e868f-ca23-4a5b-efa3-6fe5a586d502"
      },
      "source": [
        "predictionsTrain = model.predict(X_train_1)\n",
        "predictionsTest  = model.predict(X_test_1)\n",
        "\n",
        "\n",
        "correctPredictionsTrain = predictionsTrain == y_train_1 # this compares the elements from predictions, an array, against y, our collection of values from which it learned\n",
        "correctPredictionsTest  = predictionsTest  == y_test_1\n",
        "\n",
        "print('This is the accuracy of our model on our training dataset:',sum(correctPredictionsTrain) / len(correctPredictionsTrain)*100, '%')# taking the sum of a boolean array treats all 'True' items as a 1, and 'False' as 0, which makes sense\n",
        "\n",
        "print('This is the accuracy of our model on our testing dataset:',sum(correctPredictionsTest)  / len(correctPredictionsTest)*100, '%')"
      ],
      "execution_count": 361,
      "outputs": [
        {
          "output_type": "stream",
          "text": [
            "This is the accuracy of our model on our training dataset: 89.41717791411043 %\n",
            "This is the accuracy of our model on our testing dataset: 86.98315467075038 %\n"
          ],
          "name": "stdout"
        }
      ]
    },
    {
      "cell_type": "markdown",
      "metadata": {
        "id": "VYNaJDLn1FbS",
        "colab_type": "text"
      },
      "source": [
        "# Once again, a significant improvement in accuracy! From only 75/71 % accuracy to just under 90% on the training, and just under 87% on the testing! Success!"
      ]
    },
    {
      "cell_type": "code",
      "metadata": {
        "id": "D038s3pr1DNb",
        "colab_type": "code",
        "colab": {}
      },
      "source": [
        ""
      ],
      "execution_count": 0,
      "outputs": []
    }
  ]
}