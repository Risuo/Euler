{
  "nbformat": 4,
  "nbformat_minor": 0,
  "metadata": {
    "colab": {
      "name": "Classification & Regression Final Project - Birmingham Parking Garage Dataset.ipynb",
      "version": "0.3.2",
      "provenance": [],
      "collapsed_sections": [],
      "include_colab_link": true
    },
    "kernelspec": {
      "name": "python3",
      "display_name": "Python 3"
    }
  },
  "cells": [
    {
      "cell_type": "markdown",
      "metadata": {
        "id": "view-in-github",
        "colab_type": "text"
      },
      "source": [
        "<a href=\"https://colab.research.google.com/github/Risuo/Euler/blob/master/Classification_%26_Regression_Final_Project_Birmingham_Parking_Garage_Dataset.ipynb\" target=\"_parent\"><img src=\"https://colab.research.google.com/assets/colab-badge.svg\" alt=\"Open In Colab\"/></a>"
      ]
    },
    {
      "cell_type": "markdown",
      "metadata": {
        "id": "LBtQ-gJN1vGc",
        "colab_type": "text"
      },
      "source": [
        "# Apologies for the length of this project! The first part is processing on the dataset (a collection of by-garage occupancy data collected over a number of months in Birmingham, at non-uniform frequency and timing). \n",
        "\n",
        "# The second part is a quick visual representation of by-hour average occupancy rates broken down by garage. \n",
        "\n",
        "# The third part begins the cleaning of the dataset to be able to be run through our regression & classification analysis. \n",
        "\n",
        "### Dataset can be found here: http://archive.ics.uci.edu/ml/datasets/Parking+Birmingham\n",
        "\n",
        "###"
      ]
    },
    {
      "cell_type": "code",
      "metadata": {
        "id": "NbuPvLHUiB0J",
        "colab_type": "code",
        "colab": {}
      },
      "source": [
        "from collections import defaultdict\n",
        "import time\n",
        "import matplotlib\n",
        "import matplotlib.pyplot as plt\n",
        "import matplotlib.gridspec as gridspec"
      ],
      "execution_count": 0,
      "outputs": []
    },
    {
      "cell_type": "code",
      "metadata": {
        "id": "Bj2xxhQqd9Jm",
        "colab_type": "code",
        "colab": {}
      },
      "source": [
        "matplotlib.style.use('ggplot')"
      ],
      "execution_count": 0,
      "outputs": []
    },
    {
      "cell_type": "code",
      "metadata": {
        "id": "I2cN5GzCiPKw",
        "colab_type": "code",
        "colab": {}
      },
      "source": [
        "def create_full():\n",
        "  dataset = []\n",
        "  f = open(\"/gdrive/My Drive/Birmingham Parking Data/dataset.csv\")\n",
        "  header = f.readline().strip().split(',')\n",
        "  for line in f:\n",
        "    line = line.strip('\\n').split(',')\n",
        "    line[1] = int(line[1])\n",
        "    line[2] = int(line[2])\n",
        "    line[3] = time.strptime(line[3], '%Y-%m-%d %H:%M:%S')\n",
        "    line.append(line[2]/line[1])\n",
        "    dataset.append(line)\n",
        "  header.append('Occupancy%')\n",
        "  return dataset, header"
      ],
      "execution_count": 0,
      "outputs": []
    },
    {
      "cell_type": "markdown",
      "metadata": {
        "id": "dpCj2RPklEFp",
        "colab_type": "text"
      },
      "source": [
        "First bit of cleaning needing to be done was to remove a newline (\\n) text content from the fourth entry of every line. \n",
        "\n",
        "We're also formatting the capacity & occupancy entries as integers, and modifying the time entry into a timeStructure so we can manipulate it later. "
      ]
    },
    {
      "cell_type": "code",
      "metadata": {
        "id": "jKSP-bn4isat",
        "colab_type": "code",
        "colab": {}
      },
      "source": [
        "dataset, header = create_full()"
      ],
      "execution_count": 0,
      "outputs": []
    },
    {
      "cell_type": "markdown",
      "metadata": {
        "id": "vStEKxgUm4xD",
        "colab_type": "text"
      },
      "source": [
        "We're going to be performing regression and classification analysis on this dataset.  \n",
        "\n",
        "The regression analysis will attempt to predict whether or not the parking garage is filling up or emptying out at a given time (or perhaps at 50% or greater occupancy, not sure which I'd prefer at this point).\n",
        "\n",
        "The classification analysis will attempt to predict how many available spots there are at a given time. "
      ]
    },
    {
      "cell_type": "code",
      "metadata": {
        "id": "oBjdE13viunz",
        "colab_type": "code",
        "outputId": "3af43989-7373-4d2e-c1a6-682737608634",
        "colab": {
          "base_uri": "https://localhost:8080/",
          "height": 289
        }
      },
      "source": [
        " header, dataset[0], dataset[1], dataset[2]"
      ],
      "execution_count": 5,
      "outputs": [
        {
          "output_type": "execute_result",
          "data": {
            "text/plain": [
              "(['SystemCodeNumber', 'Capacity', 'Occupancy', 'LastUpdated', 'Occupancy%'],\n",
              " ['BHMBCCMKT01',\n",
              "  577,\n",
              "  61,\n",
              "  time.struct_time(tm_year=2016, tm_mon=10, tm_mday=4, tm_hour=7, tm_min=59, tm_sec=42, tm_wday=1, tm_yday=278, tm_isdst=-1),\n",
              "  0.10571923743500866],\n",
              " ['BHMBCCMKT01',\n",
              "  577,\n",
              "  64,\n",
              "  time.struct_time(tm_year=2016, tm_mon=10, tm_mday=4, tm_hour=8, tm_min=25, tm_sec=42, tm_wday=1, tm_yday=278, tm_isdst=-1),\n",
              "  0.11091854419410745],\n",
              " ['BHMBCCMKT01',\n",
              "  577,\n",
              "  80,\n",
              "  time.struct_time(tm_year=2016, tm_mon=10, tm_mday=4, tm_hour=8, tm_min=59, tm_sec=42, tm_wday=1, tm_yday=278, tm_isdst=-1),\n",
              "  0.1386481802426343])"
            ]
          },
          "metadata": {
            "tags": []
          },
          "execution_count": 5
        }
      ]
    },
    {
      "cell_type": "markdown",
      "metadata": {
        "id": "NA5Z9mpEQjzZ",
        "colab_type": "text"
      },
      "source": [
        "We're going to do a little visual representation of the dataset here. We'll be showing the occupancy rates of the various parking garages over a span of time. There are 30 different parking garages in the dataset, and while we'll be eliminating the by-garage difference on the data we work with for the regression/classification, at this point separating them into 30 different buckets will allow us to visualize how their occupancy goes. "
      ]
    },
    {
      "cell_type": "code",
      "metadata": {
        "id": "eQzH1fyhQ5Ck",
        "colab_type": "code",
        "outputId": "7b333daf-eeab-485a-d5f1-c4b84053e31e",
        "colab": {
          "base_uri": "https://localhost:8080/",
          "height": 527
        }
      },
      "source": [
        "garageList = ['BHMBCCMKT01','BHMBCCPST01','BHMBCCSNH01','BHMBCCTHL01','BHMBRCBRG01','BHMBRCBRG02','BHMBRCBRG03',\n",
        "           'BHMBRTARC01','BHMEURBRD01','BHMEURBRD02','BHMMBMMBX01','BHMNCPHST01','BHMNCPLDH01','BHMNCPNHS01',\n",
        "           'BHMNCPNST01','BHMNCPPLS01','BHMNCPRAN01','Broad Street','Bull Ring','NIA Car Parks','NIA North',\n",
        "           'NIA South','Others-CCCPS105a','Others-CCCPS119a','Others-CCCPS133','Others-CCCPS135a','Others-CCCPS202',\n",
        "           'Others-CCCPS8','Others-CCCPS98','Shopping']\n",
        "\n",
        "garage_dict = defaultdict(list)\n",
        "\n",
        "for g in garageList:\n",
        "  for d in dataset:\n",
        "    if d[0] == g:\n",
        "      times = [d[3].tm_wday, d[3].tm_hour, d[3].tm_min] #extracting the week-day, hour, and minute info\n",
        "      times.append(d[4]) # extracting the occupancy % field\n",
        "      garage_dict[g].append(times) # appending to the by-garage dictionary entry\n",
        "      \n",
        "for a in garage_dict:\n",
        "  print(a, len(garage_dict[a]))\n",
        "  \n"
      ],
      "execution_count": 6,
      "outputs": [
        {
          "output_type": "stream",
          "text": [
            "BHMBCCMKT01 1312\n",
            "BHMBCCPST01 1276\n",
            "BHMBCCSNH01 1294\n",
            "BHMBCCTHL01 1312\n",
            "BHMBRCBRG01 1186\n",
            "BHMBRCBRG02 1186\n",
            "BHMBRCBRG03 1186\n",
            "BHMBRTARC01 88\n",
            "BHMEURBRD01 1312\n",
            "BHMEURBRD02 1276\n",
            "BHMMBMMBX01 1312\n",
            "BHMNCPHST01 1312\n",
            "BHMNCPLDH01 1292\n",
            "BHMNCPNHS01 1038\n",
            "BHMNCPNST01 1312\n",
            "BHMNCPPLS01 1291\n",
            "BHMNCPRAN01 1186\n",
            "Broad Street 1312\n",
            "Bull Ring 1186\n",
            "NIA Car Parks 1204\n",
            "NIA North 162\n",
            "NIA South 1204\n",
            "Others-CCCPS105a 1312\n",
            "Others-CCCPS119a 1312\n",
            "Others-CCCPS133 1294\n",
            "Others-CCCPS135a 1312\n",
            "Others-CCCPS202 1312\n",
            "Others-CCCPS8 1312\n",
            "Others-CCCPS98 1312\n",
            "Shopping 1312\n"
          ],
          "name": "stdout"
        }
      ]
    },
    {
      "cell_type": "code",
      "metadata": {
        "id": "X8u3-J6UV9E1",
        "colab_type": "code",
        "outputId": "766b269b-019c-424b-a1c6-546a8c5b7326",
        "colab": {
          "base_uri": "https://localhost:8080/",
          "height": 51
        }
      },
      "source": [
        "print(garage_dict['BHMMBMMBX01'][:5])\n",
        "print(garage_dict['BHMNCPPLS01'][:5])"
      ],
      "execution_count": 7,
      "outputs": [
        {
          "output_type": "stream",
          "text": [
            "[[1, 7, 59, 0.38427947598253276], [1, 8, 25, 0.4395924308588064], [1, 8, 59, 0.5036390101892285], [1, 9, 32, 0.6026200873362445], [1, 9, 59, 0.7059679767103348]]\n",
            "[[1, 7, 46, 0.1688888888888889], [1, 7, 46, 0.1688888888888889], [1, 8, 25, 0.18222222222222223], [1, 8, 59, 0.18888888888888888], [1, 9, 25, 0.18666666666666668]]\n"
          ],
          "name": "stdout"
        }
      ]
    },
    {
      "cell_type": "markdown",
      "metadata": {
        "id": "g4pis5iR4K-v",
        "colab_type": "text"
      },
      "source": [
        "## We'll be creating a new entry to allow us to visualize the average occupancy of each garage by hour below. "
      ]
    },
    {
      "cell_type": "code",
      "metadata": {
        "id": "kg0lTBVxkkR8",
        "colab_type": "code",
        "colab": {}
      },
      "source": [
        "def create_hour_averages(garageList, garage_dict):\n",
        "  garageDictOut = defaultdict(list)\n",
        "  for garage in garageList:\n",
        "    hourAverages = {}\n",
        "    garage_hour_averages = defaultdict(list)\n",
        "    for a in garage_dict[garage]:\n",
        "      garage_hour_averages[a[1]].append(a[3])\n",
        "    for b in garage_hour_averages:\n",
        "      hourAverages[b] = (sum(garage_hour_averages[b]) / len(garage_hour_averages[b]))*100\n",
        "    garageDictOut[garage].append(hourAverages) \n",
        "  return garageDictOut\n",
        "\n"
      ],
      "execution_count": 0,
      "outputs": []
    },
    {
      "cell_type": "code",
      "metadata": {
        "id": "_4C4Dq0sr7Jz",
        "colab_type": "code",
        "outputId": "8ee374ea-d1db-45a9-8e6a-d9cc99a690b1",
        "colab": {
          "base_uri": "https://localhost:8080/",
          "height": 187
        }
      },
      "source": [
        "hourlyAvgAllGarages = create_hour_averages(garageList, garage_dict)\n",
        "\n",
        "hourlyAvgAllGarages['BHMMBMMBX01']"
      ],
      "execution_count": 9,
      "outputs": [
        {
          "output_type": "execute_result",
          "data": {
            "text/plain": [
              "[{7: 44.22956955708047,\n",
              "  8: 46.14461623195246,\n",
              "  9: 56.70994402274262,\n",
              "  10: 66.36109304510308,\n",
              "  11: 73.10821319614762,\n",
              "  12: 78.13826188572483,\n",
              "  13: 81.01681605761127,\n",
              "  14: 82.34904381870201,\n",
              "  15: 76.96832806304272,\n",
              "  16: 69.76986397630874}]"
            ]
          },
          "metadata": {
            "tags": []
          },
          "execution_count": 9
        }
      ]
    },
    {
      "cell_type": "code",
      "metadata": {
        "id": "WivXwhNhvs9t",
        "colab_type": "code",
        "colab": {}
      },
      "source": [
        "def build_barGraphs(dataset, n_graphs):\n",
        "  dataset = dataset\n",
        "  n_graphs = n_graphs\n",
        "  \n",
        "  fig = plt.figure(figsize=(4*(n_graphs),4*(n_graphs)))\n",
        "  gs = gridspec.GridSpec(nrows=n_graphs, ncols=n_graphs)\n",
        "  \n",
        "  xCoord = 0\n",
        "  yCoord = 0\n",
        "  \n",
        "  for entry in hourlyAvgAllGarages:\n",
        "    for garage in hourlyAvgAllGarages[entry]:\n",
        "      xAxis = []\n",
        "      yAxis = []\n",
        "      for k,v in garage.items():\n",
        "        xAxis.append(k)\n",
        "        yAxis.append(v)\n",
        "      b = fig.add_subplot(gs[xCoord,yCoord])\n",
        "      b.bar(xAxis, yAxis)\n",
        "      b.set_ylim([0,100])\n",
        "      b.set_title(str(entry))\n",
        "      \n",
        "      if xCoord < n_graphs**.5-1:\n",
        "        xCoord += 1\n",
        "      else:\n",
        "        xCoord = 0\n",
        "        yCoord += 1\n",
        "        \n",
        "  plt.tight_layout()\n",
        "  plt.show()\n",
        "      \n",
        "  "
      ],
      "execution_count": 0,
      "outputs": []
    },
    {
      "cell_type": "code",
      "metadata": {
        "id": "MhFGGeMyZC-h",
        "colab_type": "code",
        "outputId": "b23818f0-daf6-459f-e725-3e50bb01c20c",
        "colab": {
          "base_uri": "https://localhost:8080/",
          "height": 1000
        }
      },
      "source": [
        "build_barGraphs(hourlyAvgAllGarages, len(hourlyAvgAllGarages))"
      ],
      "execution_count": 11,
      "outputs": [
        {
          "output_type": "display_data",
          "data": {
            "image/png": "[encoded data removed]",
            "text/plain": [
              "<Figure size 8640x8640 with 30 Axes>"
            ]
          },
          "metadata": {
            "tags": []
          }
        }
      ]
    },
    {
      "cell_type": "markdown",
      "metadata": {
        "id": "dpNs4RyMYnkg",
        "colab_type": "text"
      },
      "source": [
        "As might have been expected, with a few exceptions, the garages tend to start emptier, and fill up through the day, with a peak around Noon or shortly thereafter. \n",
        "\n",
        "With that taken care of, let's turn to the task at hand. Regression and classification. \n",
        "\n",
        "As a reminder, our regression analysis will attempt to predict whether or not there are more or less than 50% of all parking spots remaining available. \n",
        "\n",
        "The classification analysis will attempt to predict how many available spots there are at a given time."
      ]
    },
    {
      "cell_type": "markdown",
      "metadata": {
        "id": "0s6wHUcck0Bj",
        "colab_type": "text"
      },
      "source": [
        "Our first step will be to normalize the data from each of the multiple garages, to create a total number of spots available/taken among ALL garages, at the measured point in time.\n",
        "\n",
        "The first obstacle will be the inconsistencies present in various effectively 'simultaneous' time measurements (variations within the seconds or few minutes timing measurement between garages). The following code blocks deals with that problem."
      ]
    },
    {
      "cell_type": "code",
      "metadata": {
        "id": "ekK3XGm4Z8iK",
        "colab_type": "code",
        "colab": {}
      },
      "source": [
        "def create_full_two():\n",
        "  dataset = []\n",
        "  f = open(\"/gdrive/My Drive/Birmingham Parking Data/dataset.csv\")\n",
        "  header = f.readline().strip().split(',')\n",
        "  hour_entered = False\n",
        "  for line in f:\n",
        "    line = line.strip('\\n').split(',')\n",
        "    line[1] = int(line[1])\n",
        "    line[2] = int(line[2])\n",
        "    line[3] = time.strptime(line[3], '%Y-%m-%d %H:%M:%S')\n",
        "    line.append(line[2]/line[1]) #Occupancy%\n",
        "    line.append([line[3].tm_yday, line[3].tm_wday, line[3].tm_hour, line[3].tm_min]) #Weekday & Hour (24H format)\n",
        "        \n",
        "    try: #This is a look-back method that identifies the previous hour entry, compares it with the current hour entry, and if the same, adds an index, which will \n",
        "         #be utilized in the find_total_occupancy method so as to separate out the hour counts by multiple readings/hour, where applicable.\n",
        "         #This is required, rather than just splitting by some set number of minutes, because the intervals between measurements are unfixed, and therefore\n",
        "         #has entries with unpredictable frequency (multiple readings within the same span of a few minutes).\n",
        "      prev_hour_entered = dataset[-1][4][:3] #Identifies the most recently entered entry's yDay, wDay, & hour data \n",
        "      if prev_hour_entered == line[5][:3]:   #Determines if the yDay, wDay & hour are the same, and if so  \n",
        "        line.append(dataset[-1][5] +1)       #Appends the index value to the time entry data\n",
        "      else:\n",
        "        line.append(1)\n",
        "    except:\n",
        "      line.append(1)\n",
        "      \n",
        "      \n",
        "    line.pop(3) #Removes the full strptime formatted data\n",
        "    line.append((line[1]-line[2])) #Remaining Spots\n",
        "    #line.pop(0) #Removes the per-garage labelling\n",
        "    \n",
        "    \n",
        "    dataset.append(line)\n",
        "  \n",
        "\n",
        "  \n",
        "  header.append('Occupancy%')\n",
        "  header.pop(3)\n",
        "  header.append('Weekday,Hour')\n",
        "  header.append('Remaining')\n",
        "  \n",
        "  \n",
        "  \n",
        "  \n",
        "  return dataset, header"
      ],
      "execution_count": 0,
      "outputs": []
    },
    {
      "cell_type": "code",
      "metadata": {
        "id": "CzXFRN-XU6jD",
        "colab_type": "code",
        "colab": {}
      },
      "source": [
        "dataset2, header2 = create_full_two()"
      ],
      "execution_count": 0,
      "outputs": []
    },
    {
      "cell_type": "code",
      "metadata": {
        "id": "YlzguYmdpvQg",
        "colab_type": "code",
        "outputId": "0aab17d5-f646-49cf-9bf3-9c4c33787e7a",
        "colab": {
          "base_uri": "https://localhost:8080/",
          "height": 459
        }
      },
      "source": [
        "header2,dataset2[:10],dataset2[-10:]"
      ],
      "execution_count": 14,
      "outputs": [
        {
          "output_type": "execute_result",
          "data": {
            "text/plain": [
              "(['SystemCodeNumber',\n",
              "  'Capacity',\n",
              "  'Occupancy',\n",
              "  'Occupancy%',\n",
              "  'Weekday,Hour',\n",
              "  'Remaining'],\n",
              " [['BHMBCCMKT01', 577, 61, 0.10571923743500866, [278, 1, 7, 59], 1, 516],\n",
              "  ['BHMBCCMKT01', 577, 64, 0.11091854419410745, [278, 1, 8, 25], 1, 513],\n",
              "  ['BHMBCCMKT01', 577, 80, 0.1386481802426343, [278, 1, 8, 59], 2, 497],\n",
              "  ['BHMBCCMKT01', 577, 107, 0.1854419410745234, [278, 1, 9, 32], 1, 470],\n",
              "  ['BHMBCCMKT01', 577, 150, 0.25996533795493937, [278, 1, 9, 59], 2, 427],\n",
              "  ['BHMBCCMKT01', 577, 177, 0.30675909878682844, [278, 1, 10, 26], 1, 400],\n",
              "  ['BHMBCCMKT01', 577, 219, 0.37954939341421146, [278, 1, 10, 59], 2, 358],\n",
              "  ['BHMBCCMKT01', 577, 247, 0.42807625649913345, [278, 1, 11, 25], 1, 330],\n",
              "  ['BHMBCCMKT01', 577, 259, 0.4488734835355286, [278, 1, 11, 59], 2, 318],\n",
              "  ['BHMBCCMKT01', 577, 266, 0.4610051993067591, [278, 1, 12, 29], 1, 311]],\n",
              " [['Shopping', 1920, 1424, 0.7416666666666667, [354, 0, 12, 3], 1, 496],\n",
              "  ['Shopping', 1920, 1475, 0.7682291666666666, [354, 0, 12, 30], 2, 445],\n",
              "  ['Shopping', 1920, 1510, 0.7864583333333334, [354, 0, 13, 3], 1, 410],\n",
              "  ['Shopping', 1920, 1510, 0.7864583333333334, [354, 0, 13, 30], 2, 410],\n",
              "  ['Shopping', 1920, 1521, 0.7921875, [354, 0, 14, 3], 1, 399],\n",
              "  ['Shopping', 1920, 1517, 0.7901041666666667, [354, 0, 14, 30], 2, 403],\n",
              "  ['Shopping', 1920, 1487, 0.7744791666666667, [354, 0, 15, 3], 1, 433],\n",
              "  ['Shopping', 1920, 1432, 0.7458333333333333, [354, 0, 15, 29], 2, 488],\n",
              "  ['Shopping', 1920, 1321, 0.6880208333333333, [354, 0, 16, 3], 1, 599],\n",
              "  ['Shopping', 1920, 1180, 0.6145833333333334, [354, 0, 16, 30], 2, 740]])"
            ]
          },
          "metadata": {
            "tags": []
          },
          "execution_count": 14
        }
      ]
    },
    {
      "cell_type": "code",
      "metadata": {
        "id": "DdYveBQLLMu5",
        "colab_type": "code",
        "colab": {}
      },
      "source": [
        "# Here we're going to write a method to find the total occupancy per yDay data within the dataset\n",
        "\n",
        "def find_total_occupancy(dataset2):\n",
        "  \n",
        "  yData = defaultdict(list)\n",
        "  \n",
        "  for line in dataset2:\n",
        "    if line[4][-1] <= 20:\n",
        "      yData[line[4][0],line[4][2],line[5],20].append((line[2],line[1]))\n",
        "    elif 20 < line[4][-1] <= 40:\n",
        "      yData[line[4][0],line[4][2],line[5],40].append((line[2],line[1]))\n",
        "    else:\n",
        "      yData[line[4][0],line[4][2],line[5],60].append((line[2],line[1]))\n",
        "  for minute_Split in yData:\n",
        "    occSum = 0\n",
        "    availSum = 0\n",
        "    for item in yData[minute_Split]:\n",
        "      occSum += item[0]\n",
        "      availSum += item[1]\n",
        "    yData[minute_Split] = (occSum, availSum, len(yData[minute_Split]))\n",
        "\n",
        "  return yData\n",
        "  "
      ],
      "execution_count": 0,
      "outputs": []
    },
    {
      "cell_type": "code",
      "metadata": {
        "id": "ta4-q5kCLPAx",
        "colab_type": "code",
        "colab": {}
      },
      "source": [
        "# Here we're going to extract the total number of available parking spots\n",
        "def find_total_spots(dataset2,garageList):\n",
        "  \n",
        "  table = defaultdict(list)\n",
        "  totalSpots = 0\n",
        "\n",
        "  for line in dataset2:\n",
        "    for garage in garageList:\n",
        "      if line[0] == garage:\n",
        "        table[garage] = line[1]\n",
        "    \n",
        "  for a in table:\n",
        "    totalSpots += table[a]\n",
        "\n",
        "  return totalSpots"
      ],
      "execution_count": 0,
      "outputs": []
    },
    {
      "cell_type": "code",
      "metadata": {
        "id": "Vadulh57VlNY",
        "colab_type": "code",
        "colab": {}
      },
      "source": [
        "def create_table(dataset2, garageList):\n",
        "  \n",
        "  totalSpots = find_total_spots(dataset2,garageList)\n",
        "  \n",
        "  occupancyData = find_total_occupancy(dataset2)\n",
        "\n",
        "  #print(dataset3)\n",
        "  \n",
        "  table = []\n",
        "\n",
        "  for a in occupancyData:\n",
        "    table.append([a,occupancyData[a]])\n",
        "\n",
        "  print(\"(tm_yday, tm_wday, time-reading-index/hr, 0-20/21-40/41-60)\", \"(Total occupied spots\", \"garage instances with entry)\")\n",
        "\n",
        "\n",
        "  return table\n",
        "\n"
      ],
      "execution_count": 0,
      "outputs": []
    },
    {
      "cell_type": "code",
      "metadata": {
        "id": "Gl84MUOXL0LT",
        "colab_type": "code",
        "colab": {}
      },
      "source": [
        "def find_Limits(dataset):\n",
        "  maxOccupied = 0\n",
        "  maxGarageInstance = 0\n",
        "  maxTimeIndex = 0\n",
        "\n",
        "  minOccupied = 10000\n",
        "  minGarageInstance = 100\n",
        "  minTimeIndex = 100\n",
        "\n",
        "\n",
        "  for c in table:\n",
        "    if c[1][0] > maxOccupied:\n",
        "      maxOccupied = c[1][0]\n",
        "    if c[1][0] < minOccupied:\n",
        "      minOccupied = c[1][0]\n",
        "    if c[1][2] > maxGarageInstance:\n",
        "      maxGarageInstance = c[1][1]\n",
        "    if c[1][2] < minGarageInstance:\n",
        "      minGarageInstance = c[1][1]\n",
        "    if c[0][2] > maxTimeIndex:\n",
        "      maxTimeIndex = c[0][2]\n",
        "    if c[0][2] < minTimeIndex:\n",
        "      minTimeIndex = c[0][2]\n",
        "\n",
        "\n",
        "\n",
        "  print('\\nMaximum Occupied State of all Garages within a 20 minute spread of any hour:', maxOccupied, \n",
        "        '\\nMaximum number of Spots included in the count:', maxGarageInstance, \n",
        "        '\\nMaximum number of discrete readings/hour in any garage:', maxTimeIndex, '\\n',\n",
        "        '\\nMinimum Occupied State of all Garages within a 20 minute spread of any hour:', minOccupied,\n",
        "        '\\nMinimum number of Spots included in the count:', minGarageInstance,\n",
        "        '\\nMinimum number of discrete readings/hour in any garage:', minTimeIndex, '\\n')"
      ],
      "execution_count": 0,
      "outputs": []
    },
    {
      "cell_type": "code",
      "metadata": {
        "id": "4KD2Ayyx_lbj",
        "colab_type": "code",
        "colab": {}
      },
      "source": [
        "def head_Foot(table, n):\n",
        "  print('\\nFirst and Last', n, 'readings\\n')\n",
        "\n",
        "  for a in table[:n]:\n",
        "    print(a)\n",
        "  for b in table[-n:]:\n",
        "    print(b)"
      ],
      "execution_count": 0,
      "outputs": []
    },
    {
      "cell_type": "code",
      "metadata": {
        "id": "8Hl0uhB495DO",
        "colab_type": "code",
        "outputId": "250c36b3-cfd9-4108-baa3-ed1b267e8d69",
        "colab": {
          "base_uri": "https://localhost:8080/",
          "height": 884
        }
      },
      "source": [
        "table = create_table(dataset2, garageList)\n",
        "\n",
        "print('\\nPre-cleaning full table max/mins:')\n",
        "head_Foot(table, 5)\n",
        "find_Limits(table)\n",
        "print(\"Total number of time readings:\",len(table))\n",
        "\n",
        "table = [a for a in table if a[1][2] > 20]\n",
        "\n",
        "print('\\nPost-cleaning full table max/mins:')\n",
        "head_Foot(table, 5)\n",
        "find_Limits(table)\n",
        "print(\"Total number of time readings:\",len(table))"
      ],
      "execution_count": 20,
      "outputs": [
        {
          "output_type": "stream",
          "text": [
            "(tm_yday, tm_wday, time-reading-index/hr, 0-20/21-40/41-60) (Total occupied spots garage instances with entry)\n",
            "\n",
            "Pre-cleaning full table max/mins:\n",
            "\n",
            "First and Last 5 readings\n",
            "\n",
            "[(278, 7, 1, 60), (7852, 38980, 28)]\n",
            "[(278, 8, 1, 40), (9648, 38980, 28)]\n",
            "[(278, 8, 2, 60), (12296, 38980, 28)]\n",
            "[(278, 9, 1, 40), (14905, 38980, 28)]\n",
            "[(278, 9, 2, 60), (17109, 38980, 28)]\n",
            "[(353, 13, 2, 60), (80, 600, 1)]\n",
            "[(353, 15, 2, 60), (64, 600, 1)]\n",
            "[(353, 16, 1, 40), (61, 600, 1)]\n",
            "[(313, 13, 3, 60), (677, 690, 1)]\n",
            "[(313, 14, 1, 40), (647, 690, 1)]\n",
            "\n",
            "Maximum Occupied State of all Garages within a 20 minute spread of any hour: 28183 \n",
            "Maximum number of Spots included in the count: 38980 \n",
            "Maximum number of discrete readings/hour in any garage: 6 \n",
            " \n",
            "Minimum Occupied State of all Garages within a 20 minute spread of any hour: 4 \n",
            "Minimum number of Spots included in the count: 690 \n",
            "Minimum number of discrete readings/hour in any garage: 1 \n",
            "\n",
            "Total number of time readings: 1782\n",
            "\n",
            "Post-cleaning full table max/mins:\n",
            "\n",
            "First and Last 5 readings\n",
            "\n",
            "[(278, 7, 1, 60), (7852, 38980, 28)]\n",
            "[(278, 8, 1, 40), (9648, 38980, 28)]\n",
            "[(278, 8, 2, 60), (12296, 38980, 28)]\n",
            "[(278, 9, 1, 40), (14905, 38980, 28)]\n",
            "[(278, 9, 2, 60), (17109, 38980, 28)]\n",
            "[(354, 14, 2, 40), (28183, 36924, 26)]\n",
            "[(354, 15, 1, 20), (27583, 36924, 26)]\n",
            "[(354, 15, 2, 40), (26560, 36924, 26)]\n",
            "[(354, 16, 1, 20), (24667, 36924, 26)]\n",
            "[(354, 16, 2, 40), (22879, 36924, 26)]\n",
            "\n",
            "Maximum Occupied State of all Garages within a 20 minute spread of any hour: 28183 \n",
            "Maximum number of Spots included in the count: 38980 \n",
            "Maximum number of discrete readings/hour in any garage: 3 \n",
            " \n",
            "Minimum Occupied State of all Garages within a 20 minute spread of any hour: 4214 \n",
            "Minimum number of Spots included in the count: 36924 \n",
            "Minimum number of discrete readings/hour in any garage: 1 \n",
            "\n",
            "Total number of time readings: 1305\n"
          ],
          "name": "stdout"
        }
      ]
    },
    {
      "cell_type": "code",
      "metadata": {
        "id": "jfx9f6GKECGe",
        "colab_type": "code",
        "colab": {}
      },
      "source": [
        "for a in table:\n",
        "  a.append(a[1][0]/a[1][1] > .5)"
      ],
      "execution_count": 0,
      "outputs": []
    },
    {
      "cell_type": "markdown",
      "metadata": {
        "id": "cY2-OCgk6Xnq",
        "colab_type": "text"
      },
      "source": [
        "# Quick Catchup:\n",
        "\n",
        "## At this point we've successfully curated our dataset to have the following qualities: a) every entry represents a unique collection of garage-occupancy readings associated by: Day of the year, Hour of the day, Reading of the day (1st, 2nd, 3rd) and whether it is in the first, second or third portion of the hour (0-20 minutes, 21-40 minutes, 41-60 minutes).\n",
        "\n",
        "## We have also shown that the number of garages and maximum occupancy never passes over the known maximum number of spots or garages included in the dataset. \n",
        "\n",
        "## We have also eliminated out any time-instance data where the number of garages showing an entry for that particular 20 minute spread was fewer than 26 garages (outliers)\n",
        "\n",
        "## We are now ready to perform some regression and classification analysis!\n",
        "\n",
        "### We will be largely reusing the code from the lectures when it comes to the regression & classification analysis itself. With minor tweaks here and there, but the implementation is generally speaking the same, and as noted in the description of the project \"The goal is to understand how to transform data to be suitable for data-driven predictive tasks (I.e., feature extraction) rather than to learn the machine learning concepts per se.\"  All the same we do improve upon the first attempts below by implementing one-hot notation of our time data (parameters) to obtain fairly significant improvements in the accuracy of both the regression and classification algorithms.  "
      ]
    },
    {
      "cell_type": "code",
      "metadata": {
        "id": "2uq-1rWgdI7a",
        "colab_type": "code",
        "outputId": "893d3155-5df3-41d1-f323-51eece500cb1",
        "colab": {
          "base_uri": "https://localhost:8080/",
          "height": 238
        }
      },
      "source": [
        "head_Foot(table, 5)"
      ],
      "execution_count": 22,
      "outputs": [
        {
          "output_type": "stream",
          "text": [
            "\n",
            "First and Last 5 readings\n",
            "\n",
            "[(278, 7, 1, 60), (7852, 38980, 28), False]\n",
            "[(278, 8, 1, 40), (9648, 38980, 28), False]\n",
            "[(278, 8, 2, 60), (12296, 38980, 28), False]\n",
            "[(278, 9, 1, 40), (14905, 38980, 28), False]\n",
            "[(278, 9, 2, 60), (17109, 38980, 28), False]\n",
            "[(354, 14, 2, 40), (28183, 36924, 26), True]\n",
            "[(354, 15, 1, 20), (27583, 36924, 26), True]\n",
            "[(354, 15, 2, 40), (26560, 36924, 26), True]\n",
            "[(354, 16, 1, 20), (24667, 36924, 26), True]\n",
            "[(354, 16, 2, 40), (22879, 36924, 26), True]\n"
          ],
          "name": "stdout"
        }
      ]
    },
    {
      "cell_type": "code",
      "metadata": {
        "id": "S6hKu5YDqCU3",
        "colab_type": "code",
        "colab": {}
      },
      "source": [
        "import tensorflow as tf\n",
        "import random"
      ],
      "execution_count": 0,
      "outputs": []
    },
    {
      "cell_type": "code",
      "metadata": {
        "id": "m8qAYcRzezTS",
        "colab_type": "code",
        "colab": {}
      },
      "source": [
        "tableRandom = table\n",
        "random.shuffle(tableRandom)"
      ],
      "execution_count": 0,
      "outputs": []
    },
    {
      "cell_type": "code",
      "metadata": {
        "id": "CUYPAz8kgE9H",
        "colab_type": "code",
        "outputId": "7060c800-9474-480a-e023-747eca16331f",
        "colab": {
          "base_uri": "https://localhost:8080/",
          "height": 238
        }
      },
      "source": [
        "head_Foot(tableRandom, 5)"
      ],
      "execution_count": 25,
      "outputs": [
        {
          "output_type": "stream",
          "text": [
            "\n",
            "First and Last 5 readings\n",
            "\n",
            "[(293, 15, 1, 40), (20138, 38980, 28), True]\n",
            "[(282, 14, 2, 40), (12842, 32374, 23), False]\n",
            "[(287, 16, 1, 20), (19513, 38980, 28), True]\n",
            "[(304, 8, 2, 60), (6175, 38025, 26), False]\n",
            "[(303, 12, 1, 20), (19065, 38360, 27), False]\n",
            "[(291, 16, 1, 40), (17220, 38980, 28), False]\n",
            "[(286, 8, 2, 40), (11006, 38530, 27), False]\n",
            "[(327, 16, 1, 40), (16351, 38980, 28), False]\n",
            "[(350, 13, 1, 20), (25500, 38980, 28), True]\n",
            "[(297, 10, 2, 60), (9589, 38260, 26), False]\n"
          ],
          "name": "stdout"
        }
      ]
    },
    {
      "cell_type": "markdown",
      "metadata": {
        "id": "Oz8b5qiHd1Xd",
        "colab_type": "text"
      },
      "source": [
        "# First Up: Regression analysis to predict occupancy (as a percentage of total spots)!"
      ]
    },
    {
      "cell_type": "code",
      "metadata": {
        "id": "kfe0mjW4nv7j",
        "colab_type": "code",
        "colab": {}
      },
      "source": [
        "def feature(datum):\n",
        "  f = datum[0] # saves me some typing\n",
        "  feat = [1, float(f[0]), float(f[1]), float(f[3])] # day of the year, hour of the day, and minute-bracket\n",
        "  return feat"
      ],
      "execution_count": 0,
      "outputs": []
    },
    {
      "cell_type": "code",
      "metadata": {
        "id": "ZTuXRhQSdmKW",
        "colab_type": "code",
        "colab": {}
      },
      "source": [
        "X = [feature(d) for d in tableRandom] # gives us a feature table \n",
        "y = [float(d[1][0]/d[1][1]*1000) for d in tableRandom] # gives us the value we want to predict"
      ],
      "execution_count": 0,
      "outputs": []
    },
    {
      "cell_type": "code",
      "metadata": {
        "id": "2v-9jJdXefuH",
        "colab_type": "code",
        "outputId": "d176c5db-e55e-4cae-aa50-990c8fa2719a",
        "colab": {
          "base_uri": "https://localhost:8080/",
          "height": 102
        }
      },
      "source": [
        "tableRandom[0],X[0],y[0],len(X),len(y) # showing us where we're at with respect to formatting/selecting/etc"
      ],
      "execution_count": 59,
      "outputs": [
        {
          "output_type": "execute_result",
          "data": {
            "text/plain": [
              "([(293, 15, 1, 40), (20138, 38980, 28), True],\n",
              " [1, 293.0, 15.0, 40.0],\n",
              " 516.6239096972806,\n",
              " 1305,\n",
              " 1305)"
            ]
          },
          "metadata": {
            "tags": []
          },
          "execution_count": 59
        }
      ]
    },
    {
      "cell_type": "code",
      "metadata": {
        "id": "dSm2hboZefeX",
        "colab_type": "code",
        "outputId": "8089ba30-aad6-4730-e1a5-cf7b02ddfa4d",
        "colab": {
          "base_uri": "https://localhost:8080/",
          "height": 34
        }
      },
      "source": [
        "N = len(X) #saves space below\n",
        "\n",
        "X_test = X[:N//2]   #as per the lecture, we've created a randomly shuffled collection of feature & values\n",
        "X_train = X[N//2:]\n",
        "\n",
        "y_test = y[:N//2]   #and this is what we'll test the model on to see how accurately it does. \n",
        "y_train = y[N//2:]\n",
        "\n",
        "len(X_test), len(X_train)\n"
      ],
      "execution_count": 60,
      "outputs": [
        {
          "output_type": "execute_result",
          "data": {
            "text/plain": [
              "(652, 653)"
            ]
          },
          "metadata": {
            "tags": []
          },
          "execution_count": 60
        }
      ]
    },
    {
      "cell_type": "code",
      "metadata": {
        "id": "esZPgpdkdp9p",
        "colab_type": "code",
        "colab": {}
      },
      "source": [
        "y_train = tf.constant(y_train, shape=[len(y_train),1])"
      ],
      "execution_count": 0,
      "outputs": []
    },
    {
      "cell_type": "code",
      "metadata": {
        "id": "ReR0rn6-iDCr",
        "colab_type": "code",
        "colab": {}
      },
      "source": [
        "K = len(X_train[0]) # saving space below, when working with our thetas, if we modify the number of parameters above, this will automatically update the tensorflow vector shape"
      ],
      "execution_count": 0,
      "outputs": []
    },
    {
      "cell_type": "code",
      "metadata": {
        "id": "IwYdsqbfiQoO",
        "colab_type": "code",
        "colab": {}
      },
      "source": [
        "def MSE(X, y, theta):\n",
        "  return tf.reduce_mean((tf.matmul(X,theta) - y)**2) #perform dot-product multiplication of X and theta, then subtract from that y (the error) then square it, then reduce to the mean to return\n",
        "                                                     #the mean-squared-error, or MSE"
      ],
      "execution_count": 0,
      "outputs": []
    },
    {
      "cell_type": "code",
      "metadata": {
        "id": "WWlUBSjBiadA",
        "colab_type": "code",
        "colab": {}
      },
      "source": [
        "theta = tf.Variable(tf.constant([0.0]*K, shape=[K,1])) #initialize the theta values as VARIABLES, whose initial value is 0.0, and do so for all K (the number of parameters) and then \n",
        "                                                       #define the tensorflow shape as being that of a K length column of width 1"
      ],
      "execution_count": 0,
      "outputs": []
    },
    {
      "cell_type": "code",
      "metadata": {
        "id": "ONl6A5Z8isFG",
        "colab_type": "code",
        "colab": {}
      },
      "source": [
        "optimizer = tf.train.AdamOptimizer(0.05) # initializing the optimizer, Stochastic gradient descent, learning rate set to be .05"
      ],
      "execution_count": 0,
      "outputs": []
    },
    {
      "cell_type": "code",
      "metadata": {
        "id": "6d0mSLzei0bD",
        "colab_type": "code",
        "colab": {}
      },
      "source": [
        "objective = MSE(X_train, y_train, theta) #define the objective, what we want to optimize, as that of the MSE result when performed on our training sets of X, Y, and theta\n",
        "                                         #we are mostly defining theta as the variable (see above) that can be modified in order to affect the MSE value"
      ],
      "execution_count": 0,
      "outputs": []
    },
    {
      "cell_type": "code",
      "metadata": {
        "id": "o_9slBk5jMwU",
        "colab_type": "code",
        "colab": {}
      },
      "source": [
        "train = optimizer.minimize(objective)"
      ],
      "execution_count": 0,
      "outputs": []
    },
    {
      "cell_type": "code",
      "metadata": {
        "id": "eqhaQJ6xjRcq",
        "colab_type": "code",
        "colab": {}
      },
      "source": [
        "init = tf.global_variables_initializer()"
      ],
      "execution_count": 0,
      "outputs": []
    },
    {
      "cell_type": "code",
      "metadata": {
        "id": "TXOINMZSjVeR",
        "colab_type": "code",
        "colab": {}
      },
      "source": [
        "sess = tf.Session()\n",
        "sess.run(init)"
      ],
      "execution_count": 0,
      "outputs": []
    },
    {
      "cell_type": "code",
      "metadata": {
        "id": "g9HwW799jXfS",
        "colab_type": "code",
        "outputId": "7e45c3e8-d57e-4fdb-c6e8-eda5eb8072f5",
        "colab": {
          "base_uri": "https://localhost:8080/",
          "height": 187
        }
      },
      "source": [
        "for iteration in range(50000):\n",
        "  cvalues = sess.run([train, objective])\n",
        "  if iteration%5000 == 0:\n",
        "    print('objective = ' + str(cvalues[1]))  # this is processing the gradient descent of MSE 5000 times, and prints out the MSE each time"
      ],
      "execution_count": 70,
      "outputs": [
        {
          "output_type": "stream",
          "text": [
            "objective = 225617.95\n",
            "objective = 11154.3\n",
            "objective = 10761.25\n",
            "objective = 10609.453\n",
            "objective = 10598.066\n",
            "objective = 10597.848\n",
            "objective = 10597.845\n",
            "objective = 10597.845\n",
            "objective = 10597.846\n",
            "objective = 10597.854\n"
          ],
          "name": "stdout"
        }
      ]
    },
    {
      "cell_type": "code",
      "metadata": {
        "id": "3xM9jkRZlnj2",
        "colab_type": "code",
        "colab": {}
      },
      "source": [
        "def testThetas(thetasEval, testValues):\n",
        "  thetasEval = [float(a) for a in thetasEval]\n",
        "  #print(thetasEval, 'thetasEval')\n",
        "  #print(testValues, 'testValues')\n",
        "  outTable = []\n",
        "  for q in testValues:\n",
        "    test = [a*b for a,b in zip(thetasEval,q)]\n",
        "    outTable.append(sum(test))\n",
        "  return outTable\n"
      ],
      "execution_count": 0,
      "outputs": []
    },
    {
      "cell_type": "code",
      "metadata": {
        "id": "DLY1WUpUj61O",
        "colab_type": "code",
        "outputId": "d0949914-0335-4ef5-8b7e-4443d5adb39e",
        "colab": {
          "base_uri": "https://localhost:8080/",
          "height": 224
        }
      },
      "source": [
        "with sess.as_default():\n",
        "  print('MSE is =', MSE(X_train,y_train,theta).eval())\n",
        "  print('thetas are:\\n', theta.eval())\n",
        "  print('The thetas, which are multiplied by 1, day of the year, hour of the day, and minute-bracket, respectively')\n",
        "  \n",
        "  thetasEval = theta.eval()\n",
        "  testValues = X_test\n",
        "  \n",
        "  testResults = testThetas(thetasEval,testValues)\n",
        "  \n",
        "  print(testResults)\n",
        "  print(y_test)\n",
        "  \n",
        "  accuracy = zip(testResults,y_test)\n",
        "  \n",
        "  error = [((((a-b)**2)**.5)/b)*100 for a,b in accuracy]\n",
        "  \n",
        "  print(error)\n",
        "  \n",
        "  avg_Error = sum(error)/len(error)\n",
        "  \n",
        "  print(avg_Error, 'as a % of the y_test value')"
      ],
      "execution_count": 72,
      "outputs": [
        {
          "output_type": "stream",
          "text": [
            "MSE is = 10597.844\n",
            "thetas are:\n",
            " [[-398.587     ]\n",
            " [   1.3551439 ]\n",
            " [  33.823277  ]\n",
            " [   0.73588306]]\n",
            "The thetas, which are multiplied by 1, day of the year, hour of the day, and minute-bracket, respectively\n",
            "[535.2546285390854, 486.5247690677643, 546.2293804883957, 328.1159369945526, 432.6185768842697, 608.432399392128, 481.29311525821686, 551.4610342979431, 414.97874760627747, 333.8590351343155, 596.3697049617767, 325.59457099437714, 496.3103404045105, 298.49169290065765, 329.6046816110611, 352.8863708972931, 439.3389753103256, 567.7227611541748, 482.45933735370636, 364.8937442302704, 370.0147558450699, 496.25501930713654, 524.713041305542, 401.56090927124023, 497.1769984960556, 401.37198746204376, 515.0934332609177, 504.1969609260559, 574.6091228723526, 532.5996618270874, 513.6276471614838, 351.2869840860367, 448.63606083393097, 324.23942708969116, 504.3858827352524, 546.2847015857697, 505.3631830215454, 392.0749019384384, 409.55817198753357, 623.1500605344772, 486.6354112625122, 574.6874024868011, 547.5615658760071, 581.2742002010345, 316.2421643733978, 598.8910709619522, 505.60742592811584, 499.02062821388245, 341.98989856243134, 383.81043779850006, 490.83444368839264, 611.087366104126, 336.1914793252945, 375.6795743703842, 417.50011360645294, 501.5419942140579, 526.012864112854, 489.2903779745102, 612.4978311061859, 394.5962679386139, 352.4532061815262, 639.5453881025314, 279.7086000442505, 540.4862823486328, 332.31496942043304, 547.5062447786331, 427.0644005537033, 566.4229383468628, 466.3082526922226, 419.12245893478394, 481.15951454639435, 472.95037150382996, 516.5821778774261, 473.162251830101, 325.40564918518066, 436.7393296957016, 569.1885472536087, 539.4536609649658, 386.520725607872, 382.3216931819916, 358.06270360946655, 355.59665870666504, 521.7585105895996, 462.2428209781647, 504.25228202342987, 417.76731503009796, 558.292074918747, 371.7477433681488, 601.7902805805206, 540.8641259670258, 432.56325578689575, 428.4195444583893, 448.82498264312744, 437.85023069381714, 569.3774690628052, 309.33284413814545, 338.9570882320404, 563.9015723466873, 564.9341937303543, 409.58113050460815, 431.12983226776123, 385.0549395084381, 404.02695417404175, 594.6920385360718, 420.09975922107697, 578.6745545864105, 413.70188331604004, 321.7180610895157, 363.6722010374069, 359.339567899704, 517.6377577781677, 427.1980012655258, 524.4687983989716, 435.2505850791931, 500.18685030937195, 507.09617054462433, 490.64552187919617, 397.30655574798584, 433.6511982679367, 531.4334397315979, 475.73893892765045, 454.1672786474228, 421.6438249349594, 366.13824594020844, 409.44752979278564, 448.69138193130493, 490.4566000699997, 390.7750791311264, 317.2747857570648, 521.8138316869736, 556.9922521114349, 569.0779050588608, 615.2081189155579, 368.6596119403839, 439.31601679325104, 560.8134409189224, 397.4954775571823, 401.4273085594177, 578.6192334890366, 385.1102606058121, 482.5146584510803, 319.00777328014374, 381.2890717983246, 372.7803647518158, 463.3537219762802, 392.01958084106445, 436.68400859832764, 529.755773305893, 399.8279217481613, 462.0538991689682, 485.1696251630783, 381.04482889175415, 589.5939854383469, 512.4061039686203, 447.3915591239929, 584.173409819603, 498.776385307312, 547.4509236812592, 339.2242896556854, 270.22259271144867, 513.7382893562317, 382.53357350826263, 479.9379713535309, 609.9211440086365, 320.1186742782593, 322.8842831850052, 470.240083694458, 465.1420305967331, 456.87756645679474, 584.0398091077805, 272.9328805208206, 565.1231155395508, 414.86810541152954, 513.6829682588577, 528.5342301130295, 503.9527180194855, 585.3949530124664, 556.8586513996124, 458.1220681667328, 525.8239423036575, 439.44961750507355, 542.2192698717117, 444.625950217247, 475.9278607368469, 584.0951302051544, 617.9184067249298, 554.1483635902405, 466.55249559879303, 397.3618768453598, 329.66000270843506, 416.16792821884155, 447.4468802213669, 432.6738979816437, 535.5541925430298, 401.5055881738663, 431.26343297958374, 385.29918241500854, 317.65262937545776, 536.8540153503418, 458.3663110733032, 528.4789090156555, 482.64825916290283, 367.73763275146484, 523.302576303482, 290.3608294725418, 600.3015359640121, 316.1085636615753, 421.56554532051086, 461.07659888267517, 543.4961341619492, 316.05324256420135, 393.2411240339279, 561.0576838254929, 477.0940828323364, 352.5868068933487, 510.9726804494858, 354.0525929927826, 463.6532859802246, 573.2539789676666, 351.0980622768402, 342.0452196598053, 565.0677944421768, 491.9453446865082, 528.400629401207, 381.2337507009506, 613.8529750108719, 326.9497148990631, 429.8300094604492, 462.43174278736115, 451.3463486433029, 331.01514661312103, 327.1386367082596, 366.1935670375824, 347.1662312746048, 383.6215159893036, 426.98612093925476, 544.7406358718872, 390.58615732192993, 404.0822752714157, 349.87651908397675, 400.07216465473175, 517.7483999729156, 629.9257800579071, 604.5005683898926, 493.30048859119415, 555.8260300159454, 380.9665492773056, 439.3942964076996, 337.9797879457474, 454.05663645267487, 355.5413376092911, 464.89778769016266, 573.1433367729187, 414.789825797081, 413.434681892395, 452.7014925479889, 334.94697761535645, 352.8310497999191, 462.10922026634216, 551.571676492691, 408.3366287946701, 616.5079417228699, 427.00907945632935, 482.32573664188385, 452.8121347427368, 478.5598689317703, 543.6297348737717, 382.3999727964401, 492.0559868812561, 376.9793971776962, 477.20472502708435, 414.67918360233307, 566.6671812534332, 494.6556324958801, 416.2232493162155, 467.66339659690857, 602.9565026760101, 509.67285764217377, 333.725434422493, 385.0319809913635, 600.4904577732086, 555.581787109375, 295.9703269004822, 345.8110873699188, 397.5507986545563, 603.0118237733841, 481.1041934490204, 529.700452208519, 444.73659241199493, 508.07347083091736, 638.1902441978455, 503.0307388305664, 625.9939490556717, 405.3038184642792, 543.4408130645752, 413.6236037015915, 506.9855283498764, 430.8855893611908, 414.9234265089035, 470.4290055036545, 555.4481863975525, 386.46540451049805, 393.48536694049835, 393.4300458431244, 344.6448652744293, 452.75681364536285, 307.9777002334595, 421.8327467441559, 452.6785340309143, 590.8155286312103, 467.7969973087311, 508.26239264011383, 349.9318401813507, 470.507285118103, 405.3820980787277, 475.9831818342209, 483.8698023557663, 326.7054719924927, 386.33180379867554, 452.5678918361664, 550.271853685379, 523.1689755916595, 349.98716127872467, 556.881609916687, 455.71134436130524, 332.370290517807, 356.62928009033203, 362.0728142261505, 448.50246012210846, 295.7814050912857, 283.7740317583084, 381.1554710865021, 551.7605983018875, 454.3008793592453, 403.89335346221924, 430.0189312696457, 581.3295212984085, 635.66887819767, 561.1912845373154, 540.7305252552032, 532.6549829244614, 609.73222219944, 559.6472188234329, 443.27080631256104, 494.89987540245056, 529.8110944032669, 339.01240932941437, 557.1258528232574, 521.9474323987961, 394.51798832416534, 447.33623802661896, 474.57271683216095, 328.2495377063751, 404.1375963687897, 363.61687994003296, 514.9827910661697, 548.6171457767487, 589.4050636291504, 338.90176713466644, 455.52242255210876, 391.69705832004547, 378.3345410823822, 283.45150923728943, 462.1874998807907, 546.2064219713211, 298.3027710914612, 358.306946516037, 538.1538381576538, 378.4451832771301, 519.0482227802277, 420.3440021276474, 337.7908661365509, 493.3558096885681, 538.2091592550278, 416.356850028038, 502.8971381187439, 621.7949166297913, 546.0957797765732, 364.78310203552246, 540.9194470643997, 405.49274027347565, 588.0499197244644, 310.82158875465393, 628.8931586742401, 560.9240831136703, 628.7042368650436, 347.41047418117523, 440.671160697937, 351.2316629886627, 540.7858463525772, 300.0357586145401, 393.18580293655396, 444.87019312381744, 379.8003271818161, 469.207462310791, 459.34361135959625, 592.0370718240738, 463.5426437854767, 574.4984806776047, 460.83235597610474, 501.7309160232544, 604.1780458688736, 348.71029698848724, 374.32443046569824, 478.37094712257385, 325.4609702825546, 572.0324357748032, 424.4094338417053, 355.29709470272064, 377.0347182750702, 355.16349399089813, 312.23205375671387, 356.951802611351, 551.7052772045135, 607.077255487442, 498.831706404686, 288.8720848560333, 511.02800154685974, 295.59248328208923, 482.5699795484543, 397.2512346506119, 477.2830046415329, 516.2596553564072, 558.3473960161209, 393.05220222473145, 479.85969173908234, 616.5632628202438, 367.6823116540909, 387.76522731781006, 374.5133522748947, 607.021934390068, 613.7976539134979, 467.6080754995346, 424.54303455352783, 512.3278243541718, 331.2040684223175, 343.15612065792084, 324.42834889888763, 527.1790862083435, 382.34465169906616, 579.9190562963486, 605.8557122945786, 333.91435623168945, 418.8552575111389, 316.2974854707718, 389.17569231987, 538.0755585432053, 451.5352704524994, 420.28868103027344, 501.67559492588043, 360.52874851226807, 356.7075597047806, 548.9396682977676, 547.5845243930817, 284.9402538537979, 535.3652707338333, 540.5969245433807, 371.69242227077484, 492.1895875930786, 519.1035438776016, 351.47590589523315, 513.5493675470352, 520.3480455875397, 408.2259865999222, 469.0738615989685, 413.51296150684357, 559.591897726059, 466.38653230667114, 411.04691660404205, 498.9099860191345, 525.6350204944611, 439.0717738866806, 497.23231959342957, 286.2953977584839, 536.6650935411453, 566.4782594442368, 582.551064491272, 525.7686212062836, 575.9089456796646, 447.52515983581543, 501.48667311668396, 415.057027220726, 550.0829318761826, 494.9551964998245, 473.08397221565247, 475.87253963947296, 524.5241194963455, 520.4586877822876, 594.8809603452682, 413.4576404094696, 447.280916929245, 367.60403203964233, 355.3524158000946, 489.23505687713623, 631.6034464836121, 439.2053745985031, 444.7595509290695, 531.1109172105789, 554.0377213954926, 305.456334233284, 563.5237287282944, 400.0168435573578, 433.89544117450714, 539.5643031597137, 380.8559070825577, 332.5592123270035, 565.0124733448029, 357.984423995018, 489.34569907188416, 646.3211076259613, 496.0107764005661, 554.281964302063, 402.86073207855225, 378.38986217975616, 332.18136870861053, 395.95141184329987, 388.06479132175446, 442.026304602623, 309.5217659473419, 422.8653681278229, 486.58009016513824, 485.28026735782623, 336.24680042266846, 577.3976902961731, 418.8782160282135, 481.3484363555908, 487.87991297245026, 469.15214121341705, 279.519678235054, 429.7193672657013, 370.2589987516403, 544.7959569692612, 573.3875796794891, 485.09134554862976, 461.0212777853012, 366.27184665203094, 592.1153514385223, 603.2007455825806, 516.4485771656036, 348.57669627666473, 391.88598012924194, 521.7031894922256, 619.2182295322418, 356.6522386074066, 318.6299296617508, 394.8405108451843, 604.3669676780701, 371.55882155895233, 406.6036412715912, 381.17842960357666, 611.2762879133224, 391.9413012266159, 574.5538017749786, 561.1359634399414, 356.5186378955841, 590.7602075338364, 522.00275349617, 634.1248124837875, 412.2914183139801, 418.9888582229614, 514.9274699687958, 585.5838748216629, 346.0000091791153, 280.87482213974, 493.60005259513855, 443.38144850730896, 306.81147813796997, 357.8737818002701, 547.2620018720627, 627.3490929603577, 592.1706725358963, 347.1432727575302, 371.66946375370026, 484.0034030675888, 420.4776028394699, 516.3932560682297, 408.2030280828476, 389.12037122249603, 510.9173593521118, 347.4657952785492, 514.9045114517212, 314.9423415660858, 360.71767032146454, 600.2462148666382, 477.1494039297104, 340.6900757551193, 528.723151922226, 530.0782958269119, 635.4799563884735, 577.4530113935471, 487.9905551671982, 513.7612478733063, 398.7170207500458, 500.32045102119446, 313.5318765640259, 335.21417903900146, 518.9699431657791, 567.7780822515488, 379.61140537261963, 543.5744137763977, 291.90489518642426, 322.8289620876312, 350.1207619905472, 379.8232856988907, 560.8687620162964, 505.4967837333679, 416.14496970176697, 554.1713221073151, 291.7159733772278, 548.8060675859451, 436.6057289838791, 389.36461412906647, 308.111300945282, 467.85231840610504, 455.4671014547348, 608.2434775829315, 374.13550865650177, 495.8771756887436, 548.916709780693, 390.475515127182, 475.8495811223984, 456.7669242620468, 364.594180226326, 406.7372419834137, 527.1237651109695, 513.8165689706802, 570.5436911582947, 524.657720208168, 567.6444815397263, 450.0465258359909, 421.58850383758545, 442.04926311969757, 596.0471824407578, 471.80710792541504, 322.6953613758087, 379.6896849870682, 428.60846626758575, 424.35411274433136, 551.5163553953171, 447.2579584121704, 439.12709498405457, 520.2144448757172, 549.9722896814346, 410.91331589221954, 548.7277879714966, 567.9670040607452, 624.6388051509857, 438.0944736003876, 349.7982394695282, 375.8131750822067, 632.958590388298, 400.09512317180634]\n",
            "[516.6239096972806, 396.67634521529624, 500.5900461775269, 162.3931623931624, 497.0020855057352, 564.520266803489, 529.4350580781415, 405.0313317515362, 412.08969775755605, 320.8409031923177, 601.2245961438249, 269.60809758629637, 622.396100564392, 273.4222678296562, 344.92047203694204, 248.5917018741198, 268.3490378714033, 456.0637741766858, 535.1341485672568, 256.1104932364276, 530.0845653099714, 499.7433264887063, 573.4982134881643, 472.13955874807596, 515.3616840055971, 436.01847101077476, 546.6685022026431, 583.1965110312981, 631.5546434068752, 527.1421241662391, 620.8312214901166, 383.2221652129297, 552.4426598527712, 229.1434363912823, 616.4501039501039, 521.160669031931, 509.95248152059133, 405.6182657773217, 382.9410208939434, 525.5772190867111, 537.4556800453837, 462.2340425531915, 623.9543726235742, 496.5092402464066, 332.8800513149455, 418.02102025121764, 544.2565341533056, 540.5214557305812, 149.27575107296138, 282.95218295218297, 596.5366854797331, 576.7587285044294, 469.3070511650544, 145.46870942612307, 347.9790084859312, 651.43663417137, 614.3524526343109, 536.5904365904366, 589.4929430214323, 483.2867225995472, 181.88708834291688, 600.6029477445288, 174.3001430364597, 482.3499230374551, 409.8883986504023, 554.7460236018471, 587.7373011800923, 461.92919445869677, 467.766631467793, 249.87006237006239, 533.3941605839416, 626.6546947152386, 631.247112536348, 284.43854016753386, 298.2824916688029, 457.2857875833761, 653.0271934325294, 386.68506381510866, 340.72805139186295, 340.5644025566028, 354.18144956918394, 177.51915980698269, 568.163160595177, 582.4781939456132, 559.206118803037, 355.623020063358, 516.129883843717, 459.18419702411495, 474.70497691123654, 540.4566444330426, 586.7255487725679, 538.3823723446365, 491.81211498973306, 435.03118503118503, 762.1059473513162, 275.55156490507954, 301.44450076026357, 593.0309173846933, 578.5787583376091, 565.7773217034377, 489.3451143451143, 286.0937789584234, 363.9033264033264, 469.2406362237045, 343.7532671197073, 644.1508465879938, 514.6853146853147, 215.0590046177527, 324.96755774721, 224.17164584464965, 476.1513658210136, 568.4197024114931, 512.4340021119325, 516.222511103889, 640.1592540206401, 626.1451915349585, 495.3009503695882, 429.1944586967676, 558.46587993843, 578.3063251437533, 604.547817047817, 577.5303354746609, 507.7988712160082, 498.99948691636735, 508.9020010261672, 368.788501026694, 607.0426195426195, 308.8502465611212, 169.89219037601893, 613.8758029978587, 622.9604925602873, 448.4864032837352, 672.3519826181423, 467.6644156476243, 496.04925602873266, 576.6546947152385, 440.8671113391483, 402.17744556386094, 581.493839835729, 486.0697793740379, 425.282340862423, 164.87942534633146, 289.0606198358157, 413.0258489609732, 549.3399038754031, 446.9594594594595, 554.5262043409211, 614.8024628014367, 515.9825551564905, 522.0542231491137, 457.0687579116366, 205.02301117685735, 444.5613134940996, 547.6654694715238, 565.514553014553, 460.4204050243527, 541.5084658799384, 575.9753593429158, 427.2069112368437, 154.7709303584967, 570.5866376969038, 485.3001539250898, 535.7588357588357, 513.5197537198563, 380.6439674315322, 136.9049310785846, 625.3568647806904, 570.8160083160083, 587.4809934110492, 541.3032324268856, 236.08322686621648, 602.4609046805973, 299.71765913757696, 589.0200102616726, 589.5534082005746, 466.29555271643244, 571.9074844074844, 647.2804210960883, 575.3206772703951, 436.8762993762994, 529.8225851872712, 491.25192406362237, 633.991790661878, 463.56916578669484, 763.2705015707941, 719.3153504495721, 612.8014738722644, 388.2683057188669, 382.1741716886946, 242.4234459193061, 550.6783476303461, 304.442036836403, 542.9054054054054, 738.3002924926877, 482.7603899435608, 559.4526102382159, 156.5124077800134, 121.08955839867933, 651.5072765072765, 595.9979476654694, 464.18676244227805, 470.0205338809035, 329.2201128783992, 578.5274499743458, 272.0112878399179, 543.8274319116468, 244.2393811914778, 466.1251473376723, 489.6821261073476, 636.8933022596008, 390.43012715215673, 513.0066700872243, 616.2904053360699, 624.7562852744998, 185.74677786201667, 519.1991786447638, 260.54386865059, 567.2410056350238, 615.5282231495717, 236.7723492723493, 235.99281682914312, 487.3814165042235, 547.5049636002647, 575.1154438173422, 433.56118482777106, 552.0822778397, 269.5821437840644, 454.9830200283445, 411.7840851495185, 480.8054997870658, 141.6030534351145, 120.71193144363876, 141.65783898305085, 524.0311492364787, 438.6865059004618, 395.5629970699037, 610.9030271934325, 397.66546947152386, 507.3884043099025, 452.33315081827584, 364.520266803489, 660.2647287827666, 667.4090168386746, 531.3929313929315, 568.1888147768086, 641.3902921150889, 314.35245263431096, 576.5219692959238, 187.95146324054247, 273.36726957651905, 338.48948871009605, 553.6942021549512, 475.05197505197503, 437.09594663930216, 438.1708610299253, 365.9418051522827, 206.54181631605954, 279.5792714212417, 588.3316008316009, 628.1704781704782, 463.80415278133813, 428.68137506413547, 543.689071318625, 586.2493586454592, 432.72518316333856, 552.4622555476745, 636.5433350228079, 455.748767194394, 641.6623909697281, 476.03240982749605, 575.93147751606, 576.2442278091329, 649.1580662683324, 518.477130977131, 503.64289379168804, 383.051742344245, 302.18295218295214, 620.0476238727329, 226.8362315079159, 187.17653824036805, 675.2580119500271, 511.5187275525911, 231.01768777236606, 484.71010774756286, 281.10637126737305, 590.4053360697794, 561.8778860954335, 595.3858185610011, 491.71648596615665, 564.54637607704, 479.22760264326723, 659.8235141448222, 476.79671457905545, 470.39507439712673, 605.6800416883794, 226.70688236907046, 279.3963680999314, 544.6553507331021, 485.9158542842483, 495.0312639571237, 570.4126654554892, 496.9374513366208, 344.08248049447764, 284.21330517423445, 435.8388917393535, 568.5223191380195, 248.6659825551565, 536.4802462801437, 360.6687898089172, 551.7701385325809, 408.34188911704314, 582.7769840238992, 368.72566831040746, 576.5777321703438, 293.0214323052797, 607.0986060918947, 551.2068518037893, 438.91739353514623, 441.48590726068323, 467.6715176715177, 752.3832737514895, 636.8243243243244, 168.5710515899195, 382.18653038875703, 458.32402858418936, 123.62085568854037, 214.8974824811835, 351.0948905109489, 593.9969214982042, 240.30625486633792, 241.3801949717804, 299.85743269178045, 638.6726327496573, 528.7070292457671, 321.04012671594506, 450.14692471375014, 493.6377629553617, 557.8761542639869, 532.093381221139, 595.068777575915, 644.7507953340404, 437.66033863519755, 414.8908523908524, 570.2154951257055, 556.4356435643565, 565.2906029331884, 217.5966779133143, 532.0171450837771, 546.1005643919959, 222.54901960784312, 516.9968717413973, 537.058212058212, 287.602215774202, 192.429467970826, 414.977192093259, 587.5912408759124, 499.50339780449553, 430.8510638297872, 440.66187788609545, 606.0472359200622, 533.1452026680349, 455.57526609224533, 141.91427820141993, 511.03484688489965, 597.4516161718512, 189.5965898560573, 236.047763029775, 525.910723447922, 238.45134697482703, 555.2591072344792, 480.0571020699501, 258.57773163768496, 563.9381652306132, 654.1559774243202, 528.5787583376091, 647.8983858736865, 549.8572369866023, 615.1071615263983, 498.5048150025342, 618.1075561606535, 361.69218790552816, 432.6064648537712, 321.6008209338122, 522.8746580200628, 596.0836964231432, 466.52129297075425, 327.76211227890286, 511.37399939203567, 252.48656329153025, 655.3104155977423, 204.4900077861407, 520.702924576706, 552.0266803488969, 209.102656137832, 654.8336798336798, 647.0754232939969, 606.7484040936265, 485.98562628336754, 353.0801911842804, 547.8450487429451, 678.2341313419723, 521.8323064559336, 403.4043659043659, 219.69775924960916, 599.9133073255309, 190.45664443304258, 686.3045738045738, 532.555156490508, 510.58587333455006, 355.79784504874294, 412.1600820933812, 228.6529976641578, 192.81079678172853, 498.87121600820933, 599.4948385679771, 620.7469098384419, 193.43252950230888, 632.9325666492421, 354.53549917868224, 618.6867376070594, 508.74807593637763, 406.62681912681916, 663.0323242688559, 623.1880385200202, 491.4597060314243, 578.2744282744284, 591.2880812399786, 420.4207285787583, 479.67999026586364, 335.8882337862087, 417.88096459722937, 404.2072857875834, 593.9712673165726, 544.0225756798358, 593.6121087737301, 215.20892810796784, 382.811698306824, 192.79117496151875, 543.2336543335023, 531.1796556549249, 531.2724474089276, 682.9781704781705, 217.83026213340253, 219.69031407862946, 132.08833151581243, 292.5818373812038, 600.6866904868244, 602.2807906741003, 556.695741405849, 628.7326834273987, 530.015392508979, 155.6197551245013, 525.765575501584, 433.2478193945613, 152.13545615365177, 662.6299376299376, 665.8029758850693, 206.21683093252463, 624.8075936377629, 635.6029106029106, 134.34130949250593, 631.1045515641885, 401.7112497683326, 552.9902050252479, 597.2267359982667, 439.9113660062565, 435.9415084658799, 578.9892252437147, 452.0010261672653, 616.9285352255448, 632.4781939456132, 342.15176715176716, 453.28542094455855, 251.51122625215888, 528.9635710620831, 614.8772728448388, 608.5921940873703, 507.5423293996921, 506.5931246793227, 569.7793740379682, 428.7941787941788, 512.5912408759125, 663.9302206259621, 605.8364575944878, 608.2606464853772, 547.271399890491, 638.2412569690827, 599.9477260846837, 545.5361723961005, 591.0199844277187, 582.1275490323419, 293.44190382190055, 203.80147835269273, 481.04885319705545, 563.7506413545408, 374.01986408782017, 587.9681888147769, 628.4248332478194, 498.4927234927235, 210.46690610569524, 573.5662148070907, 195.30516431924883, 515.6747049769112, 622.7130162049137, 539.5587480759364, 201.84710107747563, 318.48049281314167, 233.1522574693794, 635.3771164699846, 529.4766546947153, 540.1531151003169, 633.2984840564559, 517.9066187788609, 377.86140669608096, 308.87634684453565, 473.3681812089532, 239.3367574810183, 524.5212280879522, 184.84541307653322, 387.6979936642028, 572.6013340174449, 581.9394561313494, 171.84076943628108, 490.94508975712773, 326.30452571284695, 591.9189327860441, 286.3205284327835, 544.5613134940995, 297.77331629859464, 468.8911704312115, 389.7742019205814, 582.4948665297741, 627.9814692256783, 583.8635197537199, 596.6735966735966, 548.6059708857637, 462.3284054910243, 747.020907810638, 708.5438172633428, 371.13937191798595, 461.50532184490623, 267.22986389400336, 487.7858627858628, 500.3591585428425, 157.45478901540523, 327.3653946680606, 564.3483912902177, 203.18870883429167, 497.51647237709074, 371.68891170431215, 516.8377823408624, 388.32078899558786, 529.8614674191894, 481.6316059517701, 400.38481272447405, 399.38429964084145, 653.1795038457371, 459.2173503064592, 538.1221139045664, 255.8475153165419, 503.4376603386352, 578.8738587279828, 263.75395987328403, 297.4339995065384, 627.6471780322221, 510.9799897383274, 139.6473417045151, 435.24884556182656, 479.5023088763469, 501.71883016931764, 556.6649771920933, 210.2777056838827, 243.78406436542954, 553.1041559774244, 478.19394561313493, 630.6567470497691, 396.1394264869794, 541.8872056944698, 642.7655207798871, 190.4922359812428, 655.9759977239221, 196.34643185701142, 297.70327349524814, 395.6131349409954, 458.1348200709579, 216.67511403953372, 598.5930171964566, 556.4168377823408, 490.93448516669685, 590.9021794221997, 619.6716630977874, 498.0246280143664, 368.85394304632337, 618.9071318624935, 235.89676746611053, 317.5966779133143, 578.2994640464493, 569.0865892291447, 310.68463388769624, 518.7434002111933, 206.1313494099538, 396.6649563878912, 166.97465681098205, 341.73706441393875, 534.5007841087297, 520.4261954261954, 456.04484887877805, 367.4621342782778, 260.73189722294313, 588.6339937434828, 410.3115230013399, 456.56747049769115, 350.2052334530528, 599.1694783285751, 533.9404822986147, 543.7660338635197, 458.49153412006154, 561.3399374348279, 580.9727418492785, 541.9236800836383, 591.3466409970615, 553.9027803127091, 467.69483482387295, 475.9095634095634, 526.0133401744484, 611.0995037868895, 620.8543817263343, 590.6618778860955, 675.5002565418164, 532.9399692149819, 497.6273042526008, 557.766015696295, 474.2688558234993, 386.20497930438006, 301.94971780400203, 355.96976016684044, 278.8900152052712, 299.34002111932415, 477.0395074397127, 557.4838993352818, 572.3191380194971, 512.1621621621622, 487.96818881477685, 390.79440672813865, 655.51043633448, 557.9014879425346, 464.9820420728579, 344.6343916104008, 302.8732683427399, 169.93243243243245, 520.1388185226466, 555.6670925351341]\n",
            "[3.606244018539824, 22.65031049524841, 9.117107832919926, 102.05034014927712, 12.954373935061186, 7.7786636142019905, 9.093078005578393, 36.152685253552995, 0.7010730587157562, 4.057503832107876, 0.8075004271593001, 20.765872356693805, 20.25812180467491, 9.16875763996656, 4.440383122356558, 41.95420371512857, 63.7192288056062, 24.483195837920395, 9.843290949489871, 42.47512455236259, 30.197032688793595, 0.6980197626808354, 8.506595318910987, 14.94868374596314, 3.5285288126588807, 7.946104546537621, 5.775907851742479, 13.545957256421678, 9.016721059532427, 1.035306686878851, 17.267748563180064, 8.333333514033276, 18.790474842494095, 41.50063916123881, 18.178960551188762, 4.8207844618257925, 0.899946301930215, 3.3389432827757313, 6.950718163192516, 18.564891685624655, 9.455713404792771, 24.32822976699495, 12.243332220969007, 17.07218176091969, 4.998162814450594, 43.26817120393546, 7.101266737259432, 7.67792417427821, 129.09943249609054, 35.644982058103245, 17.719319593284535, 5.951992731642363, 28.36428123321408, 158.25455924676004, 19.978534171647443, 23.009857305304703, 14.379301025439291, 8.814927622727865, 3.902487444012912, 18.35151898729535, 93.77582509707129, 6.483890980596234, 60.47525559731852, 12.052735272575832, 18.925500083775816, 1.3050618688905018, 27.337536736868813, 22.621160372990733, 0.31177486324626996, 67.73616453261035, 9.792879243440263, 24.52775420141937, 18.164825213726317, 66.34955711395833, 9.093110817410595, 4.493132838493976, 12.838461709111492, 39.507240244195884, 13.439654888685414, 12.261202378145972, 1.0958377535028043, 100.31452328487063, 8.167486599618043, 20.64203848610941, 9.827116501735373, 17.474767228417406, 8.168911042515129, 19.04169486289491, 26.771428539930252, 0.07539578580084533, 26.27502642558863, 20.424670928092034, 8.740559867563045, 0.6480100185070696, 25.288935082889058, 12.25951275025518, 12.444276600557496, 4.911943742573897, 2.3582899321189696, 27.607361625693184, 11.89656959286536, 34.590462228958934, 11.02590299662306, 26.734982571407123, 22.20967752279808, 10.164745159989309, 19.620422127454173, 49.595252550033656, 11.910309927092788, 60.296618488818766, 8.712857913495716, 24.844617550524905, 2.348555372484877, 15.685469789286355, 21.865247254045812, 19.013005705352846, 0.9399191515619305, 7.429709844252913, 22.34956264190284, 8.105200198269296, 21.30664845490268, 21.360446239737072, 16.966372153355973, 26.625526570616803, 19.54295149809555, 21.666315701862764, 19.205573994205274, 26.5257462094311, 86.75065937689483, 14.996839891929456, 10.589474169980093, 26.888552449344434, 8.499099456815152, 21.170052797397037, 11.43701730140191, 2.747095261946799, 9.837802064713616, 0.18651891415529545, 0.4943485467540788, 20.770581314115397, 13.457487435898907, 93.47943056573833, 31.906266586881998, 9.74405943608633, 15.652637154614135, 12.291915397615213, 21.25096971434455, 13.833173196479432, 22.51134892982983, 11.493121081985322, 6.148061263219027, 85.85466416891931, 32.623772591533026, 6.438120982308313, 20.88770187449452, 26.87826244119321, 7.891304248251737, 4.952370826105805, 20.594849771140687, 74.59518533973444, 9.963140491710925, 21.175880449584618, 10.41902824173521, 18.772674194218165, 15.900762479352787, 135.8456197605233, 24.804521997312868, 18.51279154399139, 22.23108975763472, 7.895126820006065, 15.608755498536997, 6.197545575316901, 38.4196402058165, 12.790234744206117, 10.350067905431484, 8.07581480965859, 2.358330494477707, 13.969489381952558, 20.371005898781576, 20.35991493572506, 17.05721315188072, 10.374991590157832, 29.868815848062617, 2.6659872705681145, 23.474688330926014, 14.096313065092964, 9.571306986485789, 20.162395108450937, 3.9740271011921062, 35.98519790786525, 24.42631347143458, 46.97276528267674, 20.303998878303346, 27.461197294821062, 16.8312901104405, 22.91332186367832, 146.1780429297128, 162.3286710895481, 17.598155122931182, 23.09263599501824, 13.850491176247672, 2.686632683413579, 11.699625377169, 9.545765490179013, 6.745875062149209, 10.38456332624655, 29.42571428059499, 9.559579068340065, 5.841652308624706, 14.664492116072289, 19.049986006579235, 23.34580679680698, 8.962125814770392, 23.635168772617448, 89.82122379278651, 1.5844590156616225, 35.889819563397666, 18.261676893198725, 6.867961953977293, 48.2850777786501, 44.9388266370172, 15.939544534784305, 10.147783601523795, 8.122684744138425, 12.069215593551604, 11.188675972878679, 21.2801821032146, 5.5283405007791995, 12.29956656033769, 6.127041216626983, 133.7627180933631, 171.0077063599988, 158.505685012883, 33.75084061693064, 12.552241559865182, 7.94389872210367, 10.830260839515546, 1.7802179703965644, 20.3603645966236, 22.65070149047309, 9.753064805696688, 21.58472542863034, 5.6162317012609195, 13.757736070241897, 13.18018310779868, 13.340436104354083, 21.190894514981697, 23.78533346364772, 79.82290859486255, 66.09765944403908, 5.037630256754977, 16.037085835321584, 20.648553605152696, 5.103255020717109, 5.645327276986791, 23.708602344463507, 62.169086914005625, 26.200718674994008, 21.454292169049673, 12.193951218605202, 11.959255572430882, 43.81495851799801, 21.460794048942027, 17.726863231661856, 4.641965007110793, 13.376911431287244, 14.596586758026001, 16.09412897581528, 23.315439114699497, 20.808039663873835, 17.142100465627465, 28.03759871418866, 12.707365016519903, 4.5945128643102215, 17.35746608421923, 22.088831585740152, 99.53359324882072, 17.801014306154965, 47.12175043819972, 105.70525804730602, 11.072442363312787, 8.614163506311435, 28.11587275175111, 28.656101483648587, 41.42361728131293, 2.1352259089532892, 14.37566678548618, 11.0324035784457, 9.554264478615671, 10.003235808286574, 33.170593821764605, 23.762835357189456, 31.29158190788635, 13.837571750994753, 10.275925297176318, 82.44863119251382, 81.45745121802851, 20.88839505914667, 14.610024997006182, 4.969839330309473, 2.6234478938133687, 22.230573793338436, 14.357861631032275, 38.42773673172534, 20.923792757682886, 20.36252607781127, 23.851962809246366, 21.370311457119374, 25.51086947965306, 7.076386953898906, 14.560129581671772, 12.786124611388153, 5.096967676585884, 18.39655628963891, 38.34554520107146, 21.5970557240626, 12.216293978869599, 25.56561284547686, 12.492834438187622, 3.2295372424111903, 26.86282738029971, 17.847205954837552, 107.61996676044572, 45.70937634830604, 0.5700517668591325, 168.86263540773862, 65.9532145154649, 3.1267682931031575, 24.49414401157559, 23.0851877974645, 17.563096587723045, 27.112230523992654, 13.608229003580458, 14.073228796043571, 25.807747957806644, 4.471427513784283, 17.764394242864377, 13.944443285323066, 5.468570807890435, 9.131423856930487, 17.385913010235694, 39.316307276284704, 34.89022850188349, 22.262581409710585, 11.058919189239322, 6.276330854577259, 55.79852256038092, 4.719529806793435, 4.4228359331748495, 77.27240003993334, 13.474091918610814, 11.634771394069704, 14.133174121330667, 110.01855933523679, 12.376659038572827, 12.356965992465518, 9.832515291813115, 36.80018760775343, 23.092560500033198, 24.837142131245976, 26.53088570245707, 16.954547526779766, 99.73431343883856, 9.558515882403382, 8.577296104558522, 57.33551501001899, 51.79425634753431, 2.327983470172417, 58.70960180278707, 6.521439087168382, 12.438749408107238, 30.63416714083413, 12.515974249265716, 17.72464399481948, 21.2308774311157, 22.380245253954357, 13.082974052943452, 11.219407944881059, 26.824557946613204, 12.487811923171458, 12.109897264186401, 35.931838171497496, 3.3517427436470117, 20.27608319279251, 5.898435659363187, 34.764317585919166, 5.994702000685477, 13.826052708615638, 39.109051353009136, 17.47638470551416, 46.72392155626639, 24.48941913353267, 19.411468872727934, 81.63343029534119, 28.347078539093417, 29.012353919846717, 2.4246182058820263, 4.618034214206336, 62.71048193065047, 15.88271956942841, 26.023935859654234, 15.780115258136812, 13.558125181234363, 70.38154223521703, 20.25998735464032, 70.88454501096416, 16.65035355895935, 20.306952496990842, 30.413841577258033, 5.968803218416873, 13.828750181966829, 36.552792636165556, 85.13060916160121, 10.590721513071781, 1.2648010344137623, 19.64008221410011, 49.33997172000237, 19.26027692772195, 16.625420030755887, 22.000917392390534, 21.915923923751446, 17.376174465432253, 22.13657819387599, 10.404667371005107, 20.02351415568555, 17.01869073287846, 4.274596830577258, 12.54419997390491, 19.161683791960893, 11.49939610962102, 45.26192524111273, 51.85219947669554, 21.274293685605066, 21.962239522321436, 13.693164815568458, 53.89885137858047, 10.359029732973092, 68.27966786531789, 2.9553706765197094, 28.019710915387126, 9.156621828343562, 11.292082458447611, 53.29107763144282, 90.65713446120627, 139.45906639975044, 33.01430321281851, 10.42325940214793, 25.029109770025975, 24.502982550414462, 20.208443405374496, 31.977683363948646, 129.21740200619257, 4.407685454506115, 26.390601378744222, 87.29378480057778, 19.205994125665118, 18.80527060955966, 80.24349447615884, 21.225415215035085, 18.328954254599267, 161.62906050490733, 18.626895294257263, 29.53285373203391, 26.178441699291255, 21.457993534916046, 6.000846202059145, 28.363986190559526, 19.448149987531384, 9.060623138512074, 19.13001951891616, 16.892783731345457, 28.32661293604336, 9.695193495809821, 13.830067160283043, 1.4559646259946855, 7.871329050214429, 4.278912849868044, 3.5910880237612983, 13.682740176195507, 21.45641274020673, 16.952770797151512, 19.027678562848767, 17.147478035032478, 18.3021770487244, 22.223478545060598, 13.046335011349939, 17.817265216097706, 13.249327374094605, 9.045190850028497, 30.043373946175727, 23.16444777905625, 25.273189429262015, 74.36204029154901, 1.7017406081887918, 12.035960609470754, 17.428355221095245, 24.35652822891432, 15.485370865168328, 11.142589507343102, 45.13271463205033, 1.7508852194465303, 104.81631653297406, 15.85869211988315, 13.352653771707669, 29.413449704839774, 64.75798292458815, 77.40881658215281, 53.54104990471009, 22.983424113449164, 22.067914023256787, 8.172189970903473, 12.476979140747305, 22.213635147503624, 0.1398543154475276, 7.545097610146505, 16.354451447905873, 62.1417434605847, 15.727661544995922, 67.44898388102702, 9.070816728053446, 15.022885687109818, 16.60983591250191, 95.6734723230796, 17.60942360821121, 28.370335996146384, 18.680006721531964, 70.39641399201483, 13.84769178640883, 6.1300449249242455, 8.354135380601473, 5.006797030891593, 6.471972840740207, 8.693551039572114, 16.916997014431267, 22.734761458282268, 33.2358986066705, 28.072457674248994, 19.25249490667728, 27.111271796807397, 6.079299947273474, 15.085273867992493, 95.22637997494137, 26.94468552158053, 28.720753379221144, 102.36280627233023, 20.611560438616795, 7.091111980732608, 82.86391192237609, 18.273330865031642, 2.5530807082062386, 18.272368777826, 0.9323508639320315, 8.434720602249763, 16.50729655315286, 10.956003683155828, 47.917734388932054, 20.082802595187893, 38.0881650182868, 23.383297645504644, 63.76506830819771, 2.282270583895527, 1.159149958580734, 31.182868058301356, 5.567345156999908, 21.357082470655484, 13.229195387012242, 119.70448874505865, 17.777201375842694, 14.131254790931472, 25.039973633966046, 6.378287982638933, 65.08800665696913, 52.458473740339294, 12.493262283976767, 12.069651509213855, 18.118174667292063, 3.045291831426607, 28.191629709395226, 20.51263752725875, 82.40417699373485, 21.505586600986135, 60.40135722733246, 21.166847138220067, 51.72555252902896, 4.150434113654014, 57.235443149672605, 11.67234886926513, 4.7335990155157806, 29.442924787142676, 2.2760396723876632, 21.250141933601576, 3.159807562465754, 8.096179603527238, 19.16065831790192, 32.91062863295428, 5.547130165667457, 10.259307602592699, 0.22993108647461918, 22.1854459367432, 4.786762309668928, 41.61111156648188, 18.614196467624723, 109.68497176603837, 11.14489039995349, 4.933197235909542, 2.868689513332668, 8.749113003931095, 50.81045648301902, 11.88350044022086, 6.766161414540065, 6.408351827460948, 14.719151212277293, 12.019789679531954, 21.91653024262658, 14.697027748495836, 11.857571033132059, 18.39860045081446, 11.661874985277455, 5.5176482061015, 27.94640103807281, 19.531194035350417, 17.536625469874632, 22.044428743022824, 14.534761800241583, 0.21110204850562056, 15.919328065783379, 8.103460658221785, 11.17460939144202, 15.966800006006125, 15.553992600910135, 15.28027095081127, 20.746468827459985, 25.67706589246895, 22.16494690856104, 6.8705623315974895, 6.663466247557201, 53.68368994928606, 41.76324006310322, 15.612301873135035, 19.772040242693954, 23.2723377897779, 1.5722135113537414, 12.706586676737922, 5.148208064829566, 16.289999738234012, 1.8041744529721424, 34.33611379191957, 27.11861737108369, 15.4932693081671, 121.15447281179559, 21.69031955470928, 27.99733355696084]\n",
            "24.98923814938301 as a % of the y_test value\n"
          ],
          "name": "stdout"
        }
      ]
    },
    {
      "cell_type": "markdown",
      "metadata": {
        "id": "cpnR83NJnkFi",
        "colab_type": "text"
      },
      "source": [
        "## And here we have our first set of results. We've treated (naively) the time-value parameters as numerical, rather than categorical, values. We will fix this down below. "
      ]
    },
    {
      "cell_type": "markdown",
      "metadata": {
        "id": "oV_TvHedp-6U",
        "colab_type": "text"
      },
      "source": [
        "## Time to perform our classification analysis, i.e., are the parking garages more than 50% full or not. We'll be using sklearn as per the lectures."
      ]
    },
    {
      "cell_type": "code",
      "metadata": {
        "id": "HNEwAoN2qJ3M",
        "colab_type": "code",
        "colab": {}
      },
      "source": [
        "from sklearn import linear_model\n",
        "import random"
      ],
      "execution_count": 0,
      "outputs": []
    },
    {
      "cell_type": "code",
      "metadata": {
        "id": "P-097FdnqKWM",
        "colab_type": "code",
        "colab": {}
      },
      "source": [
        "X_classification = [feature(d) for d in tableRandom] # we can reuse the naieve feature table from above for the features here again\n",
        "y_classification = [value[-1] for value in tableRandom]"
      ],
      "execution_count": 0,
      "outputs": []
    },
    {
      "cell_type": "code",
      "metadata": {
        "id": "DRbaDxnQqKQg",
        "colab_type": "code",
        "colab": {}
      },
      "source": [
        "N = len(X_classification)\n",
        "\n",
        "X_train_1 = X_classification[:N//2]\n",
        "\n",
        "X_test_1 = X_classification[N//2:]\n",
        "\n",
        "y_train_1 = y_classification[:N//2]\n",
        "\n",
        "y_test_1 = y_classification[N//2:]"
      ],
      "execution_count": 0,
      "outputs": []
    },
    {
      "cell_type": "code",
      "metadata": {
        "id": "TJXaWObAqKJf",
        "colab_type": "code",
        "colab": {
          "base_uri": "https://localhost:8080/",
          "height": 34
        },
        "outputId": "907c5d83-0dd4-486c-9646-64cbf7a5f83b"
      },
      "source": [
        "len(X_classification), len(X_train_1), len(X_test_1)"
      ],
      "execution_count": 88,
      "outputs": [
        {
          "output_type": "execute_result",
          "data": {
            "text/plain": [
              "(1305, 652, 653)"
            ]
          },
          "metadata": {
            "tags": []
          },
          "execution_count": 88
        }
      ]
    },
    {
      "cell_type": "code",
      "metadata": {
        "id": "b3AiopfKqJ-w",
        "colab_type": "code",
        "colab": {
          "base_uri": "https://localhost:8080/",
          "height": 34
        },
        "outputId": "541c747e-5aad-44e8-a8ec-c9cf013cf04a"
      },
      "source": [
        "len(y_classification), len(y_train_1), len(y_test_1)"
      ],
      "execution_count": 89,
      "outputs": [
        {
          "output_type": "execute_result",
          "data": {
            "text/plain": [
              "(1305, 652, 653)"
            ]
          },
          "metadata": {
            "tags": []
          },
          "execution_count": 89
        }
      ]
    },
    {
      "cell_type": "code",
      "metadata": {
        "id": "mYm9HvODrIyN",
        "colab_type": "code",
        "colab": {}
      },
      "source": [
        "model = linear_model.LogisticRegression()"
      ],
      "execution_count": 0,
      "outputs": []
    },
    {
      "cell_type": "code",
      "metadata": {
        "id": "o-hsYOENrKc3",
        "colab_type": "code",
        "colab": {
          "base_uri": "https://localhost:8080/",
          "height": 136
        },
        "outputId": "533ff392-1d57-4d32-e778-b2f750db1412"
      },
      "source": [
        "model.fit(X_train_1, y_train_1)\n"
      ],
      "execution_count": 91,
      "outputs": [
        {
          "output_type": "stream",
          "text": [
            "/usr/local/lib/python3.6/dist-packages/sklearn/linear_model/logistic.py:432: FutureWarning: Default solver will be changed to 'lbfgs' in 0.22. Specify a solver to silence this warning.\n",
            "  FutureWarning)\n"
          ],
          "name": "stderr"
        },
        {
          "output_type": "execute_result",
          "data": {
            "text/plain": [
              "LogisticRegression(C=1.0, class_weight=None, dual=False, fit_intercept=True,\n",
              "                   intercept_scaling=1, l1_ratio=None, max_iter=100,\n",
              "                   multi_class='warn', n_jobs=None, penalty='l2',\n",
              "                   random_state=None, solver='warn', tol=0.0001, verbose=0,\n",
              "                   warm_start=False)"
            ]
          },
          "metadata": {
            "tags": []
          },
          "execution_count": 91
        }
      ]
    },
    {
      "cell_type": "code",
      "metadata": {
        "id": "_rW0sWNXrM02",
        "colab_type": "code",
        "colab": {
          "base_uri": "https://localhost:8080/",
          "height": 51
        },
        "outputId": "6d597dfc-23e3-43cc-85ec-416168a3c747"
      },
      "source": [
        "predictionsTrain = model.predict(X_train_1)\n",
        "predictionsTest  = model.predict(X_test_1)\n",
        "\n",
        "\n",
        "correctPredictionsTrain = predictionsTrain == y_train_1 # this compares the elements from predictions, an array, against y, our collection of values from which it learned\n",
        "correctPredictionsTest  = predictionsTest  == y_test_1\n",
        "\n",
        "print('This is the accuracy of our model on our training dataset:',sum(correctPredictionsTrain) / len(correctPredictionsTrain)*100, '%')\n",
        "\n",
        "# taking the sum of a boolean array treats all 'True' items as a 1, and 'False' as 0\n",
        "\n",
        "print('This is the accuracy of our model on our testing dataset:',sum(correctPredictionsTest)  / len(correctPredictionsTest)*100, '%')"
      ],
      "execution_count": 92,
      "outputs": [
        {
          "output_type": "stream",
          "text": [
            "This is the accuracy of our model on our training dataset: 75.76687116564416 %\n",
            "This is the accuracy of our model on our testing dataset: 71.20980091883614 %\n"
          ],
          "name": "stdout"
        }
      ]
    },
    {
      "cell_type": "markdown",
      "metadata": {
        "id": "m5y12r-BrQxP",
        "colab_type": "text"
      },
      "source": [
        "## Perhaps unexpectedly, our model is not PARTICULARLY accurate given the fact that it, again, is treating the time-value data as continuous parameters, rather than categorical ones. We will refresh this as well below. "
      ]
    },
    {
      "cell_type": "code",
      "metadata": {
        "id": "RMDWy_r5rOWU",
        "colab_type": "code",
        "colab": {
          "base_uri": "https://localhost:8080/",
          "height": 238
        },
        "outputId": "af9349e3-4a32-4d29-822a-7fa8f8d6b25e"
      },
      "source": [
        "head_Foot(tableRandom, 5) #so we don't have to keep scrolling, and as a reminder of the cleaned dataset we're working with"
      ],
      "execution_count": 93,
      "outputs": [
        {
          "output_type": "stream",
          "text": [
            "\n",
            "First and Last 5 readings\n",
            "\n",
            "[(293, 15, 1, 40), (20138, 38980, 28), True]\n",
            "[(282, 14, 2, 40), (12842, 32374, 23), False]\n",
            "[(287, 16, 1, 20), (19513, 38980, 28), True]\n",
            "[(304, 8, 2, 60), (6175, 38025, 26), False]\n",
            "[(303, 12, 1, 20), (19065, 38360, 27), False]\n",
            "[(291, 16, 1, 40), (17220, 38980, 28), False]\n",
            "[(286, 8, 2, 40), (11006, 38530, 27), False]\n",
            "[(327, 16, 1, 40), (16351, 38980, 28), False]\n",
            "[(350, 13, 1, 20), (25500, 38980, 28), True]\n",
            "[(297, 10, 2, 60), (9589, 38260, 26), False]\n"
          ],
          "name": "stdout"
        }
      ]
    },
    {
      "cell_type": "markdown",
      "metadata": {
        "id": "k-q60gt13S6x",
        "colab_type": "text"
      },
      "source": [
        "# We will be converting our time-data into one-hot notation now. \n",
        "\n",
        "\n",
        "### The following code was based off of this blog post on creating one-hot notation : https://jovianlin.io/keras-one-hot-encode-decode-sequence-data/"
      ]
    },
    {
      "cell_type": "code",
      "metadata": {
        "id": "8u6mOGNztUrT",
        "colab_type": "code",
        "colab": {
          "base_uri": "https://localhost:8080/",
          "height": 34
        },
        "outputId": "57e93f5d-0ab9-49a2-c7e7-72f5f64ba02e"
      },
      "source": [
        "import numpy as np\n",
        "from keras.utils import to_categorical"
      ],
      "execution_count": 94,
      "outputs": [
        {
          "output_type": "stream",
          "text": [
            "Using TensorFlow backend.\n"
          ],
          "name": "stderr"
        }
      ]
    },
    {
      "cell_type": "code",
      "metadata": {
        "id": "o6PUlQy3tVR5",
        "colab_type": "code",
        "colab": {}
      },
      "source": [
        "data = np.array([a[0] for a in tableRandom])"
      ],
      "execution_count": 0,
      "outputs": []
    },
    {
      "cell_type": "code",
      "metadata": {
        "id": "rAyjwi9ItVVO",
        "colab_type": "code",
        "colab": {
          "base_uri": "https://localhost:8080/",
          "height": 136
        },
        "outputId": "57f4e285-bf7c-4fc9-f5dc-30fbb28ec100"
      },
      "source": [
        "print(data)"
      ],
      "execution_count": 118,
      "outputs": [
        {
          "output_type": "stream",
          "text": [
            "[[293  15   1  40]\n",
            " [282  14   2  40]\n",
            " [287  16   1  20]\n",
            " ...\n",
            " [327  16   1  40]\n",
            " [350  13   1  20]\n",
            " [297  10   2  60]]\n"
          ],
          "name": "stdout"
        }
      ]
    },
    {
      "cell_type": "code",
      "metadata": {
        "id": "HVtm85UotVXN",
        "colab_type": "code",
        "colab": {}
      },
      "source": [
        "def encode(data):\n",
        "  print('Shape of data (BEFORE encode): %s' % str(data.shape))\n",
        "  encoded = to_categorical(data)\n",
        "  print('Shape of data (AFTER encode): %s' %str(encoded.shape))\n",
        "  return encoded"
      ],
      "execution_count": 0,
      "outputs": []
    },
    {
      "cell_type": "code",
      "metadata": {
        "id": "sDUGFtpMuRYB",
        "colab_type": "code",
        "colab": {
          "base_uri": "https://localhost:8080/",
          "height": 68
        },
        "outputId": "d5c0415a-f4e0-4cd6-d9b1-9f47633073dd"
      },
      "source": [
        "encoded_data = encode(data)\n",
        "\n",
        "print(encoded_data[0].shape)"
      ],
      "execution_count": 133,
      "outputs": [
        {
          "output_type": "stream",
          "text": [
            "Shape of data (BEFORE encode): (1305, 4)\n",
            "Shape of data (AFTER encode): (1305, 4, 355)\n",
            "(4, 355)\n"
          ],
          "name": "stdout"
        }
      ]
    },
    {
      "cell_type": "markdown",
      "metadata": {
        "id": "us4S7e3Ju-Fq",
        "colab_type": "text"
      },
      "source": [
        "## What have we done? We have transformed our time-data parameters (Day of the year, Hour of the day, Reading of the hour, Bracket of 1st/2nd/3rd 20 minute split of the hour) into a 4 entry, 355/entry length collection of one-hot notation arrays, each one representing the combination of the four parameters mentioned above. So let's change a few things from the above code and see if we can't get a better prediction. "
      ]
    },
    {
      "cell_type": "code",
      "metadata": {
        "id": "WHPfNp-ouS8w",
        "colab_type": "code",
        "colab": {}
      },
      "source": [
        "def feature(datum):\n",
        "  q = [float(a) for a in datum[0]]\n",
        "  r = [float(a) for a in datum[1]]\n",
        "  s = [float(a) for a in datum[2]]\n",
        "  t = [float(a) for a in datum[3]]\n",
        "  feat = [1]+q+r+s+t\n",
        "  return feat"
      ],
      "execution_count": 0,
      "outputs": []
    },
    {
      "cell_type": "code",
      "metadata": {
        "id": "DmQV1Eztv_9W",
        "colab_type": "code",
        "colab": {}
      },
      "source": [
        "X = [feature(d) for d in encoded_data]"
      ],
      "execution_count": 0,
      "outputs": []
    },
    {
      "cell_type": "code",
      "metadata": {
        "id": "XtLk3pV5wBZ0",
        "colab_type": "code",
        "colab": {
          "base_uri": "https://localhost:8080/",
          "height": 34
        },
        "outputId": "ccef085e-fc66-4208-91ac-98a31e9cfd45"
      },
      "source": [
        "len(X[0]) # we now have over 1400 parameters, vs. the 4 we had before, that the program will be tweaking (in reality, most of them are just zeros given the disparity between the number of days and the number of hours\n",
        "           # or even more dramatically, the difference between day and the number of readings/hour)"
      ],
      "execution_count": 196,
      "outputs": [
        {
          "output_type": "execute_result",
          "data": {
            "text/plain": [
              "1421"
            ]
          },
          "metadata": {
            "tags": []
          },
          "execution_count": 196
        }
      ]
    },
    {
      "cell_type": "code",
      "metadata": {
        "id": "kGH-a-OQwMFF",
        "colab_type": "code",
        "colab": {}
      },
      "source": [
        "y = [float(d[1][0]/d[1][1]*1000) for d in tableRandom] # we can keep this the same, since it our target, i.e., what we're attempting to predict."
      ],
      "execution_count": 0,
      "outputs": []
    },
    {
      "cell_type": "code",
      "metadata": {
        "id": "_UIDlTkKy1Fq",
        "colab_type": "code",
        "colab": {
          "base_uri": "https://localhost:8080/",
          "height": 34
        },
        "outputId": "ebc6ab01-6a8b-42f6-a51d-2db6321a9ae3"
      },
      "source": [
        "N = len(X) #saves space below\n",
        "\n",
        "X_test = X[:N//2]   #as per the lecture, we've created a randomly shuffled collection of feature & values\n",
        "X_train = X[N//2:]\n",
        "\n",
        "y_test = y[:N//2]   #and this is what we'll test the model on to see how accurately it does. \n",
        "y_train = y[N//2:]\n",
        "\n",
        "len(X_test), len(X_train)"
      ],
      "execution_count": 198,
      "outputs": [
        {
          "output_type": "execute_result",
          "data": {
            "text/plain": [
              "(652, 653)"
            ]
          },
          "metadata": {
            "tags": []
          },
          "execution_count": 198
        }
      ]
    },
    {
      "cell_type": "code",
      "metadata": {
        "id": "rkNH5kOPzEtH",
        "colab_type": "code",
        "colab": {}
      },
      "source": [
        "y_train = tf.constant(y_train, shape=[len(y_train),1])"
      ],
      "execution_count": 0,
      "outputs": []
    },
    {
      "cell_type": "code",
      "metadata": {
        "id": "ogLlrxxPzGVn",
        "colab_type": "code",
        "colab": {}
      },
      "source": [
        "K = len(X_train[0])"
      ],
      "execution_count": 0,
      "outputs": []
    },
    {
      "cell_type": "code",
      "metadata": {
        "id": "SdXel06pzHpO",
        "colab_type": "code",
        "colab": {}
      },
      "source": [
        "def MSE(X, y, theta):\n",
        "  return tf.reduce_mean((tf.matmul(X,theta) - y)**2)"
      ],
      "execution_count": 0,
      "outputs": []
    },
    {
      "cell_type": "code",
      "metadata": {
        "id": "r8POnr_CzJHL",
        "colab_type": "code",
        "colab": {}
      },
      "source": [
        "theta = tf.Variable(tf.constant([0.0]*K, shape=[K,1]))"
      ],
      "execution_count": 0,
      "outputs": []
    },
    {
      "cell_type": "code",
      "metadata": {
        "id": "ukxxHv-YzKYO",
        "colab_type": "code",
        "colab": {}
      },
      "source": [
        "optimizer = tf.train.AdamOptimizer(0.05)"
      ],
      "execution_count": 0,
      "outputs": []
    },
    {
      "cell_type": "code",
      "metadata": {
        "id": "fhRPBxGFzOiv",
        "colab_type": "code",
        "colab": {}
      },
      "source": [
        "objective = MSE(X_train, y_train, theta)"
      ],
      "execution_count": 0,
      "outputs": []
    },
    {
      "cell_type": "code",
      "metadata": {
        "id": "YRCPe_E5zPzW",
        "colab_type": "code",
        "colab": {}
      },
      "source": [
        "train = optimizer.minimize(objective)"
      ],
      "execution_count": 0,
      "outputs": []
    },
    {
      "cell_type": "code",
      "metadata": {
        "id": "MQIu4J8wzRAu",
        "colab_type": "code",
        "colab": {}
      },
      "source": [
        "init = tf.global_variables_initializer()"
      ],
      "execution_count": 0,
      "outputs": []
    },
    {
      "cell_type": "code",
      "metadata": {
        "id": "j5CEABZIzSHB",
        "colab_type": "code",
        "colab": {}
      },
      "source": [
        "sess = tf.Session()\n",
        "sess.run(init)"
      ],
      "execution_count": 0,
      "outputs": []
    },
    {
      "cell_type": "code",
      "metadata": {
        "id": "uAHCxlrezTT6",
        "colab_type": "code",
        "colab": {
          "base_uri": "https://localhost:8080/",
          "height": 187
        },
        "outputId": "1323b091-808c-4b3c-b32f-6ca856a73bba"
      },
      "source": [
        "for iteration in range(20000):\n",
        "  cvalues = sess.run([train, objective])\n",
        "  if iteration%2000 == 0:\n",
        "    print('objective = ' + str(cvalues[1]))"
      ],
      "execution_count": 212,
      "outputs": [
        {
          "output_type": "stream",
          "text": [
            "objective = 225617.95\n",
            "objective = 23267.467\n",
            "objective = 4159.482\n",
            "objective = 1976.241\n",
            "objective = 1852.6761\n",
            "objective = 1852.2484\n",
            "objective = 1852.2443\n",
            "objective = 1852.2445\n",
            "objective = 1852.2445\n",
            "objective = 1852.2445\n"
          ],
          "name": "stdout"
        }
      ]
    },
    {
      "cell_type": "code",
      "metadata": {
        "id": "Y2EoLuESzm2n",
        "colab_type": "code",
        "colab": {}
      },
      "source": [
        "def testThetas(thetasEval, testValues):\n",
        "  thetasEval = [float(a) for a in thetasEval]\n",
        "  #print(thetasEval, 'thetasEval')\n",
        "  #print(testValues, 'testValues')\n",
        "  outTable = []\n",
        "  for q in testValues:\n",
        "    test = [a*b for a,b in zip(thetasEval,q)]\n",
        "    outTable.append(sum(test))\n",
        "  return outTable"
      ],
      "execution_count": 0,
      "outputs": []
    },
    {
      "cell_type": "code",
      "metadata": {
        "id": "usC3wSSSznSY",
        "colab_type": "code",
        "colab": {
          "base_uri": "https://localhost:8080/",
          "height": 122
        },
        "outputId": "9daeaa35-3fd0-4b4d-e94c-82c2df77b5eb"
      },
      "source": [
        "with sess.as_default():\n",
        "  print('MSE is =', MSE(X_train,y_train,theta).eval())\n",
        "  \n",
        "  \n",
        "  thetasEval = theta.eval()\n",
        "  testValues = X_test\n",
        "  \n",
        "  testResults = testThetas(thetasEval,testValues)\n",
        "  \n",
        "  print(testResults)\n",
        "  print(y_test)\n",
        "  \n",
        "  accuracy = zip(testResults,y_test)\n",
        "  \n",
        "  error = [((((a-b)**2)**.5)/b)*100 for a,b in accuracy]\n",
        "  \n",
        "  print(error)\n",
        "  \n",
        "  avg_Error = sum(error)/len(error)\n",
        "  \n",
        "  print(avg_Error, 'as a % of the y_test value')"
      ],
      "execution_count": 223,
      "outputs": [
        {
          "output_type": "stream",
          "text": [
            "MSE is = 1852.2443\n",
            "[571.9029083251953, 417.14904022216797, 488.60986328125, 137.01573181152344, 507.00268173217773, 584.8887176513672, 476.5113706588745, 496.60803985595703, 438.7286071777344, 294.2446479797363, 437.5590400695801, 277.07008361816406, 623.0185165405273, 285.56105041503906, 310.09339141845703, 302.4894485473633, 292.72130584716797, 504.75084686279297, 577.3390045166016, 292.4042510986328, 432.25960540771484, 440.30187225341797, 536.4215049743652, 488.89636993408203, 582.5798873901367, 399.6016387939453, 555.1242294311523, 576.6953430175781, 625.7801971435547, 544.4874649047852, 598.0695953369141, 345.7378921508789, 588.2735290527344, 227.3175506591797, 570.6966171264648, 503.1706008911133, 469.99361419677734, 416.4362487792969, 414.9875793457031, 590.1296005249023, 507.32611083984375, 490.59143829345703, 619.8479156494141, 513.4501571655273, 346.80794525146484, 497.60182189941406, 526.2668190002441, 584.8707962036133, 164.10086059570312, 342.0221862792969, 581.7461395263672, 451.8926658630371, 341.44969940185547, 211.62744140625, 340.9102325439453, 621.8368377685547, 570.2478103637695, 567.9427032470703, 610.0144500732422, 449.16197204589844, 213.86226272583008, 472.9019012451172, 119.46427822113037, 564.4808120727539, 376.87603759765625, 570.8944244384766, 561.7604598999023, 507.44080352783203, 508.8418655395508, 364.4700813293457, 538.1349830627441, 595.8793182373047, 585.8443832397461, 281.78678131103516, 282.45386505126953, 513.3743133544922, 631.5458068847656, 318.1959762573242, 348.28710174560547, 328.44068145751953, 318.6325378417969, 198.25364303588867, 585.6996841430664, 580.7166290283203, 551.6571884155273, 457.82942962646484, 410.3948211669922, 433.94725036621094, 509.7624816894531, 538.1642150878906, 581.2891082763672, 544.0378189086914, 457.63214015960693, 456.8529243469238, 656.4685134887695, 306.40330505371094, 238.9351577758789, 392.32068634033203, 584.2618789672852, 565.8672714233398, 498.0996856689453, 366.91644287109375, 420.1741142272949, 540.6188583374023, 399.5480155944824, 647.0611114501953, 529.7041931152344, 243.57827758789062, 328.3320846557617, 249.63191986083984, 544.1808166503906, 569.3324127197266, 443.59666442871094, 498.9479675292969, 609.9286193847656, 576.9615325927734, 458.3760070800781, 403.22383880615234, 536.6645278930664, 561.9358291625977, 604.3095321655273, 533.9728546142578, 510.62039947509766, 467.6859436035156, 552.4727172851562, 449.2992172241211, 615.9271392822266, 379.37303924560547, 144.56943893432617, 591.2951583862305, 621.2498779296875, 524.3301315307617, 571.8667297363281, 392.0486755371094, 484.5165710449219, 601.8308639526367, 419.1419906616211, 408.1380615234375, 406.65431213378906, 436.5477981567383, 473.7875289916992, 199.29830169677734, 342.8363265991211, 323.87342071533203, 593.5144119262695, 492.7315444946289, 542.2907638549805, 631.2676773071289, 441.78868103027344, 532.953914642334, 520.4124298095703, 317.7445602416992, 441.9122009277344, 536.1826400756836, 562.327766418457, 483.26819610595703, 555.421989440918, 561.0229339599609, 366.0974426269531, -45.446556091308594, 599.2044219970703, 481.44551849365234, 547.6291122436523, 522.2968139648438, 289.6211624145508, 83.2746810913086, 586.4797058105469, 550.696647644043, 587.9520950317383, 541.9743347167969, 230.5602035522461, 589.2434844970703, 412.6204071044922, 581.8289489746094, 608.1482391357422, 533.3123016357422, 607.4469604492188, 632.1965103149414, 600.8443908691406, 406.66320037841797, 519.6392288208008, 505.62789154052734, 623.9276733398438, 444.0423812866211, 670.8021392822266, 633.7554779052734, 562.3727378845215, 504.1117935180664, 381.72483825683594, 217.2541275024414, 571.5185089111328, 419.7247543334961, 547.994140625, 667.4030380249023, 479.9304008483887, 574.0270004272461, 269.59423446655273, 83.6245231628418, 630.1599960327148, 560.5388412475586, 524.9160766601562, 446.6976156234741, 398.08646392822266, 555.2720108032227, 256.4847717285156, 580.5965270996094, 239.1000213623047, 399.40999603271484, 512.4695091247559, 626.4444580078125, 288.3388977050781, 463.039794921875, 607.5187377929688, 609.7950210571289, 151.011962890625, 454.635498046875, 290.1717224121094, 542.8557052612305, 535.9757881164551, 239.72924423217773, 299.30406951904297, 545.1745986938477, 589.9098663330078, 587.0698318481445, 426.62400817871094, 550.8485107421875, 263.1922607421875, 447.9798583984375, 419.6583786010742, 531.3469543457031, 191.31749725341797, 102.1340103149414, 193.1179542541504, 439.9201965332031, 338.9281692504883, 388.4574661254883, 561.813835144043, 404.9526824951172, 443.8816146850586, 375.3039855957031, 399.47227478027344, 655.4281463623047, 583.4843368530273, 545.5405578613281, 583.7181091308594, 629.722785949707, 309.55335235595703, 565.5019073486328, 238.79367065429688, 307.054931640625, 338.7380828857422, 549.2566299438477, 381.94245529174805, 404.7131576538086, 392.80493927001953, 428.0835647583008, 261.9684066772461, 294.4581069946289, 573.9453735351562, 644.4936218261719, 482.58744049072266, 524.0961074829102, 552.2537689208984, 625.1249771118164, 470.64730072021484, 545.3522109985352, 623.8510665893555, 399.38817977905273, 627.3172454833984, 492.3730163574219, 600.6733322143555, 567.8026733398438, 594.5797653198242, 561.9627380371094, 494.2640266418457, 415.48251724243164, 340.57204818725586, 605.8009643554688, 213.63192749023438, 224.20487594604492, 557.5331039428711, 552.4978408813477, 256.5026321411133, 439.5797653198242, 362.50623321533203, 594.4991455078125, 584.6882095336914, 532.4413414001465, 450.4763641357422, 566.881477355957, 559.4369735717773, 641.0945205688477, 553.5652542114258, 410.19356536865234, 536.5121040344238, 328.9148483276367, 244.74011993408203, 583.136116027832, 441.60218811035156, 514.9783782958984, 596.1990432739258, 448.28087615966797, 369.10277557373047, 380.914852142334, 406.36548614501953, 568.1024551391602, 271.62715911865234, 508.8842315673828, 399.9530448913574, 580.3583984375, 459.4539031982422, 582.9680252075195, 334.25982666015625, 562.9342575073242, 394.30713272094727, 614.1420974731445, 551.5863304138184, 354.0107421875, 364.1255111694336, 462.093807220459, 681.7366638183594, 632.1844024658203, 246.8623809814453, 433.2304382324219, 500.6447525024414, 97.95814895629883, 287.7796401977539, 319.76761531829834, 604.4814834594727, 214.93358612060547, 271.22742462158203, 343.5688018798828, 603.3095626831055, 516.8226699829102, 307.5739212036133, 436.14273834228516, 533.8477630615234, 465.88013458251953, 520.6532135009766, 584.5814361572266, 624.7328948974609, 487.4140625, 373.4613571166992, 589.1515274047852, 533.1130027770996, 566.7418365478516, 252.08208465576172, 518.2253494262695, 526.5316390991211, 249.21746826171875, 521.3363075256348, 553.6090774536133, 228.95770931243896, 303.9022560119629, 442.4723434448242, 527.2004585266113, 567.7860488891602, 504.92506408691406, 367.1070022583008, 574.8620986938477, 497.61389923095703, 456.80596923828125, 111.12524032592773, 501.77952098846436, 598.8296966552734, 91.311767578125, 278.29895782470703, 514.9530715942383, 277.8352355957031, 566.3333587646484, 439.09700775146484, 257.3480987548828, 561.6405944824219, 559.762092590332, 518.1243286132812, 630.5026245117188, 504.1700096130371, 596.5899810791016, 451.95147705078125, 566.0270080566406, 393.7066650390625, 497.03680419921875, 315.55558013916016, 520.9128570556641, 604.0705795288086, 522.899299621582, 335.81410217285156, 474.7574768066406, 275.88541412353516, 632.8699035644531, 199.08484268188477, 515.5749588012695, 550.6421508789062, 237.59986114501953, 620.4510269165039, 629.1685562133789, 627.1275405883789, 471.96576595306396, 356.0754737854004, 572.8972625732422, 646.7595443725586, 544.7100372314453, 386.5696716308594, 300.59375381469727, 554.4733123779297, 215.45777130126953, 522.7154312133789, 495.76258850097656, 427.0187225341797, 344.1959228515625, 372.91908264160156, 248.85863494873047, 284.2132339477539, 493.107177734375, 498.92912673950195, 604.0894012451172, 243.42384338378906, 637.3521423339844, 255.39020538330078, 573.1568450927734, 495.7791442871094, 407.1089172363281, 627.0777206420898, 638.1846923828125, 468.42357635498047, 565.0302734375, 523.9417190551758, 385.0545539855957, 471.46209716796875, 391.7775344848633, 500.5258026123047, 487.8051986694336, 619.8840942382812, 523.8600311279297, 583.3591613769531, 267.1485824584961, 401.5631103515625, 230.46653747558594, 550.7060699462891, 530.9948806762695, 549.017204284668, 475.1426544189453, 302.9266586303711, 309.14313888549805, 176.98387145996094, 302.3330383300781, 568.4558639526367, 589.8160018920898, 543.1567230224609, 579.4667129516602, 444.8206481933594, 178.43448638916016, 391.8919324874878, 463.0096740722656, -31.112930297851562, 642.4803314208984, 653.2016220092773, 235.3990020751953, 581.1823348999023, 585.0302429199219, 178.78432846069336, 609.3302841186523, 376.25756072998047, 548.0845718383789, 593.8238143920898, 480.8126792907715, 501.4456100463867, 570.3545837402344, 455.7663040161133, 583.735969543457, 604.1013793945312, 365.5163040161133, 485.40513610839844, 194.46135711669922, 540.8652648925781, 617.6431884765625, 624.8784713745117, 552.8632049560547, 534.9868392944336, 566.3830032348633, 436.1260108947754, 521.4998550415039, 647.7212142944336, 591.4673385620117, 574.8724670410156, 557.7935409545898, 649.1192169189453, 527.9696044921875, 570.4720764160156, 571.1344223022461, 595.6227340698242, 316.8230743408203, 211.52313232421875, 521.694694519043, 548.1080474853516, 430.9859428405762, 584.1638259887695, 605.4179458618164, 434.7561149597168, 215.44121551513672, 495.39468002319336, 283.92786026000977, 490.2821807861328, 502.70145416259766, 472.9268264770508, 241.2988510131836, 372.56698513031006, 232.4585189819336, 607.6960906982422, 562.4416732788086, 490.84499645233154, 517.0350799560547, 505.61195373535156, 342.66571044921875, 255.8189697265625, 440.95763397216797, 314.95899963378906, 474.2463073730469, 212.98392486572266, 406.86608505249023, 592.5907669067383, 564.3867492675781, 131.82575225830078, 348.48841857910156, 407.44007110595703, 587.026496887207, 296.1204071044922, 537.2527046203613, 250.1056671142578, 451.3222723007202, 353.0717086791992, 443.7009735107422, 465.65479278564453, 561.2927322387695, 589.9759063720703, 520.4624176025391, 362.8220443725586, 619.4218521118164, 661.0931701660156, 308.57827377319336, 409.44244384765625, 259.07374572753906, 559.8741836547852, 448.646240234375, 118.70245742797852, 400.6539535522461, 603.1649322509766, 299.4312858581543, 414.6833267211914, 400.3098363876343, 539.2316284179688, 379.29002380371094, 543.6899566650391, 454.49988555908203, 372.02784729003906, 472.3887405395508, 640.6573104858398, 533.0237503051758, 537.9201431274414, 375.7714538574219, 543.7967300415039, 566.2629013061523, 335.2477445602417, 250.14932250976562, 595.8233261108398, 501.9526672363281, 105.87451934814453, 406.80399322509766, 506.5163269042969, 552.4067764282227, 601.1380310058594, 276.1091537475586, 298.54685974121094, 527.8332977294922, 480.14385986328125, 593.8003387451172, 383.4364013671875, 521.8945693969727, 598.8604965209961, 247.67652130126953, 615.1695022583008, 202.92050170898438, 349.58137035369873, 459.86802673339844, 433.99200439453125, 296.6177291870117, 522.1784782409668, 429.36734771728516, 535.0181503295898, 586.8044052124023, 570.6516647338867, 510.5824508666992, 387.5640563964844, 605.3164443969727, 214.62408351898193, 319.9262008666992, 563.2747955322266, 481.5041732788086, 297.64513397216797, 396.06119537353516, 251.80804443359375, 357.8363342285156, 272.1436767578125, 430.12359142303467, 587.8870620727539, 466.56189346313477, 413.37894439697266, 332.52960205078125, 234.72940063476562, 490.1537971496582, 416.2577133178711, 429.54798889160156, 343.5027084350586, 558.8232192993164, 547.2992095947266, 605.2204360961914, 377.4707717895508, 543.3758659362793, 571.9229049682617, 543.522087097168, 565.2773361206055, 583.0616912841797, 380.5448684692383, 507.06517028808594, 550.5162658691406, 593.8146133422852, 644.0564117431641, 570.8116149902344, 575.4917831420898, 530.9428367614746, 508.14090728759766, 568.7280654907227, 539.0886459350586, 402.81541442871094, 276.8680419921875, 385.9368324279785, 382.9795684814453, 360.2754211425781, 503.6051445007324, 483.6148452758789, 501.0034713745117, 471.8027763366699, 577.1437911987305, 359.6664581298828, 635.8129959106445, 557.3352584838867, 536.6304397583008, 456.3136749267578, 243.76836395263672, 254.9107666015625, 492.78692626953125, 557.141227722168]\n",
            "[516.6239096972806, 396.67634521529624, 500.5900461775269, 162.3931623931624, 497.0020855057352, 564.520266803489, 529.4350580781415, 405.0313317515362, 412.08969775755605, 320.8409031923177, 601.2245961438249, 269.60809758629637, 622.396100564392, 273.4222678296562, 344.92047203694204, 248.5917018741198, 268.3490378714033, 456.0637741766858, 535.1341485672568, 256.1104932364276, 530.0845653099714, 499.7433264887063, 573.4982134881643, 472.13955874807596, 515.3616840055971, 436.01847101077476, 546.6685022026431, 583.1965110312981, 631.5546434068752, 527.1421241662391, 620.8312214901166, 383.2221652129297, 552.4426598527712, 229.1434363912823, 616.4501039501039, 521.160669031931, 509.95248152059133, 405.6182657773217, 382.9410208939434, 525.5772190867111, 537.4556800453837, 462.2340425531915, 623.9543726235742, 496.5092402464066, 332.8800513149455, 418.02102025121764, 544.2565341533056, 540.5214557305812, 149.27575107296138, 282.95218295218297, 596.5366854797331, 576.7587285044294, 469.3070511650544, 145.46870942612307, 347.9790084859312, 651.43663417137, 614.3524526343109, 536.5904365904366, 589.4929430214323, 483.2867225995472, 181.88708834291688, 600.6029477445288, 174.3001430364597, 482.3499230374551, 409.8883986504023, 554.7460236018471, 587.7373011800923, 461.92919445869677, 467.766631467793, 249.87006237006239, 533.3941605839416, 626.6546947152386, 631.247112536348, 284.43854016753386, 298.2824916688029, 457.2857875833761, 653.0271934325294, 386.68506381510866, 340.72805139186295, 340.5644025566028, 354.18144956918394, 177.51915980698269, 568.163160595177, 582.4781939456132, 559.206118803037, 355.623020063358, 516.129883843717, 459.18419702411495, 474.70497691123654, 540.4566444330426, 586.7255487725679, 538.3823723446365, 491.81211498973306, 435.03118503118503, 762.1059473513162, 275.55156490507954, 301.44450076026357, 593.0309173846933, 578.5787583376091, 565.7773217034377, 489.3451143451143, 286.0937789584234, 363.9033264033264, 469.2406362237045, 343.7532671197073, 644.1508465879938, 514.6853146853147, 215.0590046177527, 324.96755774721, 224.17164584464965, 476.1513658210136, 568.4197024114931, 512.4340021119325, 516.222511103889, 640.1592540206401, 626.1451915349585, 495.3009503695882, 429.1944586967676, 558.46587993843, 578.3063251437533, 604.547817047817, 577.5303354746609, 507.7988712160082, 498.99948691636735, 508.9020010261672, 368.788501026694, 607.0426195426195, 308.8502465611212, 169.89219037601893, 613.8758029978587, 622.9604925602873, 448.4864032837352, 672.3519826181423, 467.6644156476243, 496.04925602873266, 576.6546947152385, 440.8671113391483, 402.17744556386094, 581.493839835729, 486.0697793740379, 425.282340862423, 164.87942534633146, 289.0606198358157, 413.0258489609732, 549.3399038754031, 446.9594594594595, 554.5262043409211, 614.8024628014367, 515.9825551564905, 522.0542231491137, 457.0687579116366, 205.02301117685735, 444.5613134940996, 547.6654694715238, 565.514553014553, 460.4204050243527, 541.5084658799384, 575.9753593429158, 427.2069112368437, 154.7709303584967, 570.5866376969038, 485.3001539250898, 535.7588357588357, 513.5197537198563, 380.6439674315322, 136.9049310785846, 625.3568647806904, 570.8160083160083, 587.4809934110492, 541.3032324268856, 236.08322686621648, 602.4609046805973, 299.71765913757696, 589.0200102616726, 589.5534082005746, 466.29555271643244, 571.9074844074844, 647.2804210960883, 575.3206772703951, 436.8762993762994, 529.8225851872712, 491.25192406362237, 633.991790661878, 463.56916578669484, 763.2705015707941, 719.3153504495721, 612.8014738722644, 388.2683057188669, 382.1741716886946, 242.4234459193061, 550.6783476303461, 304.442036836403, 542.9054054054054, 738.3002924926877, 482.7603899435608, 559.4526102382159, 156.5124077800134, 121.08955839867933, 651.5072765072765, 595.9979476654694, 464.18676244227805, 470.0205338809035, 329.2201128783992, 578.5274499743458, 272.0112878399179, 543.8274319116468, 244.2393811914778, 466.1251473376723, 489.6821261073476, 636.8933022596008, 390.43012715215673, 513.0066700872243, 616.2904053360699, 624.7562852744998, 185.74677786201667, 519.1991786447638, 260.54386865059, 567.2410056350238, 615.5282231495717, 236.7723492723493, 235.99281682914312, 487.3814165042235, 547.5049636002647, 575.1154438173422, 433.56118482777106, 552.0822778397, 269.5821437840644, 454.9830200283445, 411.7840851495185, 480.8054997870658, 141.6030534351145, 120.71193144363876, 141.65783898305085, 524.0311492364787, 438.6865059004618, 395.5629970699037, 610.9030271934325, 397.66546947152386, 507.3884043099025, 452.33315081827584, 364.520266803489, 660.2647287827666, 667.4090168386746, 531.3929313929315, 568.1888147768086, 641.3902921150889, 314.35245263431096, 576.5219692959238, 187.95146324054247, 273.36726957651905, 338.48948871009605, 553.6942021549512, 475.05197505197503, 437.09594663930216, 438.1708610299253, 365.9418051522827, 206.54181631605954, 279.5792714212417, 588.3316008316009, 628.1704781704782, 463.80415278133813, 428.68137506413547, 543.689071318625, 586.2493586454592, 432.72518316333856, 552.4622555476745, 636.5433350228079, 455.748767194394, 641.6623909697281, 476.03240982749605, 575.93147751606, 576.2442278091329, 649.1580662683324, 518.477130977131, 503.64289379168804, 383.051742344245, 302.18295218295214, 620.0476238727329, 226.8362315079159, 187.17653824036805, 675.2580119500271, 511.5187275525911, 231.01768777236606, 484.71010774756286, 281.10637126737305, 590.4053360697794, 561.8778860954335, 595.3858185610011, 491.71648596615665, 564.54637607704, 479.22760264326723, 659.8235141448222, 476.79671457905545, 470.39507439712673, 605.6800416883794, 226.70688236907046, 279.3963680999314, 544.6553507331021, 485.9158542842483, 495.0312639571237, 570.4126654554892, 496.9374513366208, 344.08248049447764, 284.21330517423445, 435.8388917393535, 568.5223191380195, 248.6659825551565, 536.4802462801437, 360.6687898089172, 551.7701385325809, 408.34188911704314, 582.7769840238992, 368.72566831040746, 576.5777321703438, 293.0214323052797, 607.0986060918947, 551.2068518037893, 438.91739353514623, 441.48590726068323, 467.6715176715177, 752.3832737514895, 636.8243243243244, 168.5710515899195, 382.18653038875703, 458.32402858418936, 123.62085568854037, 214.8974824811835, 351.0948905109489, 593.9969214982042, 240.30625486633792, 241.3801949717804, 299.85743269178045, 638.6726327496573, 528.7070292457671, 321.04012671594506, 450.14692471375014, 493.6377629553617, 557.8761542639869, 532.093381221139, 595.068777575915, 644.7507953340404, 437.66033863519755, 414.8908523908524, 570.2154951257055, 556.4356435643565, 565.2906029331884, 217.5966779133143, 532.0171450837771, 546.1005643919959, 222.54901960784312, 516.9968717413973, 537.058212058212, 287.602215774202, 192.429467970826, 414.977192093259, 587.5912408759124, 499.50339780449553, 430.8510638297872, 440.66187788609545, 606.0472359200622, 533.1452026680349, 455.57526609224533, 141.91427820141993, 511.03484688489965, 597.4516161718512, 189.5965898560573, 236.047763029775, 525.910723447922, 238.45134697482703, 555.2591072344792, 480.0571020699501, 258.57773163768496, 563.9381652306132, 654.1559774243202, 528.5787583376091, 647.8983858736865, 549.8572369866023, 615.1071615263983, 498.5048150025342, 618.1075561606535, 361.69218790552816, 432.6064648537712, 321.6008209338122, 522.8746580200628, 596.0836964231432, 466.52129297075425, 327.76211227890286, 511.37399939203567, 252.48656329153025, 655.3104155977423, 204.4900077861407, 520.702924576706, 552.0266803488969, 209.102656137832, 654.8336798336798, 647.0754232939969, 606.7484040936265, 485.98562628336754, 353.0801911842804, 547.8450487429451, 678.2341313419723, 521.8323064559336, 403.4043659043659, 219.69775924960916, 599.9133073255309, 190.45664443304258, 686.3045738045738, 532.555156490508, 510.58587333455006, 355.79784504874294, 412.1600820933812, 228.6529976641578, 192.81079678172853, 498.87121600820933, 599.4948385679771, 620.7469098384419, 193.43252950230888, 632.9325666492421, 354.53549917868224, 618.6867376070594, 508.74807593637763, 406.62681912681916, 663.0323242688559, 623.1880385200202, 491.4597060314243, 578.2744282744284, 591.2880812399786, 420.4207285787583, 479.67999026586364, 335.8882337862087, 417.88096459722937, 404.2072857875834, 593.9712673165726, 544.0225756798358, 593.6121087737301, 215.20892810796784, 382.811698306824, 192.79117496151875, 543.2336543335023, 531.1796556549249, 531.2724474089276, 682.9781704781705, 217.83026213340253, 219.69031407862946, 132.08833151581243, 292.5818373812038, 600.6866904868244, 602.2807906741003, 556.695741405849, 628.7326834273987, 530.015392508979, 155.6197551245013, 525.765575501584, 433.2478193945613, 152.13545615365177, 662.6299376299376, 665.8029758850693, 206.21683093252463, 624.8075936377629, 635.6029106029106, 134.34130949250593, 631.1045515641885, 401.7112497683326, 552.9902050252479, 597.2267359982667, 439.9113660062565, 435.9415084658799, 578.9892252437147, 452.0010261672653, 616.9285352255448, 632.4781939456132, 342.15176715176716, 453.28542094455855, 251.51122625215888, 528.9635710620831, 614.8772728448388, 608.5921940873703, 507.5423293996921, 506.5931246793227, 569.7793740379682, 428.7941787941788, 512.5912408759125, 663.9302206259621, 605.8364575944878, 608.2606464853772, 547.271399890491, 638.2412569690827, 599.9477260846837, 545.5361723961005, 591.0199844277187, 582.1275490323419, 293.44190382190055, 203.80147835269273, 481.04885319705545, 563.7506413545408, 374.01986408782017, 587.9681888147769, 628.4248332478194, 498.4927234927235, 210.46690610569524, 573.5662148070907, 195.30516431924883, 515.6747049769112, 622.7130162049137, 539.5587480759364, 201.84710107747563, 318.48049281314167, 233.1522574693794, 635.3771164699846, 529.4766546947153, 540.1531151003169, 633.2984840564559, 517.9066187788609, 377.86140669608096, 308.87634684453565, 473.3681812089532, 239.3367574810183, 524.5212280879522, 184.84541307653322, 387.6979936642028, 572.6013340174449, 581.9394561313494, 171.84076943628108, 490.94508975712773, 326.30452571284695, 591.9189327860441, 286.3205284327835, 544.5613134940995, 297.77331629859464, 468.8911704312115, 389.7742019205814, 582.4948665297741, 627.9814692256783, 583.8635197537199, 596.6735966735966, 548.6059708857637, 462.3284054910243, 747.020907810638, 708.5438172633428, 371.13937191798595, 461.50532184490623, 267.22986389400336, 487.7858627858628, 500.3591585428425, 157.45478901540523, 327.3653946680606, 564.3483912902177, 203.18870883429167, 497.51647237709074, 371.68891170431215, 516.8377823408624, 388.32078899558786, 529.8614674191894, 481.6316059517701, 400.38481272447405, 399.38429964084145, 653.1795038457371, 459.2173503064592, 538.1221139045664, 255.8475153165419, 503.4376603386352, 578.8738587279828, 263.75395987328403, 297.4339995065384, 627.6471780322221, 510.9799897383274, 139.6473417045151, 435.24884556182656, 479.5023088763469, 501.71883016931764, 556.6649771920933, 210.2777056838827, 243.78406436542954, 553.1041559774244, 478.19394561313493, 630.6567470497691, 396.1394264869794, 541.8872056944698, 642.7655207798871, 190.4922359812428, 655.9759977239221, 196.34643185701142, 297.70327349524814, 395.6131349409954, 458.1348200709579, 216.67511403953372, 598.5930171964566, 556.4168377823408, 490.93448516669685, 590.9021794221997, 619.6716630977874, 498.0246280143664, 368.85394304632337, 618.9071318624935, 235.89676746611053, 317.5966779133143, 578.2994640464493, 569.0865892291447, 310.68463388769624, 518.7434002111933, 206.1313494099538, 396.6649563878912, 166.97465681098205, 341.73706441393875, 534.5007841087297, 520.4261954261954, 456.04484887877805, 367.4621342782778, 260.73189722294313, 588.6339937434828, 410.3115230013399, 456.56747049769115, 350.2052334530528, 599.1694783285751, 533.9404822986147, 543.7660338635197, 458.49153412006154, 561.3399374348279, 580.9727418492785, 541.9236800836383, 591.3466409970615, 553.9027803127091, 467.69483482387295, 475.9095634095634, 526.0133401744484, 611.0995037868895, 620.8543817263343, 590.6618778860955, 675.5002565418164, 532.9399692149819, 497.6273042526008, 557.766015696295, 474.2688558234993, 386.20497930438006, 301.94971780400203, 355.96976016684044, 278.8900152052712, 299.34002111932415, 477.0395074397127, 557.4838993352818, 572.3191380194971, 512.1621621621622, 487.96818881477685, 390.79440672813865, 655.51043633448, 557.9014879425346, 464.9820420728579, 344.6343916104008, 302.8732683427399, 169.93243243243245, 520.1388185226466, 555.6670925351341]\n",
            "[10.700046511650187, 5.161057686905976, 2.3932123676363153, 15.627154621325051, 2.0121839561832484, 3.608099132243999, 9.996256691308076, 22.609783719299518, 6.4643473411584145, 8.28954629785439, 27.222032685285015, 2.7677158433563953, 0.10000319339580495, 4.439573514526395, 10.097133525537714, 21.68123322979456, 9.082301233158956, 10.675496595624164, 7.88678055069781, 14.171132702751363, 18.454595040897402, 11.894396800240546, 6.465008546110189, 3.549122473541169, 13.042918298095591, 8.352130617863097, 1.546774177484031, 1.1147474120213088, 0.9143225093193408, 3.290448617814506, 3.6663146706072833, 9.781342642647884, 6.485898321015313, 0.796830911178604, 7.422090860307871, 3.4519236024151057, 7.835802113299549, 2.667035465289937, 8.368536328897266, 12.28218786772438, 5.605963491351651, 6.134856615845708, 0.6581341768458899, 3.412004358813816, 4.184057855525218, 19.037511941473863, 3.3053742167832363, 8.204917677705959, 9.931358185225733, 20.87632005903144, 2.4794025771393144, 21.64961819740078, 27.24385909945166, 45.479699545781656, 2.0313799883338928, 4.5437721568217215, 7.179045526948415, 5.842867207222315, 3.481213353738784, 7.060974150106052, 17.57968345869031, 21.26214114981838, 31.46059656638313, 17.027242073162157, 8.053987661383553, 2.9109538689040666, 4.419804771286802, 9.852507616988184, 8.78113813780792, 45.863845341167156, 0.8888028458377698, 4.9110581533134035, 7.192544471874726, 0.9322783244973836, 5.306589243296462, 12.265530067647159, 3.2895087316119946, 17.711852348797244, 2.218499569631572, 3.559890877634589, 10.036920841175542, 11.6801382180102, 3.0865294978856177, 0.302425899476217, 1.3499370149360927, 28.7400994302612, 20.486134592574995, 5.496039894547732, 7.385114225329023, 0.42416526260987975, 0.926572996109298, 1.0504516593709565, 6.949803347329023, 5.016132191574844, 13.861253048829687, 11.196358169571283, 20.736600875694144, 33.84481738819066, 0.9822553192248177, 0.01589843149445181, 1.7890382609719406, 28.25040943110333, 15.463114443092973, 15.211432387468932, 16.23104529079149, 0.4517986551778869, 2.918070129726248, 13.261138737635413, 1.0353423990615644, 11.357490783573093, 14.287358120264104, 0.1605697874935317, 13.433405550669375, 3.3463367449149595, 4.722361575811849, 7.85499267695631, 7.45505197637054, 6.0510147240656424, 3.9037930209392884, 2.830765507724007, 0.039415390407545395, 7.542024753488323, 0.555638938765824, 6.275265633309137, 8.561710539776136, 21.831135182709907, 1.4635742950472201, 22.83397648851411, 14.90518862912205, 3.678373459477604, 0.2745944006126962, 16.911042941706285, 14.945334509243812, 16.168803436926417, 2.324907223153415, 4.36590033309806, 4.927816142042545, 1.4820860854640052, 30.06730522740048, 10.18824525175669, 11.40540847073814, 20.875179712780152, 18.60360874955903, 21.585193389207262, 8.04137979768637, 10.24076883628885, 2.2064675014741697, 2.6781308634754075, 14.379143904141314, 2.0878466277835352, 13.85867460890418, 54.97995001527208, 0.5958936340060919, 2.096686761522632, 0.5635198208619735, 4.962375870460358, 2.5694009304859944, 2.5960182393935884, 14.304419475089317, 129.36375454101133, 5.015502013099765, 0.7942786335964002, 2.2156006942944453, 1.709196224956833, 23.912845810003283, 39.17335158402132, 6.216795746501895, 3.5246665087968343, 0.0801901041859661, 0.12397899175706081, 2.339439098356686, 2.1939050452633753, 37.66970164246825, 1.220851781227025, 3.1540536746148957, 14.372161288886351, 6.214200200326888, 2.330351774831094, 4.436432516182559, 6.915710245901361, 1.9220313839341185, 2.926394131546065, 1.587420763213266, 4.212269913797229, 12.114756445882506, 11.894626256873805, 8.229212581537388, 29.835937183880834, 0.11757294583075627, 10.382377959119776, 3.784452642902177, 37.86688549815548, 0.9373152613565628, 9.602766677555877, 0.5862098784664177, 2.605116130001497, 72.2510299921281, 30.939938778607477, 3.2765989336303676, 5.949534986958345, 13.082948315534942, 4.962106243498515, 20.918026680605603, 4.01976417405162, 5.708041101786854, 6.761169634034982, 2.1042306134668682, 14.312712301837552, 4.653505162329092, 1.6405957190501703, 26.14839950793348, 9.740004970472144, 1.4233010066606206, 2.39473608669616, 18.700090182557393, 12.435243207898699, 11.371541351162119, 4.298931165333179, 12.924254654978762, 1.2488345741872309, 26.827618543888427, 11.857896143055612, 7.745117496999192, 2.078606679635444, 1.6000455972127352, 0.2234752222694577, 2.370291649210709, 1.5392138435123894, 1.9122384122000684, 10.511829540431757, 35.10831342424665, 15.390293988769052, 36.32705089991996, 16.05075439233459, 22.74023369950858, 1.7963082990696762, 8.035512980662686, 1.8324983140421118, 12.516405397797634, 17.029299109124786, 9.588495115314641, 0.7325217007091113, 12.57469975206125, 2.662366326799213, 2.733122150627139, 1.8190961585817487, 1.5266622665536411, 1.9114730286426371, 27.050711144869332, 12.323224399282495, 0.07344221428956833, 0.8014481989937271, 19.59985952064297, 7.4086225769136, 10.353477557424211, 16.981322912849066, 26.835529651956918, 5.321866495234298, 2.445258299249922, 2.5985212968355658, 4.049831722451171, 22.257727526534037, 1.5752933163620944, 6.631242813839504, 8.763556879138697, 1.286973811829183, 1.9939362703401302, 12.366591304744302, 2.235621985675398, 3.4326668085156866, 4.295971945309334, 1.464926512389328, 8.40755184053247, 8.387179387840053, 1.8622057941160057, 8.466421455157205, 12.703925131111177, 2.297671818864721, 5.821073613286832, 19.782574276550562, 17.43406311717607, 8.011263541576463, 11.031598755268854, 9.3107904511128, 28.956960876043564, 0.6933896406297441, 4.059658513484127, 10.572048442972031, 8.386971559308854, 0.4136243500743624, 16.737218492027733, 2.838485318342834, 16.100895263119877, 12.798073854329909, 11.419880612401343, 45.08375082860319, 12.40397232130588, 7.065158772962597, 9.119617271836207, 4.029465569371071, 4.520653095569937, 9.791287625048277, 7.2715980898813575, 34.02428570640544, 6.762454235488488, 0.07385180576479908, 9.233742519808814, 5.14390136526118, 10.892058362813446, 5.181190120391241, 12.516965671025929, 0.03278118197140047, 9.347285695672408, 2.3662853942803226, 34.56597001073447, 1.1601890221081645, 0.06884504588200648, 19.344562917360747, 17.52273284808858, 1.1926555798885223, 9.389710324217617, 0.7286031141205326, 46.44411282548326, 13.355757931014312, 9.233799949128821, 20.75920490058578, 33.914849478495874, 8.92273742493374, 1.7650869191079075, 10.55847204636647, 12.365235537775183, 14.577383923990544, 5.536963422763912, 2.247815634267377, 4.194555257027613, 3.111025667979469, 8.145649122431054, 16.49040185322832, 2.150030074403027, 1.7623746722874392, 3.104750018370793, 11.368113459847594, 9.985637194797455, 3.320855438154159, 4.191435443973212, 0.2567234634952255, 15.84831490680462, 2.5923592472448935, 3.583392248396961, 11.983179571344998, 0.839354360041094, 3.0817637685814434, 20.390839585118204, 57.92916709515465, 6.6257018157725955, 10.277685940191608, 13.670107427655637, 17.19248401029611, 16.691908086228306, 5.145661159376677, 6.6644702529944, 0.2701426608587498, 21.695518073095577, 1.8110948701155543, 0.23065976325450321, 51.838918807849154, 17.899426053701877, 2.0835574110077646, 16.516530151970077, 1.9944295169377073, 8.53233795352055, 0.47553703677975345, 0.4074153674723858, 14.42987423361253, 1.977837656058528, 2.6849521068816493, 8.3089253537784, 3.010399098808414, 9.338593439968337, 8.425806736210898, 8.85130456339752, 14.893522076057325, 1.8797342547506122, 0.37519526607531656, 1.3398928965162789, 12.084766011818902, 2.456656700789448, 7.160419307381259, 9.26736477655159, 3.424409485819034, 2.6432416736512363, 0.9848160118564953, 0.250808433591575, 13.628332386367829, 5.250593238562294, 2.767353918259085, 3.358745792697252, 2.8848302443679477, 0.8483292679414793, 4.572864879910937, 4.640666919421656, 4.384115450974605, 4.173156191744702, 36.82149278235391, 7.574426903476594, 13.126938649292653, 23.836230856560945, 6.908686835743223, 16.366914003046624, 3.2608185683617683, 9.52081512903256, 8.83681276475125, 47.40524840499337, 1.1554160851283668, 16.775075506687944, 2.6834621855242147, 25.84431585013392, 0.698269597366373, 27.96484245585045, 7.359118879836555, 2.54918539503039, 0.11856033267658389, 5.422752754387074, 2.4064412241299022, 4.687287562690004, 2.2902888644841077, 11.389771639497976, 8.412091076650468, 1.7132032322924504, 16.639255286991652, 19.77712435280027, 20.68194112804342, 4.362639802220891, 3.7061962964882538, 1.7272133174569695, 24.134525833645124, 4.898338302532552, 19.54205762872041, 1.3755435719377063, 0.034785778538060586, 3.3400483993256955, 30.430769978155258, 39.06546118227332, 40.71769171163936, 33.98902797010046, 3.3328114404345346, 5.365663505556674, 2.069597598830825, 2.4320319658270444, 7.835757830685032, 16.074013230507507, 14.660562372949546, 25.462610952871874, 6.869475931649186, 120.45080817086355, 3.040853584296123, 1.8926550844926167, 14.151207256317145, 6.982190866769884, 7.956645074991436, 33.082168944219376, 3.450183870734054, 6.336314716859763, 0.8871103217180814, 0.5697872183315522, 9.297625941297744, 15.025892306291741, 1.4913302574578564, 0.8330241815545375, 5.38029346785731, 4.486607573623642, 6.828705594258231, 7.085980196960373, 22.682832088879756, 2.2500025486817727, 0.44983214600317156, 2.6760575382607206, 8.929476997508155, 5.604836155856694, 0.5960852494598337, 1.7098721165512591, 1.7379567685098236, 2.4413719737364, 2.371781831936886, 5.489123723075547, 1.9226550238518425, 1.7043648982393504, 11.997398850435243, 4.5708983714850335, 3.364617550915415, 2.3182522558698815, 7.96790445208894, 3.788811560121837, 8.449420688118234, 2.774736332291222, 15.23076291460828, 0.6470354856571733, 3.661040456835385, 12.785865375613062, 2.363463929546912, 13.629034061950282, 45.376524604283844, 4.924136077590882, 19.27237088662755, 12.349335792718524, 19.54536365650606, 16.982670379407487, 0.2975474031328751, 4.35662932362627, 6.225962616444383, 9.128544716219562, 18.358389768391866, 2.37391541210617, 9.314445884961886, 17.17754617988865, 6.84679463541692, 31.596585058092597, 9.584916305136684, 15.222726558834864, 4.944078045678391, 3.4909860843398643, 3.0162427858834615, 23.28610219172578, 29.016823703950266, 24.864977038201, 0.8265381672806762, 3.4226950911797194, 1.3421094544604268, 16.008032478147808, 3.7469031703740976, 9.416347480293348, 23.82748775897366, 25.848959626179397, 3.8657643012995457, 1.1225048902558077, 5.130012208541008, 21.522874202977675, 17.081055478458797, 6.696924867765987, 16.856497283348666, 11.281100245848577, 3.052098312522218, 14.778681870197833, 10.335159739869072, 24.61171986558962, 22.387387328614263, 6.878116702346963, 47.36610492581662, 16.64932725948343, 7.700236348748223, 4.332857782896617, 2.3255940572317733, 2.6098310777729337, 5.633293176238313, 7.082427837728428, 18.27924657137519, 1.9171136396917157, 16.072215030521345, 0.037532517602650084, 46.87320820470218, 8.0166965808083, 2.1785328930799817, 27.10624125655046, 15.897535949226047, 5.070340955113554, 1.766668496475205, 24.184364660396984, 6.535307934019172, 5.633761825100264, 10.102859053904572, 7.9891955908732175, 31.306908095450908, 22.463648523675683, 4.568914909575128, 0.4077664027398262, 5.844131292825664, 3.206705586576961, 3.689446085348159, 6.830643965721696, 30.01922100681179, 6.220729966829575, 3.3481992974338812, 17.42610897400114, 16.2418499582898, 5.269805877817216, 36.895153142917906, 12.765691673681975, 22.83350923948044, 8.979541363431496, 0.6934775928232696, 7.910640631660614, 2.5215264759899747, 5.072499210835671, 2.1959170876932816, 9.017793747506389, 0.7334846726642242, 2.5980775443042714, 15.389998219597956, 4.197021189094817, 23.649882540714955, 22.159023920615876, 9.788770481001555, 62.985019376852755, 25.863898363109723, 9.988063544760713, 10.350036650047798, 9.355637847177281, 9.506430450611346, 9.972886656803498, 16.73029380575338, 1.449189209466047, 5.917960291090476, 1.913884881704012, 6.733697307447535, 2.5019131792746836, 11.301625773870267, 17.671157764342603, 3.2002126163763736, 1.5577042138346209, 0.2949505755649979, 4.408464184813994, 5.264265139634935, 18.63393817198218, 6.546539358300368, 4.658232752531707, 2.8284903419970955, 3.7371130332228177, 3.3606812355831517, 14.805097767351564, 0.3747387264740343, 2.112746415871911, 1.9653491761671886, 13.667309020114576, 4.300937588699415, 8.306573688568655, 8.418432017116489, 37.32279665859001, 20.356583057420064, 5.568854706311103, 13.250437213968139, 12.460821577935057, 7.88019670471353, 18.274880295076557, 7.965300439908909, 3.004901117056309, 0.10149273140246169, 15.408852644295523, 32.40514761005256, 19.51473126483332, 50.00713104187374, 5.258575456991096, 0.2652910720892965]\n",
            "10.373276789344361 as a % of the y_test value\n"
          ],
          "name": "stdout"
        }
      ]
    },
    {
      "cell_type": "markdown",
      "metadata": {
        "id": "BZsoRhmGzy8n",
        "colab_type": "text"
      },
      "source": [
        "# Success! We've dropped our regression analysis accuracy down to only a 10% error, from the 24% error above!"
      ]
    },
    {
      "cell_type": "markdown",
      "metadata": {
        "id": "lTb_ZD0G0uu9",
        "colab_type": "text"
      },
      "source": [
        "# Now we'll try the same thing for our classification analysis (At or below 50% occupancy prediction.)"
      ]
    },
    {
      "cell_type": "code",
      "metadata": {
        "id": "UlGJex9wz6vC",
        "colab_type": "code",
        "colab": {}
      },
      "source": [
        "X_classification = [feature(d) for d in encoded_data] # we can reuse the naieve feature table from above for the features here again\n",
        "y_classification = [value[-1] for value in tableRandom]"
      ],
      "execution_count": 0,
      "outputs": []
    },
    {
      "cell_type": "code",
      "metadata": {
        "id": "XsH1FB-az6mA",
        "colab_type": "code",
        "colab": {}
      },
      "source": [
        "N = len(X_classification)\n",
        "\n",
        "X_train_1 = X_classification[:N//2]\n",
        "\n",
        "X_test_1 = X_classification[N//2:]\n",
        "\n",
        "y_train_1 = y_classification[:N//2]\n",
        "\n",
        "y_test_1 = y_classification[N//2:]"
      ],
      "execution_count": 0,
      "outputs": []
    },
    {
      "cell_type": "code",
      "metadata": {
        "id": "eYvb4EW1z5Wm",
        "colab_type": "code",
        "colab": {
          "base_uri": "https://localhost:8080/",
          "height": 34
        },
        "outputId": "eb82cc6d-0a0b-483c-f691-a4a32d7250a6"
      },
      "source": [
        "len(X_classification), len(X_train_1), len(X_test_1)"
      ],
      "execution_count": 217,
      "outputs": [
        {
          "output_type": "execute_result",
          "data": {
            "text/plain": [
              "(1305, 652, 653)"
            ]
          },
          "metadata": {
            "tags": []
          },
          "execution_count": 217
        }
      ]
    },
    {
      "cell_type": "code",
      "metadata": {
        "id": "yfmnXaNA09zf",
        "colab_type": "code",
        "colab": {
          "base_uri": "https://localhost:8080/",
          "height": 34
        },
        "outputId": "a9aaa5ff-18f0-4a75-da47-937e993ae5d2"
      },
      "source": [
        "len(y_classification), len(y_train_1), len(y_test_1)"
      ],
      "execution_count": 218,
      "outputs": [
        {
          "output_type": "execute_result",
          "data": {
            "text/plain": [
              "(1305, 652, 653)"
            ]
          },
          "metadata": {
            "tags": []
          },
          "execution_count": 218
        }
      ]
    },
    {
      "cell_type": "code",
      "metadata": {
        "id": "zDP3LfGO0_CH",
        "colab_type": "code",
        "colab": {}
      },
      "source": [
        "model = linear_model.LogisticRegression()"
      ],
      "execution_count": 0,
      "outputs": []
    },
    {
      "cell_type": "code",
      "metadata": {
        "id": "vtr7CmIv1A4u",
        "colab_type": "code",
        "colab": {
          "base_uri": "https://localhost:8080/",
          "height": 136
        },
        "outputId": "20ecdd51-828b-42c8-9cf5-1ea65d765831"
      },
      "source": [
        "model.fit(X_train_1, y_train_1)\n"
      ],
      "execution_count": 220,
      "outputs": [
        {
          "output_type": "stream",
          "text": [
            "/usr/local/lib/python3.6/dist-packages/sklearn/linear_model/logistic.py:432: FutureWarning: Default solver will be changed to 'lbfgs' in 0.22. Specify a solver to silence this warning.\n",
            "  FutureWarning)\n"
          ],
          "name": "stderr"
        },
        {
          "output_type": "execute_result",
          "data": {
            "text/plain": [
              "LogisticRegression(C=1.0, class_weight=None, dual=False, fit_intercept=True,\n",
              "                   intercept_scaling=1, l1_ratio=None, max_iter=100,\n",
              "                   multi_class='warn', n_jobs=None, penalty='l2',\n",
              "                   random_state=None, solver='warn', tol=0.0001, verbose=0,\n",
              "                   warm_start=False)"
            ]
          },
          "metadata": {
            "tags": []
          },
          "execution_count": 220
        }
      ]
    },
    {
      "cell_type": "code",
      "metadata": {
        "id": "A1YWlHkh1BRV",
        "colab_type": "code",
        "colab": {
          "base_uri": "https://localhost:8080/",
          "height": 51
        },
        "outputId": "83fdf8fe-919d-4039-81e8-8468fc8e25c9"
      },
      "source": [
        "predictionsTrain = model.predict(X_train_1)\n",
        "predictionsTest  = model.predict(X_test_1)\n",
        "\n",
        "\n",
        "correctPredictionsTrain = predictionsTrain == y_train_1 # this compares the elements from predictions, an array, against y, our collection of values from which it learned\n",
        "correctPredictionsTest  = predictionsTest  == y_test_1\n",
        "\n",
        "print('This is the accuracy of our model on our training dataset:',sum(correctPredictionsTrain) / len(correctPredictionsTrain)*100, '%')# taking the sum of a boolean array treats all 'True' items as a 1, and 'False' as 0, which makes sense\n",
        "\n",
        "print('This is the accuracy of our model on our testing dataset:',sum(correctPredictionsTest)  / len(correctPredictionsTest)*100, '%')"
      ],
      "execution_count": 221,
      "outputs": [
        {
          "output_type": "stream",
          "text": [
            "This is the accuracy of our model on our training dataset: 90.03067484662577 %\n",
            "This is the accuracy of our model on our testing dataset: 87.28943338437979 %\n"
          ],
          "name": "stdout"
        }
      ]
    },
    {
      "cell_type": "markdown",
      "metadata": {
        "id": "VYNaJDLn1FbS",
        "colab_type": "text"
      },
      "source": [
        "# Once again, a significant improvement in accuracy! From only 75/71 % accuracy to over 90% on the training, and 87% on the testing! Success!"
      ]
    },
    {
      "cell_type": "code",
      "metadata": {
        "id": "D038s3pr1DNb",
        "colab_type": "code",
        "colab": {}
      },
      "source": [
        ""
      ],
      "execution_count": 0,
      "outputs": []
    }
  ]
}