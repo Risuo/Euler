{
  "nbformat": 4,
  "nbformat_minor": 0,
  "metadata": {
    "colab": {
      "name": "Euler 121",
      "version": "0.3.2",
      "provenance": [],
      "collapsed_sections": [],
      "include_colab_link": true
    },
    "kernelspec": {
      "name": "python3",
      "display_name": "Python 3"
    }
  },
  "cells": [
    {
      "cell_type": "markdown",
      "metadata": {
        "id": "view-in-github",
        "colab_type": "text"
      },
      "source": [
        "<a href=\"https://colab.research.google.com/github/Risuo/Euler/blob/master/Euler_121.ipynb\" target=\"_parent\"><img src=\"https://colab.research.google.com/assets/colab-badge.svg\" alt=\"Open In Colab\"/></a>"
      ]
    },
    {
      "metadata": {
        "id": "OOt1Bu_nAW6i",
        "colab_type": "text"
      },
      "cell_type": "markdown",
      "source": [
        "https://projecteuler.net/problem=121\n",
        "\n",
        "<h2>Disc game prize fund</h2><div id=\"problem_info\"><h3>Problem 121Published on Friday, 19th May 2006, 06:00 pm; Solved by 8026;<br />Difficulty rating: 35%</span></h3></div>\n",
        "<div class=\"problem_content\" role=\"problem\">\n",
        "<p>A bag contains one red disc and one blue disc. In a game of chance a player takes a disc at random and its colour is noted. After each turn the disc is returned to the bag, an extra red disc is added, and another disc is taken at random.</p>\n",
        "<p>The player pays £1 to play and wins if they have taken more blue discs than red discs at the end of the game.</p>\n",
        "<p>If the game is played for four turns, the probability of a player winning is exactly 11/120, and so the maximum prize fund the banker should allocate for winning in this game would be £10 before they would expect to incur a loss. Note that any payout will be a whole number of pounds and also includes the original £1 paid to play the game, so in the example given the player actually wins £9.</p>\n",
        "<p>Find the maximum prize fund that should be allocated to a single game in which fifteen turns are played.</p>\n",
        "\n",
        "</div><br />\n"
      ]
    },
    {
      "metadata": {
        "id": "1RrlvjE3AXTg",
        "colab_type": "code",
        "colab": {}
      },
      "cell_type": "code",
      "source": [
        "from itertools import product as product\n",
        "from itertools import permutations as permutations\n",
        "from itertools import combinations as combinations"
      ],
      "execution_count": 0,
      "outputs": []
    },
    {
      "metadata": {
        "id": "bbeUk4j8HoGg",
        "colab_type": "code",
        "colab": {
          "base_uri": "https://localhost:8080/",
          "height": 68
        },
        "outputId": "0164c221-bd49-42e0-c52b-b039be389021"
      },
      "cell_type": "code",
      "source": [
        "Red = 0\n",
        "Blue = 1\n",
        "\n",
        "bag = [Blue,Red]\n",
        "\n",
        "a = set(product(bag,repeat=15))\n",
        "table = []\n",
        "\n",
        "for item in a:\n",
        "  if sum(item) > 7:\n",
        "    table.append(item)\n",
        "\n",
        "    \n",
        "def findValue(cell):\n",
        "  length = len(cell)\n",
        "  value = 0\n",
        "  outWeights = []\n",
        "  for a in range(0,length):\n",
        "    value += 1\n",
        "    if cell[a] == 1:\n",
        "      outWeights.append(1)\n",
        "    else:\n",
        "      outWeights.append(value)\n",
        "  return(outWeights)\n",
        "      \n",
        "\n",
        "  \n",
        "def multi(cell):\n",
        "  out = 1\n",
        "  for a in cell:\n",
        "    out *= a\n",
        "  return(out)\n",
        "\n",
        "sumTable = []\n",
        "\n",
        "print(len(table))\n",
        "\n",
        "for item in table:\n",
        "  sumTable.append(multi(findValue(item)))\n",
        "  \n",
        "print(sum(sumTable))\n",
        "print(16*15*14*13*12*11*10*9*8*7*6*5*4*3*2*1)\n"
      ],
      "execution_count": 78,
      "outputs": [
        {
          "output_type": "stream",
          "text": [
            "16384\n",
            "9219406943\n",
            "20922789888000\n"
          ],
          "name": "stdout"
        }
      ]
    }
  ]
}